{
  "nbformat": 4,
  "nbformat_minor": 0,
  "metadata": {
    "colab": {
      "name": "citations_work3.ipynb",
      "provenance": [],
      "collapsed_sections": [],
      "machine_shape": "hm",
      "mount_file_id": "13wgCPU7JwPXgbmaTm1186yi4sSgv-kVW",
      "authorship_tag": "ABX9TyNCm+pDDy+GapUFDUgTbKTd",
      "include_colab_link": true
    },
    "kernelspec": {
      "name": "python3",
      "display_name": "Python 3"
    },
    "language_info": {
      "name": "python"
    }
  },
  "cells": [
    {
      "cell_type": "markdown",
      "metadata": {
        "id": "view-in-github",
        "colab_type": "text"
      },
      "source": [
        "<a href=\"https://colab.research.google.com/github/mharrisonbaker/DATA620/blob/main/citations_work3.ipynb\" target=\"_parent\"><img src=\"https://colab.research.google.com/assets/colab-badge.svg\" alt=\"Open In Colab\"/></a>"
      ]
    },
    {
      "cell_type": "code",
      "metadata": {
        "colab": {
          "base_uri": "https://localhost:8080/"
        },
        "id": "-P1gRAAn6EvC",
        "outputId": "3fdb0972-2837-4cb9-ef56-a46582bb6859"
      },
      "source": [
        "from google.colab import drive\n",
        "drive.flush_and_unmount()\n",
        "drive.mount('/content/drive')"
      ],
      "execution_count": null,
      "outputs": [
        {
          "output_type": "stream",
          "text": [
            "Mounted at /content/drive\n"
          ],
          "name": "stdout"
        }
      ]
    },
    {
      "cell_type": "code",
      "metadata": {
        "colab": {
          "base_uri": "https://localhost:8080/"
        },
        "id": "1avQ2LWwNRC3",
        "outputId": "736536c6-f13b-47ce-a79a-18cee76730e6"
      },
      "source": [
        "# import nltk\n",
        "# nltk.download('stopwords')"
      ],
      "execution_count": null,
      "outputs": [
        {
          "output_type": "stream",
          "text": [
            "[nltk_data] Downloading package stopwords to /root/nltk_data...\n",
            "[nltk_data]   Package stopwords is already up-to-date!\n"
          ],
          "name": "stdout"
        },
        {
          "output_type": "execute_result",
          "data": {
            "text/plain": [
              "True"
            ]
          },
          "metadata": {
            "tags": []
          },
          "execution_count": 6
        }
      ]
    },
    {
      "cell_type": "code",
      "metadata": {
        "id": "W4-R6LzO9fP8"
      },
      "source": [
        "import matplotlib.pyplot as plt\n",
        "import pandas as pd\n",
        "import numpy as np\n",
        "import networkx as nx\n",
        "import random\n",
        "import string\n",
        "import re\n",
        "import json\n",
        "from itertools import islice\n",
        "from nltk.corpus import stopwords\n",
        "from nltk.stem.snowball import SnowballStemmer\n",
        "from sklearn.feature_extraction.text import CountVectorizer\n",
        "from sklearn.feature_extraction.text import TfidfTransformer\n",
        "from sklearn.feature_extraction.text import TfidfVectorizer\n",
        "from sklearn.metrics.pairwise import cosine_similarity\n"
      ],
      "execution_count": null,
      "outputs": []
    },
    {
      "cell_type": "code",
      "metadata": {
        "id": "zQxHLady9gJy"
      },
      "source": [
        ""
      ],
      "execution_count": null,
      "outputs": []
    },
    {
      "cell_type": "code",
      "metadata": {
        "id": "GjYj6Q8cFOL2",
        "colab": {
          "base_uri": "https://localhost:8080/",
          "height": 289
        },
        "outputId": "712975f8-8c8b-4cc1-bbae-62086efc504b"
      },
      "source": [
        "df.head()"
      ],
      "execution_count": null,
      "outputs": [
        {
          "output_type": "execute_result",
          "data": {
            "text/html": [
              "<div>\n",
              "<style scoped>\n",
              "    .dataframe tbody tr th:only-of-type {\n",
              "        vertical-align: middle;\n",
              "    }\n",
              "\n",
              "    .dataframe tbody tr th {\n",
              "        vertical-align: top;\n",
              "    }\n",
              "\n",
              "    .dataframe thead th {\n",
              "        text-align: right;\n",
              "    }\n",
              "</style>\n",
              "<table border=\"1\" class=\"dataframe\">\n",
              "  <thead>\n",
              "    <tr style=\"text-align: right;\">\n",
              "      <th></th>\n",
              "      <th>abstract</th>\n",
              "      <th>authors</th>\n",
              "      <th>n_citation</th>\n",
              "      <th>references</th>\n",
              "      <th>title</th>\n",
              "      <th>venue</th>\n",
              "      <th>year</th>\n",
              "      <th>id</th>\n",
              "    </tr>\n",
              "  </thead>\n",
              "  <tbody>\n",
              "    <tr>\n",
              "      <th>0</th>\n",
              "      <td>AdaBoost algorithm based on Haar-like features...</td>\n",
              "      <td>[Zheng Xu, Runbin Shi, Zhihao Sun, Yaqi Li, Yu...</td>\n",
              "      <td>0</td>\n",
              "      <td>[0a11984c-ab6e-4b75-9291-e1b700c98d52, 1f4152a...</td>\n",
              "      <td>A Heterogeneous System for Real-Time Detection...</td>\n",
              "      <td>high performance computing and communications</td>\n",
              "      <td>2016</td>\n",
              "      <td>001eef4f-1d00-4ae6-8b4f-7e66344bbc6e</td>\n",
              "    </tr>\n",
              "    <tr>\n",
              "      <th>1</th>\n",
              "      <td>In this paper, a kind of novel jigsaw EBG stru...</td>\n",
              "      <td>[Yufei Liang, Yan Zhang, Tao Dong, Shan-wei Lu]</td>\n",
              "      <td>0</td>\n",
              "      <td>[]</td>\n",
              "      <td>A novel conformal jigsaw EBG structure design</td>\n",
              "      <td>international conference on conceptual structures</td>\n",
              "      <td>2016</td>\n",
              "      <td>002e0b7e-d62f-4140-b015-1fe29a9acbaa</td>\n",
              "    </tr>\n",
              "    <tr>\n",
              "      <th>2</th>\n",
              "      <td>This paper studies the problem of using an aut...</td>\n",
              "      <td>[Xiaodong Ai, Keyou You, Shiji Song]</td>\n",
              "      <td>0</td>\n",
              "      <td>[1862a08a-08c6-4ab1-a214-8932bbd0d2d9, 7bcea2f...</td>\n",
              "      <td>A source-seeking strategy for an autonomous un...</td>\n",
              "      <td>international conference on control, automatio...</td>\n",
              "      <td>2016</td>\n",
              "      <td>00352759-f0a7-4678-82ae-fed68c700da6</td>\n",
              "    </tr>\n",
              "    <tr>\n",
              "      <th>3</th>\n",
              "      <td>NaN</td>\n",
              "      <td>[Francine Berman, Vinton G. Cerf]</td>\n",
              "      <td>0</td>\n",
              "      <td>[]</td>\n",
              "      <td>Social and ethical behavior in the internet of...</td>\n",
              "      <td>Communications of The ACM</td>\n",
              "      <td>2017</td>\n",
              "      <td>00f77fa9-ae49-4935-9166-2f5f9cdb3d6b</td>\n",
              "    </tr>\n",
              "    <tr>\n",
              "      <th>4</th>\n",
              "      <td>NaN</td>\n",
              "      <td>[Leon A. Sakkal, Kyle Z. Rajkowski, Roger S. A...</td>\n",
              "      <td>50</td>\n",
              "      <td>[4f4f200c-0764-4fef-9718-b8bccf303dba, aa699fb...</td>\n",
              "      <td>Prediction of consensus binding mode geometrie...</td>\n",
              "      <td>Journal of Computational Chemistry</td>\n",
              "      <td>2017</td>\n",
              "      <td>013ea675-bb58-42f8-a423-f5534546b2b1</td>\n",
              "    </tr>\n",
              "  </tbody>\n",
              "</table>\n",
              "</div>"
            ],
            "text/plain": [
              "                                            abstract  ...                                    id\n",
              "0  AdaBoost algorithm based on Haar-like features...  ...  001eef4f-1d00-4ae6-8b4f-7e66344bbc6e\n",
              "1  In this paper, a kind of novel jigsaw EBG stru...  ...  002e0b7e-d62f-4140-b015-1fe29a9acbaa\n",
              "2  This paper studies the problem of using an aut...  ...  00352759-f0a7-4678-82ae-fed68c700da6\n",
              "3                                                NaN  ...  00f77fa9-ae49-4935-9166-2f5f9cdb3d6b\n",
              "4                                                NaN  ...  013ea675-bb58-42f8-a423-f5534546b2b1\n",
              "\n",
              "[5 rows x 8 columns]"
            ]
          },
          "metadata": {
            "tags": []
          },
          "execution_count": 9
        }
      ]
    },
    {
      "cell_type": "code",
      "metadata": {
        "id": "a2dr8dyKFT69"
      },
      "source": [
        "#drop rows with NaN values \n",
        "df.dropna(axis=0, how='any', inplace=True)\n",
        "df.reset_index(drop=True, inplace=True)\n"
      ],
      "execution_count": null,
      "outputs": []
    },
    {
      "cell_type": "code",
      "metadata": {
        "id": "IixzB-s4Q5QT"
      },
      "source": [
        "#remove punctuation from abstract and title fields\n",
        "p = re.compile(r'[^\\w\\s]+')\n",
        "df['abstract'] = [p.sub('', x) for x in df['abstract'].tolist()]\n",
        "df['title'] = [p.sub('', x) for x in df['title'].tolist()]\n"
      ],
      "execution_count": null,
      "outputs": []
    },
    {
      "cell_type": "code",
      "metadata": {
        "id": "R-2HCSwujWvW",
        "colab": {
          "base_uri": "https://localhost:8080/"
        },
        "outputId": "ff931e90-a2c8-4d9f-902d-914cbaeb0e42"
      },
      "source": [
        "df.info()"
      ],
      "execution_count": null,
      "outputs": [
        {
          "output_type": "stream",
          "text": [
            "<class 'pandas.core.frame.DataFrame'>\n",
            "RangeIndex: 35174 entries, 0 to 35173\n",
            "Data columns (total 8 columns):\n",
            " #   Column      Non-Null Count  Dtype \n",
            "---  ------      --------------  ----- \n",
            " 0   abstract    35174 non-null  object\n",
            " 1   authors     35174 non-null  object\n",
            " 2   n_citation  35174 non-null  int64 \n",
            " 3   references  35174 non-null  object\n",
            " 4   title       35174 non-null  object\n",
            " 5   venue       35174 non-null  object\n",
            " 6   year        35174 non-null  int64 \n",
            " 7   id          35174 non-null  object\n",
            "dtypes: int64(2), object(6)\n",
            "memory usage: 2.1+ MB\n"
          ],
          "name": "stdout"
        }
      ]
    },
    {
      "cell_type": "code",
      "metadata": {
        "id": "LYKC2TDkssUR"
      },
      "source": [
        "# #cast text to lowercase for purposes of tf-idf processing\n",
        "# df['abstract']=df['abstract'].str.lower()\n",
        "# df['title']=df['title'].str.lower()"
      ],
      "execution_count": null,
      "outputs": []
    },
    {
      "cell_type": "code",
      "metadata": {
        "id": "HzJXa81ItYke"
      },
      "source": [
        "df2=df.copy()"
      ],
      "execution_count": null,
      "outputs": []
    },
    {
      "cell_type": "code",
      "metadata": {
        "id": "6aXtMT0KtTpQ"
      },
      "source": [
        "#combine text columns for tf-idf processing\n",
        "df2[\"text\"] = df[\"abstract\"] + df[\"title\"]\n",
        "# del df2['abstract']\n",
        "# del df2['title']\n"
      ],
      "execution_count": null,
      "outputs": []
    },
    {
      "cell_type": "code",
      "metadata": {
        "id": "XlklU-4gc5QR"
      },
      "source": [
        "df2['text']= df2['text'].astype(str)"
      ],
      "execution_count": null,
      "outputs": []
    },
    {
      "cell_type": "code",
      "metadata": {
        "colab": {
          "base_uri": "https://localhost:8080/"
        },
        "id": "4WEb8WwAcee6",
        "outputId": "0c79d146-f5d5-488c-844e-a7967fd8376c"
      },
      "source": [
        "df2.info()"
      ],
      "execution_count": null,
      "outputs": [
        {
          "output_type": "stream",
          "text": [
            "<class 'pandas.core.frame.DataFrame'>\n",
            "RangeIndex: 35174 entries, 0 to 35173\n",
            "Data columns (total 9 columns):\n",
            " #   Column      Non-Null Count  Dtype \n",
            "---  ------      --------------  ----- \n",
            " 0   abstract    35174 non-null  object\n",
            " 1   authors     35174 non-null  object\n",
            " 2   n_citation  35174 non-null  int64 \n",
            " 3   references  35174 non-null  object\n",
            " 4   title       35174 non-null  object\n",
            " 5   venue       35174 non-null  object\n",
            " 6   year        35174 non-null  int64 \n",
            " 7   id          35174 non-null  object\n",
            " 8   text        35174 non-null  object\n",
            "dtypes: int64(2), object(7)\n",
            "memory usage: 2.4+ MB\n"
          ],
          "name": "stdout"
        }
      ]
    },
    {
      "cell_type": "code",
      "metadata": {
        "id": "2isFryOLN8MK"
      },
      "source": [
        "stemmer = SnowballStemmer(\"english\")\n",
        "df2['stemmed'] = df2['text'].map(lambda x: ' '.join([stemmer.stem(y) for y in x.split(' ')]))"
      ],
      "execution_count": null,
      "outputs": []
    },
    {
      "cell_type": "code",
      "metadata": {
        "colab": {
          "base_uri": "https://localhost:8080/"
        },
        "id": "I7dTnnY9SFh9",
        "outputId": "7299310f-ba12-428c-c6d1-b44a027ea42b"
      },
      "source": [
        "cvec = CountVectorizer(stop_words='english', min_df=1, max_df=.5, ngram_range=(1,2))\n",
        "cvec"
      ],
      "execution_count": null,
      "outputs": [
        {
          "output_type": "execute_result",
          "data": {
            "text/plain": [
              "CountVectorizer(analyzer='word', binary=False, decode_error='strict',\n",
              "                dtype=<class 'numpy.int64'>, encoding='utf-8', input='content',\n",
              "                lowercase=True, max_df=0.5, max_features=None, min_df=1,\n",
              "                ngram_range=(1, 2), preprocessor=None, stop_words='english',\n",
              "                strip_accents=None, token_pattern='(?u)\\\\b\\\\w\\\\w+\\\\b',\n",
              "                tokenizer=None, vocabulary=None)"
            ]
          },
          "metadata": {
            "tags": []
          },
          "execution_count": 20
        }
      ]
    },
    {
      "cell_type": "code",
      "metadata": {
        "colab": {
          "base_uri": "https://localhost:8080/"
        },
        "id": "6ueMi7f-agX6",
        "outputId": "297a932a-2617-45d9-ce10-0d19fee30fe8"
      },
      "source": [
        "# Calculate all the n-grams found in all documents\n",
        "cvec.fit(df2.stemmed)\n",
        "list(islice(cvec.vocabulary_.items(), 20))"
      ],
      "execution_count": null,
      "outputs": [
        {
          "output_type": "execute_result",
          "data": {
            "text/plain": [
              "[('adaboost', 62571),\n",
              " ('algorithm', 83929),\n",
              " ('base', 170204),\n",
              " ('haarlik', 679294),\n",
              " ('featur', 591501),\n",
              " ('achiev', 53951),\n",
              " ('high', 695198),\n",
              " ('accuraci', 51410),\n",
              " ('abov', 42523),\n",
              " ('95', 38531),\n",
              " ('object', 1019728),\n",
              " ('detect', 428468),\n",
              " ('meanwhil', 906146),\n",
              " ('massiv', 896095),\n",
              " ('comput', 308015),\n",
              " ('power', 1134346),\n",
              " ('need', 982725),\n",
              " ('implement', 732745),\n",
              " ('cascad', 229985),\n",
              " ('classifi', 265063)]"
            ]
          },
          "metadata": {
            "tags": []
          },
          "execution_count": 21
        }
      ]
    },
    {
      "cell_type": "code",
      "metadata": {
        "colab": {
          "base_uri": "https://localhost:8080/"
        },
        "id": "IJG8wgjbrP6q",
        "outputId": "64cc4d44-ef04-49ef-87dc-dd0ff1a95dbe"
      },
      "source": [
        "len(cvec.vocabulary_)"
      ],
      "execution_count": null,
      "outputs": [
        {
          "output_type": "execute_result",
          "data": {
            "text/plain": [
              "1671097"
            ]
          },
          "metadata": {
            "tags": []
          },
          "execution_count": 22
        }
      ]
    },
    {
      "cell_type": "code",
      "metadata": {
        "colab": {
          "base_uri": "https://localhost:8080/"
        },
        "id": "nkLFG8p8rTUS",
        "outputId": "ff39aef3-6b65-464c-f8f2-e7df447177b7"
      },
      "source": [
        "cvec = CountVectorizer(stop_words='english', min_df=.003, max_df=.25, ngram_range=(1,2))\n",
        "cvec.fit(df2.stemmed)\n",
        "len(cvec.vocabulary_)"
      ],
      "execution_count": null,
      "outputs": [
        {
          "output_type": "execute_result",
          "data": {
            "text/plain": [
              "3284"
            ]
          },
          "metadata": {
            "tags": []
          },
          "execution_count": 23
        }
      ]
    },
    {
      "cell_type": "code",
      "metadata": {
        "colab": {
          "base_uri": "https://localhost:8080/"
        },
        "id": "dW0bcjeJrfLi",
        "outputId": "2537017f-8a72-4e0f-eec6-7aa9e716cd68"
      },
      "source": [
        "cvec_counts = cvec.transform(df2.stemmed)\n",
        "print ('sparse matrix shape:', cvec_counts.shape)\n",
        "print ('nonzero count:', cvec_counts.nnz)\n",
        "print ('sparsity: %.2f%%' % (100.0 * cvec_counts.nnz / (cvec_counts.shape[0] * cvec_counts.shape[1])))"
      ],
      "execution_count": null,
      "outputs": [
        {
          "output_type": "stream",
          "text": [
            "sparse matrix shape: (35174, 3284)\n",
            "nonzero count: 1993480\n",
            "sparsity: 1.73%\n"
          ],
          "name": "stdout"
        }
      ]
    },
    {
      "cell_type": "code",
      "metadata": {
        "colab": {
          "base_uri": "https://localhost:8080/",
          "height": 669
        },
        "id": "sP1VRLldrrmh",
        "outputId": "63ad9066-7501-4b01-e161-143479e8add3"
      },
      "source": [
        "occ = np.asarray(cvec_counts.sum(axis=0)).ravel().tolist()\n",
        "counts_df = pd.DataFrame({'term': cvec.get_feature_names(), 'occurrences': occ})\n",
        "counts_df.sort_values(by='occurrences', ascending=False).head(20)"
      ],
      "execution_count": null,
      "outputs": [
        {
          "output_type": "execute_result",
          "data": {
            "text/html": [
              "<div>\n",
              "<style scoped>\n",
              "    .dataframe tbody tr th:only-of-type {\n",
              "        vertical-align: middle;\n",
              "    }\n",
              "\n",
              "    .dataframe tbody tr th {\n",
              "        vertical-align: top;\n",
              "    }\n",
              "\n",
              "    .dataframe thead th {\n",
              "        text-align: right;\n",
              "    }\n",
              "</style>\n",
              "<table border=\"1\" class=\"dataframe\">\n",
              "  <thead>\n",
              "    <tr style=\"text-align: right;\">\n",
              "      <th></th>\n",
              "      <th>term</th>\n",
              "      <th>occurrences</th>\n",
              "    </tr>\n",
              "  </thead>\n",
              "  <tbody>\n",
              "    <tr>\n",
              "      <th>1900</th>\n",
              "      <td>network</td>\n",
              "      <td>23123</td>\n",
              "    </tr>\n",
              "    <tr>\n",
              "      <th>2266</th>\n",
              "      <td>problem</td>\n",
              "      <td>15643</td>\n",
              "    </tr>\n",
              "    <tr>\n",
              "      <th>823</th>\n",
              "      <td>differ</td>\n",
              "      <td>13065</td>\n",
              "    </tr>\n",
              "    <tr>\n",
              "      <th>1428</th>\n",
              "      <td>inform</td>\n",
              "      <td>12925</td>\n",
              "    </tr>\n",
              "    <tr>\n",
              "      <th>2998</th>\n",
              "      <td>time</td>\n",
              "      <td>12884</td>\n",
              "    </tr>\n",
              "    <tr>\n",
              "      <th>560</th>\n",
              "      <td>comput</td>\n",
              "      <td>12612</td>\n",
              "    </tr>\n",
              "    <tr>\n",
              "      <th>783</th>\n",
              "      <td>design</td>\n",
              "      <td>12481</td>\n",
              "    </tr>\n",
              "    <tr>\n",
              "      <th>3149</th>\n",
              "      <td>user</td>\n",
              "      <td>11992</td>\n",
              "    </tr>\n",
              "    <tr>\n",
              "      <th>1359</th>\n",
              "      <td>imag</td>\n",
              "      <td>11900</td>\n",
              "    </tr>\n",
              "    <tr>\n",
              "      <th>2004</th>\n",
              "      <td>optim</td>\n",
              "      <td>11564</td>\n",
              "    </tr>\n",
              "    <tr>\n",
              "      <th>204</th>\n",
              "      <td>applic</td>\n",
              "      <td>11459</td>\n",
              "    </tr>\n",
              "    <tr>\n",
              "      <th>2275</th>\n",
              "      <td>process</td>\n",
              "      <td>11421</td>\n",
              "    </tr>\n",
              "    <tr>\n",
              "      <th>913</th>\n",
              "      <td>effect</td>\n",
              "      <td>10886</td>\n",
              "    </tr>\n",
              "    <tr>\n",
              "      <th>804</th>\n",
              "      <td>develop</td>\n",
              "      <td>10879</td>\n",
              "    </tr>\n",
              "    <tr>\n",
              "      <th>168</th>\n",
              "      <td>analysi</td>\n",
              "      <td>10804</td>\n",
              "    </tr>\n",
              "    <tr>\n",
              "      <th>622</th>\n",
              "      <td>control</td>\n",
              "      <td>10759</td>\n",
              "    </tr>\n",
              "    <tr>\n",
              "      <th>1564</th>\n",
              "      <td>learn</td>\n",
              "      <td>10534</td>\n",
              "    </tr>\n",
              "    <tr>\n",
              "      <th>1386</th>\n",
              "      <td>improv</td>\n",
              "      <td>10222</td>\n",
              "    </tr>\n",
              "    <tr>\n",
              "      <th>1117</th>\n",
              "      <td>featur</td>\n",
              "      <td>10075</td>\n",
              "    </tr>\n",
              "    <tr>\n",
              "      <th>793</th>\n",
              "      <td>detect</td>\n",
              "      <td>10070</td>\n",
              "    </tr>\n",
              "  </tbody>\n",
              "</table>\n",
              "</div>"
            ],
            "text/plain": [
              "         term  occurrences\n",
              "1900  network        23123\n",
              "2266  problem        15643\n",
              "823    differ        13065\n",
              "1428   inform        12925\n",
              "2998     time        12884\n",
              "560    comput        12612\n",
              "783    design        12481\n",
              "3149     user        11992\n",
              "1359     imag        11900\n",
              "2004    optim        11564\n",
              "204    applic        11459\n",
              "2275  process        11421\n",
              "913    effect        10886\n",
              "804   develop        10879\n",
              "168   analysi        10804\n",
              "622   control        10759\n",
              "1564    learn        10534\n",
              "1386   improv        10222\n",
              "1117   featur        10075\n",
              "793    detect        10070"
            ]
          },
          "metadata": {
            "tags": []
          },
          "execution_count": 25
        }
      ]
    },
    {
      "cell_type": "code",
      "metadata": {
        "colab": {
          "base_uri": "https://localhost:8080/",
          "height": 327
        },
        "id": "emiQ0PuQmqDM",
        "outputId": "9d6c04b5-eb5a-433d-ef42-e2fc538e8013"
      },
      "source": [
        "counts_df.sort_values(by='occurrences', ascending=False).head(20).plot.bar(x='term')"
      ],
      "execution_count": null,
      "outputs": [
        {
          "output_type": "execute_result",
          "data": {
            "text/plain": [
              "<matplotlib.axes._subplots.AxesSubplot at 0x7f8c3e1eea10>"
            ]
          },
          "metadata": {
            "tags": []
          },
          "execution_count": 26
        },
        {
          "output_type": "display_data",
          "data": {
            "image/png": "[encoded data removed]",
            "text/plain": [
              "<Figure size 432x288 with 1 Axes>"
            ]
          },
          "metadata": {
            "tags": [],
            "needs_background": "light"
          }
        }
      ]
    },
    {
      "cell_type": "code",
      "metadata": {
        "colab": {
          "base_uri": "https://localhost:8080/"
        },
        "id": "erXddHgfsgks",
        "outputId": "70f98572-5913-4d13-b5e8-060102b3e80e"
      },
      "source": [
        "transformer = TfidfTransformer()\n",
        "transformed_weights = transformer.fit_transform(cvec_counts)\n",
        "transformed_weights"
      ],
      "execution_count": null,
      "outputs": [
        {
          "output_type": "execute_result",
          "data": {
            "text/plain": [
              "<35174x3284 sparse matrix of type '<class 'numpy.float64'>'\n",
              "\twith 1993480 stored elements in Compressed Sparse Row format>"
            ]
          },
          "metadata": {
            "tags": []
          },
          "execution_count": 27
        }
      ]
    },
    {
      "cell_type": "code",
      "metadata": {
        "colab": {
          "base_uri": "https://localhost:8080/",
          "height": 669
        },
        "id": "KUGaoUpqszQM",
        "outputId": "d68762c3-c5cf-421f-8c56-3dbc5e464b18"
      },
      "source": [
        "weights = np.asarray(transformed_weights.mean(axis=0)).ravel().tolist()\n",
        "weights_df = pd.DataFrame({'term': cvec.get_feature_names(), 'weight': weights})\n",
        "weights_df.sort_values(by='weight', ascending=False).head(20)"
      ],
      "execution_count": null,
      "outputs": [
        {
          "output_type": "execute_result",
          "data": {
            "text/html": [
              "<div>\n",
              "<style scoped>\n",
              "    .dataframe tbody tr th:only-of-type {\n",
              "        vertical-align: middle;\n",
              "    }\n",
              "\n",
              "    .dataframe tbody tr th {\n",
              "        vertical-align: top;\n",
              "    }\n",
              "\n",
              "    .dataframe thead th {\n",
              "        text-align: right;\n",
              "    }\n",
              "</style>\n",
              "<table border=\"1\" class=\"dataframe\">\n",
              "  <thead>\n",
              "    <tr style=\"text-align: right;\">\n",
              "      <th></th>\n",
              "      <th>term</th>\n",
              "      <th>weight</th>\n",
              "    </tr>\n",
              "  </thead>\n",
              "  <tbody>\n",
              "    <tr>\n",
              "      <th>1900</th>\n",
              "      <td>network</td>\n",
              "      <td>0.026550</td>\n",
              "    </tr>\n",
              "    <tr>\n",
              "      <th>2266</th>\n",
              "      <td>problem</td>\n",
              "      <td>0.018491</td>\n",
              "    </tr>\n",
              "    <tr>\n",
              "      <th>1359</th>\n",
              "      <td>imag</td>\n",
              "      <td>0.017529</td>\n",
              "    </tr>\n",
              "    <tr>\n",
              "      <th>622</th>\n",
              "      <td>control</td>\n",
              "      <td>0.016351</td>\n",
              "    </tr>\n",
              "    <tr>\n",
              "      <th>3149</th>\n",
              "      <td>user</td>\n",
              "      <td>0.016093</td>\n",
              "    </tr>\n",
              "    <tr>\n",
              "      <th>783</th>\n",
              "      <td>design</td>\n",
              "      <td>0.015851</td>\n",
              "    </tr>\n",
              "    <tr>\n",
              "      <th>560</th>\n",
              "      <td>comput</td>\n",
              "      <td>0.015814</td>\n",
              "    </tr>\n",
              "    <tr>\n",
              "      <th>1428</th>\n",
              "      <td>inform</td>\n",
              "      <td>0.015417</td>\n",
              "    </tr>\n",
              "    <tr>\n",
              "      <th>2004</th>\n",
              "      <td>optim</td>\n",
              "      <td>0.015345</td>\n",
              "    </tr>\n",
              "    <tr>\n",
              "      <th>2998</th>\n",
              "      <td>time</td>\n",
              "      <td>0.015192</td>\n",
              "    </tr>\n",
              "    <tr>\n",
              "      <th>1564</th>\n",
              "      <td>learn</td>\n",
              "      <td>0.015089</td>\n",
              "    </tr>\n",
              "    <tr>\n",
              "      <th>793</th>\n",
              "      <td>detect</td>\n",
              "      <td>0.014639</td>\n",
              "    </tr>\n",
              "    <tr>\n",
              "      <th>823</th>\n",
              "      <td>differ</td>\n",
              "      <td>0.014445</td>\n",
              "    </tr>\n",
              "    <tr>\n",
              "      <th>204</th>\n",
              "      <td>applic</td>\n",
              "      <td>0.014272</td>\n",
              "    </tr>\n",
              "    <tr>\n",
              "      <th>2275</th>\n",
              "      <td>process</td>\n",
              "      <td>0.014237</td>\n",
              "    </tr>\n",
              "    <tr>\n",
              "      <th>1117</th>\n",
              "      <td>featur</td>\n",
              "      <td>0.013748</td>\n",
              "    </tr>\n",
              "    <tr>\n",
              "      <th>168</th>\n",
              "      <td>analysi</td>\n",
              "      <td>0.013648</td>\n",
              "    </tr>\n",
              "    <tr>\n",
              "      <th>804</th>\n",
              "      <td>develop</td>\n",
              "      <td>0.013214</td>\n",
              "    </tr>\n",
              "    <tr>\n",
              "      <th>1000</th>\n",
              "      <td>estim</td>\n",
              "      <td>0.013003</td>\n",
              "    </tr>\n",
              "    <tr>\n",
              "      <th>1924</th>\n",
              "      <td>new</td>\n",
              "      <td>0.012659</td>\n",
              "    </tr>\n",
              "  </tbody>\n",
              "</table>\n",
              "</div>"
            ],
            "text/plain": [
              "         term    weight\n",
              "1900  network  0.026550\n",
              "2266  problem  0.018491\n",
              "1359     imag  0.017529\n",
              "622   control  0.016351\n",
              "3149     user  0.016093\n",
              "783    design  0.015851\n",
              "560    comput  0.015814\n",
              "1428   inform  0.015417\n",
              "2004    optim  0.015345\n",
              "2998     time  0.015192\n",
              "1564    learn  0.015089\n",
              "793    detect  0.014639\n",
              "823    differ  0.014445\n",
              "204    applic  0.014272\n",
              "2275  process  0.014237\n",
              "1117   featur  0.013748\n",
              "168   analysi  0.013648\n",
              "804   develop  0.013214\n",
              "1000    estim  0.013003\n",
              "1924      new  0.012659"
            ]
          },
          "metadata": {
            "tags": []
          },
          "execution_count": 28
        }
      ]
    },
    {
      "cell_type": "code",
      "metadata": {
        "colab": {
          "base_uri": "https://localhost:8080/",
          "height": 289
        },
        "id": "rx1OzBlYr7oe",
        "outputId": "5b950a8a-7472-4ada-bc4e-03d38b6ab1d0"
      },
      "source": [
        "df2.head()"
      ],
      "execution_count": null,
      "outputs": [
        {
          "output_type": "execute_result",
          "data": {
            "text/html": [
              "<div>\n",
              "<style scoped>\n",
              "    .dataframe tbody tr th:only-of-type {\n",
              "        vertical-align: middle;\n",
              "    }\n",
              "\n",
              "    .dataframe tbody tr th {\n",
              "        vertical-align: top;\n",
              "    }\n",
              "\n",
              "    .dataframe thead th {\n",
              "        text-align: right;\n",
              "    }\n",
              "</style>\n",
              "<table border=\"1\" class=\"dataframe\">\n",
              "  <thead>\n",
              "    <tr style=\"text-align: right;\">\n",
              "      <th></th>\n",
              "      <th>abstract</th>\n",
              "      <th>authors</th>\n",
              "      <th>n_citation</th>\n",
              "      <th>references</th>\n",
              "      <th>title</th>\n",
              "      <th>venue</th>\n",
              "      <th>year</th>\n",
              "      <th>id</th>\n",
              "      <th>text</th>\n",
              "      <th>stemmed</th>\n",
              "    </tr>\n",
              "  </thead>\n",
              "  <tbody>\n",
              "    <tr>\n",
              "      <th>0</th>\n",
              "      <td>AdaBoost algorithm based on Haarlike features ...</td>\n",
              "      <td>[Zheng Xu, Runbin Shi, Zhihao Sun, Yaqi Li, Yu...</td>\n",
              "      <td>0</td>\n",
              "      <td>[0a11984c-ab6e-4b75-9291-e1b700c98d52, 1f4152a...</td>\n",
              "      <td>A Heterogeneous System for RealTime Detection ...</td>\n",
              "      <td>high performance computing and communications</td>\n",
              "      <td>2016</td>\n",
              "      <td>001eef4f-1d00-4ae6-8b4f-7e66344bbc6e</td>\n",
              "      <td>AdaBoost algorithm based on Haarlike features ...</td>\n",
              "      <td>adaboost algorithm base on haarlik featur can ...</td>\n",
              "    </tr>\n",
              "    <tr>\n",
              "      <th>1</th>\n",
              "      <td>In this paper a kind of novel jigsaw EBG struc...</td>\n",
              "      <td>[Yufei Liang, Yan Zhang, Tao Dong, Shan-wei Lu]</td>\n",
              "      <td>0</td>\n",
              "      <td>[]</td>\n",
              "      <td>A novel conformal jigsaw EBG structure design</td>\n",
              "      <td>international conference on conceptual structures</td>\n",
              "      <td>2016</td>\n",
              "      <td>002e0b7e-d62f-4140-b015-1fe29a9acbaa</td>\n",
              "      <td>In this paper a kind of novel jigsaw EBG struc...</td>\n",
              "      <td>in this paper a kind of novel jigsaw ebg struc...</td>\n",
              "    </tr>\n",
              "    <tr>\n",
              "      <th>2</th>\n",
              "      <td>This paper studies the problem of using an aut...</td>\n",
              "      <td>[Xiaodong Ai, Keyou You, Shiji Song]</td>\n",
              "      <td>0</td>\n",
              "      <td>[1862a08a-08c6-4ab1-a214-8932bbd0d2d9, 7bcea2f...</td>\n",
              "      <td>A sourceseeking strategy for an autonomous und...</td>\n",
              "      <td>international conference on control, automatio...</td>\n",
              "      <td>2016</td>\n",
              "      <td>00352759-f0a7-4678-82ae-fed68c700da6</td>\n",
              "      <td>This paper studies the problem of using an aut...</td>\n",
              "      <td>this paper studi the problem of use an autonom...</td>\n",
              "    </tr>\n",
              "    <tr>\n",
              "      <th>3</th>\n",
              "      <td>This paper presents a methodology to analyze l...</td>\n",
              "      <td>[Vincent Buntinx, Cyril Bornet, Frédéric Kaplan]</td>\n",
              "      <td>0</td>\n",
              "      <td>[426b57a8-2e7d-498d-9a57-c09983ae0699, 6499d57...</td>\n",
              "      <td>Studying Linguistic Changes over 200 Years of ...</td>\n",
              "      <td>Frontiers in Digital Humanities</td>\n",
              "      <td>2017</td>\n",
              "      <td>01522369-3b88-4256-99d4-4e0c1de9f1ba</td>\n",
              "      <td>This paper presents a methodology to analyze l...</td>\n",
              "      <td>this paper present a methodolog to analyz ling...</td>\n",
              "    </tr>\n",
              "    <tr>\n",
              "      <th>4</th>\n",
              "      <td>Container identification and recognition is st...</td>\n",
              "      <td>[Ankit Verma, Monika Sharma, Ramya Hebbalagupp...</td>\n",
              "      <td>0</td>\n",
              "      <td>[3e3a4245-eb62-4769-bc84-1001479df701, 42f6b97...</td>\n",
              "      <td>Automatic Container Code Recognition via Spati...</td>\n",
              "      <td>international conference on machine learning a...</td>\n",
              "      <td>2016</td>\n",
              "      <td>017440d5-6ba8-422a-bd7a-d59e3b9a4e77</td>\n",
              "      <td>Container identification and recognition is st...</td>\n",
              "      <td>contain identif and recognit is still perform ...</td>\n",
              "    </tr>\n",
              "  </tbody>\n",
              "</table>\n",
              "</div>"
            ],
            "text/plain": [
              "                                            abstract  ...                                            stemmed\n",
              "0  AdaBoost algorithm based on Haarlike features ...  ...  adaboost algorithm base on haarlik featur can ...\n",
              "1  In this paper a kind of novel jigsaw EBG struc...  ...  in this paper a kind of novel jigsaw ebg struc...\n",
              "2  This paper studies the problem of using an aut...  ...  this paper studi the problem of use an autonom...\n",
              "3  This paper presents a methodology to analyze l...  ...  this paper present a methodolog to analyz ling...\n",
              "4  Container identification and recognition is st...  ...  contain identif and recognit is still perform ...\n",
              "\n",
              "[5 rows x 10 columns]"
            ]
          },
          "metadata": {
            "tags": []
          },
          "execution_count": 29
        }
      ]
    },
    {
      "cell_type": "code",
      "metadata": {
        "colab": {
          "base_uri": "https://localhost:8080/"
        },
        "id": "pdzmSJwNMKEB",
        "outputId": "7ca2373c-247b-4dc1-d594-6268454736a1"
      },
      "source": [
        "df2.info()"
      ],
      "execution_count": null,
      "outputs": [
        {
          "output_type": "stream",
          "text": [
            "<class 'pandas.core.frame.DataFrame'>\n",
            "RangeIndex: 35174 entries, 0 to 35173\n",
            "Data columns (total 10 columns):\n",
            " #   Column      Non-Null Count  Dtype \n",
            "---  ------      --------------  ----- \n",
            " 0   abstract    35174 non-null  object\n",
            " 1   authors     35174 non-null  object\n",
            " 2   n_citation  35174 non-null  int64 \n",
            " 3   references  35174 non-null  object\n",
            " 4   title       35174 non-null  object\n",
            " 5   venue       35174 non-null  object\n",
            " 6   year        35174 non-null  int64 \n",
            " 7   id          35174 non-null  object\n",
            " 8   text        35174 non-null  object\n",
            " 9   stemmed     35174 non-null  object\n",
            "dtypes: int64(2), object(8)\n",
            "memory usage: 2.7+ MB\n"
          ],
          "name": "stdout"
        }
      ]
    },
    {
      "cell_type": "code",
      "metadata": {
        "colab": {
          "base_uri": "https://localhost:8080/",
          "height": 204
        },
        "id": "HFwuQKtXKFrw",
        "outputId": "a3912481-6718-41ee-cb9e-4c3fd8f59dd4"
      },
      "source": [
        "dfG=df2[['id', 'references']].copy()\n",
        "dfG.set_index(['id'])\n",
        "dfG['references'].tolist()\n",
        "dfG=dfG.explode('references')\n",
        "dfG.head()"
      ],
      "execution_count": 60,
      "outputs": [
        {
          "output_type": "execute_result",
          "data": {
            "text/html": [
              "<div>\n",
              "<style scoped>\n",
              "    .dataframe tbody tr th:only-of-type {\n",
              "        vertical-align: middle;\n",
              "    }\n",
              "\n",
              "    .dataframe tbody tr th {\n",
              "        vertical-align: top;\n",
              "    }\n",
              "\n",
              "    .dataframe thead th {\n",
              "        text-align: right;\n",
              "    }\n",
              "</style>\n",
              "<table border=\"1\" class=\"dataframe\">\n",
              "  <thead>\n",
              "    <tr style=\"text-align: right;\">\n",
              "      <th></th>\n",
              "      <th>id</th>\n",
              "      <th>references</th>\n",
              "    </tr>\n",
              "  </thead>\n",
              "  <tbody>\n",
              "    <tr>\n",
              "      <th>0</th>\n",
              "      <td>001eef4f-1d00-4ae6-8b4f-7e66344bbc6e</td>\n",
              "      <td>0a11984c-ab6e-4b75-9291-e1b700c98d52</td>\n",
              "    </tr>\n",
              "    <tr>\n",
              "      <th>0</th>\n",
              "      <td>001eef4f-1d00-4ae6-8b4f-7e66344bbc6e</td>\n",
              "      <td>1f4152a3-481f-4adf-a29a-2193a3d4303c</td>\n",
              "    </tr>\n",
              "    <tr>\n",
              "      <th>0</th>\n",
              "      <td>001eef4f-1d00-4ae6-8b4f-7e66344bbc6e</td>\n",
              "      <td>3c2ddf0a-237b-4d17-8083-c90df5f3514b</td>\n",
              "    </tr>\n",
              "    <tr>\n",
              "      <th>0</th>\n",
              "      <td>001eef4f-1d00-4ae6-8b4f-7e66344bbc6e</td>\n",
              "      <td>522ce553-29ea-4e0b-9ad3-0ed4eb9de065</td>\n",
              "    </tr>\n",
              "    <tr>\n",
              "      <th>0</th>\n",
              "      <td>001eef4f-1d00-4ae6-8b4f-7e66344bbc6e</td>\n",
              "      <td>579e5f24-5b13-4e92-b255-0c46d066e306</td>\n",
              "    </tr>\n",
              "  </tbody>\n",
              "</table>\n",
              "</div>"
            ],
            "text/plain": [
              "                                     id                            references\n",
              "0  001eef4f-1d00-4ae6-8b4f-7e66344bbc6e  0a11984c-ab6e-4b75-9291-e1b700c98d52\n",
              "0  001eef4f-1d00-4ae6-8b4f-7e66344bbc6e  1f4152a3-481f-4adf-a29a-2193a3d4303c\n",
              "0  001eef4f-1d00-4ae6-8b4f-7e66344bbc6e  3c2ddf0a-237b-4d17-8083-c90df5f3514b\n",
              "0  001eef4f-1d00-4ae6-8b4f-7e66344bbc6e  522ce553-29ea-4e0b-9ad3-0ed4eb9de065\n",
              "0  001eef4f-1d00-4ae6-8b4f-7e66344bbc6e  579e5f24-5b13-4e92-b255-0c46d066e306"
            ]
          },
          "metadata": {
            "tags": []
          },
          "execution_count": 60
        }
      ]
    },
    {
      "cell_type": "code",
      "metadata": {
        "id": "86PECSJ_l1nm"
      },
      "source": [
        "#create graph from exploded df\n",
        "G = nx.from_pandas_edgelist(dfG, source='id', target='references', create_using=nx.Graph)"
      ],
      "execution_count": 106,
      "outputs": []
    },
    {
      "cell_type": "code",
      "metadata": {
        "id": "z3pmHLs5rsN_"
      },
      "source": [
        "#find the biggest subgraph\n",
        "Gcc = sorted(nx.connected_components(G), key=len, reverse=True)\n",
        "G0 = G.subgraph(Gcc[0])"
      ],
      "execution_count": 109,
      "outputs": []
    },
    {
      "cell_type": "code",
      "metadata": {
        "colab": {
          "base_uri": "https://localhost:8080/",
          "height": 35
        },
        "id": "wRlEawNQQp9R",
        "outputId": "756ab94f-6165-41b8-df5e-f582050e0549"
      },
      "source": [
        "nx.info(G0)"
      ],
      "execution_count": 110,
      "outputs": [
        {
          "output_type": "execute_result",
          "data": {
            "application/vnd.google.colaboratory.intrinsic+json": {
              "type": "string"
            },
            "text/plain": [
              "'Name: \\nType: Graph\\nNumber of nodes: 283924\\nNumber of edges: 433299\\nAverage degree:   3.0522'"
            ]
          },
          "metadata": {
            "tags": []
          },
          "execution_count": 110
        }
      ]
    }
  ]
}