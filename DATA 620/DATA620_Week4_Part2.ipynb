{
 "cells": [
  {
   "cell_type": "markdown",
   "metadata": {
    "id": "QRqoKlijnOzh"
   },
   "source": [
    "# Week Four - Part 2 - Assignment High Frequency Words"
   ]
  },
  {
   "cell_type": "markdown",
   "metadata": {
    "id": "P_ZhmDpJnOzi"
   },
   "source": [
    "Group Member: Bryan Persaud, Matthew Baker, Zhi Ying Chen\n",
    "\n",
    "Please answer the following questions in an IPython Notebook, posted to GitHub.\n",
    "1. Choose a corpus of interest.\n",
    "2. How many total unique words are in the corpus? (Please feel free to define unique words in any interesting,\n",
    "defensible way).\n",
    "3. Taking the most common words, how many unique words represent half of the total words in the corpus?\n",
    "4. Identify the 200 highest frequency words in this corpus.\n",
    "5. Create a graph that shows the relative frequency of these 200 words.\n",
    "6. Does the observed relative frequency of these words follow Zipf’s law? Explain.\n",
    "7. In what ways do you think the frequency of the words in this corpus differ from “all words in all corpora.”"
   ]
  },
  {
   "cell_type": "markdown",
   "metadata": {
    "id": "NFi9EZubnOzj"
   },
   "source": [
    "# Load Packages"
   ]
  },
  {
   "cell_type": "code",
   "execution_count": 1,
   "metadata": {
    "colab": {
     "base_uri": "https://localhost:8080/"
    },
    "id": "U8Xq3UNxB0nS",
    "outputId": "13540386-bee6-460e-c2b3-13c5fb64b293"
   },
   "outputs": [
    {
     "name": "stdout",
     "output_type": "stream",
     "text": [
      "Collecting autocorrect\n",
      "  Downloading https://files.pythonhosted.org/packages/35/31/aa5d4b54baafed2d0eef47e30d527ea60eb7357f11c3b5adc58262a3c693/autocorrect-2.5.0.tar.gz (622kB)\n",
      "Building wheels for collected packages: autocorrect\n",
      "  Building wheel for autocorrect (setup.py): started\n",
      "  Building wheel for autocorrect (setup.py): finished with status 'done'\n",
      "  Created wheel for autocorrect: filename=autocorrect-2.5.0-cp37-none-any.whl size=621861 sha256=49c37faf409f93ee7fa716cc56ed86624258ec64bf5e614d694ce328e4a2fe93\n",
      "  Stored in directory: C:\\Users\\Bryan\\AppData\\Local\\pip\\Cache\\wheels\\1f\\71\\da\\4a15028d25fbd5fb97fb76c5f76f0ad86f0caa69394dd7cfa7\n",
      "Successfully built autocorrect\n",
      "Installing collected packages: autocorrect\n",
      "Successfully installed autocorrect-2.5.0\n"
     ]
    }
   ],
   "source": [
    "!pip install autocorrect"
   ]
  },
  {
   "cell_type": "markdown",
   "metadata": {
    "id": "MS0wOVnBnOzj"
   },
   "source": [
    "First we load in the necessary packages. Matplotlib is used for the figures and graphs made. Pandas is used to create any dataframes from the data being used. The nltk package is used to load in the data and also used to answer some of the questions."
   ]
  },
  {
   "cell_type": "code",
   "execution_count": 4,
   "metadata": {
    "id": "ZbacRifrnOzk"
   },
   "outputs": [],
   "source": [
    "import matplotlib.pyplot as plt\n",
    "import pandas as pd\n",
    "from pandas import DataFrame\n",
    "import nltk\n",
    "from nltk.corpus import gutenberg\n",
    "import spacy\n",
    "from collections import Counter\n",
    "from nltk.corpus import stopwords\n",
    "from nltk.tokenize import word_tokenize\n",
    "from nltk.tokenize import RegexpTokenizer\n",
    "from autocorrect import Speller\n",
    "# from google.colab import drive "
   ]
  },
  {
   "cell_type": "code",
   "execution_count": 5,
   "metadata": {
    "colab": {
     "base_uri": "https://localhost:8080/"
    },
    "id": "jy4Q7aWJqJor",
    "outputId": "1e0a95d4-705c-429b-bf1f-007cd99d9b27"
   },
   "outputs": [
    {
     "name": "stdout",
     "output_type": "stream",
     "text": [
      "[nltk_data] Downloading package gutenberg to /root/nltk_data...\n",
      "[nltk_data]   Package gutenberg is already up-to-date!\n",
      "[nltk_data] Downloading package stopwords to /root/nltk_data...\n",
      "[nltk_data]   Package stopwords is already up-to-date!\n",
      "[nltk_data] Downloading package punkt to /root/nltk_data...\n",
      "[nltk_data]   Package punkt is already up-to-date!\n",
      "[nltk_data] Downloading package words to /root/nltk_data...\n",
      "[nltk_data]   Package words is already up-to-date!\n"
     ]
    },
    {
     "data": {
      "text/plain": [
       "True"
      ]
     },
     "execution_count": 5,
     "metadata": {
      "tags": []
     },
     "output_type": "execute_result"
    }
   ],
   "source": [
    "#download the corpus and the stopwords\n",
    "nltk.download('gutenberg')\n",
    "nltk.download('stopwords')\n",
    "nltk.download('punkt')\n",
    "nltk.download('words')"
   ]
  },
  {
   "cell_type": "markdown",
   "metadata": {
    "id": "znZxdezInOzk"
   },
   "source": [
    "# 1. Choose a corpus of interest"
   ]
  },
  {
   "cell_type": "markdown",
   "metadata": {
    "id": "XgnXGsT2nOzk"
   },
   "source": [
    "For the chosen corpus we will be selecting one from the Gutenberg library that is available within the nltk package. The exact corpus chosen is Macbeth by Shakespeare."
   ]
  },
  {
   "cell_type": "code",
   "execution_count": 6,
   "metadata": {
    "colab": {
     "base_uri": "https://localhost:8080/"
    },
    "id": "UVM4CpaLnOzl",
    "outputId": "29d55f37-2f89-48ab-9898-58b336fa8da7"
   },
   "outputs": [
    {
     "name": "stdout",
     "output_type": "stream",
     "text": [
      "['[', 'The', 'Tragedie', 'of', 'Macbeth', 'by', ...]\n"
     ]
    }
   ],
   "source": [
    "macbeth = nltk.corpus.gutenberg.words('shakespeare-macbeth.txt')\n",
    "print(macbeth)"
   ]
  },
  {
   "cell_type": "markdown",
   "metadata": {
    "id": "zpviXefFnOzl"
   },
   "source": [
    "From the Gutenberg library we load in a text file that contains Macbeth by Shakespeare."
   ]
  },
  {
   "cell_type": "markdown",
   "metadata": {
    "id": "sy-rM5sonOzl"
   },
   "source": [
    "# 2. How many total unique words are in the corpus? (Please feel free to define unique words in any interesting, defensible way)."
   ]
  },
  {
   "cell_type": "code",
   "execution_count": 7,
   "metadata": {
    "colab": {
     "base_uri": "https://localhost:8080/"
    },
    "id": "E5MeKnhTnOzm",
    "outputId": "e86020e8-ea42-411d-a91d-fc4a0b4cac4a"
   },
   "outputs": [
    {
     "data": {
      "text/plain": [
       "23140"
      ]
     },
     "execution_count": 7,
     "metadata": {
      "tags": []
     },
     "output_type": "execute_result"
    }
   ],
   "source": [
    "len(macbeth)"
   ]
  },
  {
   "cell_type": "markdown",
   "metadata": {
    "id": "XtmCX9r6nOzm"
   },
   "source": [
    "We see that there are 23140 words in Macbeth. These are all the words in Macbeth so from here let's see how many unique words there are."
   ]
  },
  {
   "cell_type": "code",
   "execution_count": 8,
   "metadata": {
    "colab": {
     "base_uri": "https://localhost:8080/"
    },
    "id": "5pgd3gRqnOzn",
    "outputId": "01091fba-35e9-4a62-d20b-74b53766765b"
   },
   "outputs": [
    {
     "data": {
      "text/plain": [
       "4017"
      ]
     },
     "execution_count": 8,
     "metadata": {
      "tags": []
     },
     "output_type": "execute_result"
    }
   ],
   "source": [
    "len(set(macbeth))"
   ]
  },
  {
   "cell_type": "code",
   "execution_count": 9,
   "metadata": {
    "colab": {
     "base_uri": "https://localhost:8080/"
    },
    "id": "I9Z6eK1HrK9z",
    "outputId": "68d51e64-d3d9-47bd-c4f8-53f338f7e80f"
   },
   "outputs": [
    {
     "data": {
      "text/plain": [
       "nltk.corpus.reader.util.StreamBackedCorpusView"
      ]
     },
     "execution_count": 9,
     "metadata": {
      "tags": []
     },
     "output_type": "execute_result"
    }
   ],
   "source": [
    "type(macbeth)"
   ]
  },
  {
   "cell_type": "markdown",
   "metadata": {
    "id": "imadWTXqnOzn"
   },
   "source": [
    "There are 4017 unique words in Macbeth."
   ]
  },
  {
   "cell_type": "markdown",
   "metadata": {
    "id": "w5KA347HnOzn"
   },
   "source": [
    "# 3. Taking the most common words, how many unique words represent half of the total words in the corpus?"
   ]
  },
  {
   "cell_type": "code",
   "execution_count": 10,
   "metadata": {
    "id": "io5KIqWgnOzn"
   },
   "outputs": [],
   "source": [
    "# Get unique words and store them in a list\n",
    "words = nltk.FreqDist(macbeth)\n",
    "unique_words = words.most_common()"
   ]
  },
  {
   "cell_type": "code",
   "execution_count": 11,
   "metadata": {
    "colab": {
     "base_uri": "https://localhost:8080/"
    },
    "id": "or1FoTBOnOzo",
    "outputId": "e196134f-74d5-48ca-8784-b4103205e7b4"
   },
   "outputs": [
    {
     "data": {
      "text/plain": [
       "65"
      ]
     },
     "execution_count": 11,
     "metadata": {
      "tags": []
     },
     "output_type": "execute_result"
    }
   ],
   "source": [
    "i = 0\n",
    "half = [] # Empty list to store unique words\n",
    "for word in unique_words:\n",
    "    if i >= len(macbeth) / 2: # Go through half of the total words\n",
    "        break\n",
    "    else:\n",
    "        i = i + word[1]\n",
    "        half.append(word)\n",
    "len(half)        "
   ]
  },
  {
   "cell_type": "markdown",
   "metadata": {
    "id": "BVFq8U6lnOzo"
   },
   "source": [
    "There are 65 unique words that represent half of the total words in the corpus."
   ]
  },
  {
   "cell_type": "markdown",
   "metadata": {
    "id": "XpvVcFCcnOzo"
   },
   "source": [
    "# 4. Identify the 200 highest frequency words in this corpus."
   ]
  },
  {
   "cell_type": "code",
   "execution_count": 12,
   "metadata": {
    "colab": {
     "base_uri": "https://localhost:8080/",
     "height": 1000
    },
    "id": "eGwzoKTanOzp",
    "outputId": "fec83289-a255-4c65-f70f-f92399c321ee"
   },
   "outputs": [
    {
     "data": {
      "text/html": [
       "<div>\n",
       "<style scoped>\n",
       "    .dataframe tbody tr th:only-of-type {\n",
       "        vertical-align: middle;\n",
       "    }\n",
       "\n",
       "    .dataframe tbody tr th {\n",
       "        vertical-align: top;\n",
       "    }\n",
       "\n",
       "    .dataframe thead th {\n",
       "        text-align: right;\n",
       "    }\n",
       "</style>\n",
       "<table border=\"1\" class=\"dataframe\">\n",
       "  <thead>\n",
       "    <tr style=\"text-align: right;\">\n",
       "      <th></th>\n",
       "      <th>Word</th>\n",
       "      <th>Count</th>\n",
       "    </tr>\n",
       "  </thead>\n",
       "  <tbody>\n",
       "    <tr>\n",
       "      <th>0</th>\n",
       "      <td>enter</td>\n",
       "      <td>80</td>\n",
       "    </tr>\n",
       "    <tr>\n",
       "      <th>1</th>\n",
       "      <td>thou</td>\n",
       "      <td>63</td>\n",
       "    </tr>\n",
       "    <tr>\n",
       "      <th>3</th>\n",
       "      <td>thee</td>\n",
       "      <td>61</td>\n",
       "    </tr>\n",
       "    <tr>\n",
       "      <th>4</th>\n",
       "      <td>king</td>\n",
       "      <td>55</td>\n",
       "    </tr>\n",
       "    <tr>\n",
       "      <th>5</th>\n",
       "      <td>th</td>\n",
       "      <td>51</td>\n",
       "    </tr>\n",
       "    <tr>\n",
       "      <th>6</th>\n",
       "      <td>yet</td>\n",
       "      <td>50</td>\n",
       "    </tr>\n",
       "    <tr>\n",
       "      <th>7</th>\n",
       "      <td>shall</td>\n",
       "      <td>48</td>\n",
       "    </tr>\n",
       "    <tr>\n",
       "      <th>9</th>\n",
       "      <td>lady</td>\n",
       "      <td>48</td>\n",
       "    </tr>\n",
       "    <tr>\n",
       "      <th>10</th>\n",
       "      <td>thy</td>\n",
       "      <td>46</td>\n",
       "    </tr>\n",
       "    <tr>\n",
       "      <th>11</th>\n",
       "      <td>st</td>\n",
       "      <td>42</td>\n",
       "    </tr>\n",
       "    <tr>\n",
       "      <th>12</th>\n",
       "      <td>would</td>\n",
       "      <td>42</td>\n",
       "    </tr>\n",
       "    <tr>\n",
       "      <th>13</th>\n",
       "      <td>time</td>\n",
       "      <td>42</td>\n",
       "    </tr>\n",
       "    <tr>\n",
       "      <th>14</th>\n",
       "      <td>good</td>\n",
       "      <td>40</td>\n",
       "    </tr>\n",
       "    <tr>\n",
       "      <th>15</th>\n",
       "      <td>lord</td>\n",
       "      <td>38</td>\n",
       "    </tr>\n",
       "    <tr>\n",
       "      <th>16</th>\n",
       "      <td>hath</td>\n",
       "      <td>37</td>\n",
       "    </tr>\n",
       "    <tr>\n",
       "      <th>17</th>\n",
       "      <td>like</td>\n",
       "      <td>36</td>\n",
       "    </tr>\n",
       "    <tr>\n",
       "      <th>18</th>\n",
       "      <td>say</td>\n",
       "      <td>36</td>\n",
       "    </tr>\n",
       "    <tr>\n",
       "      <th>19</th>\n",
       "      <td>done</td>\n",
       "      <td>35</td>\n",
       "    </tr>\n",
       "    <tr>\n",
       "      <th>20</th>\n",
       "      <td>doe</td>\n",
       "      <td>34</td>\n",
       "    </tr>\n",
       "    <tr>\n",
       "      <th>21</th>\n",
       "      <td>make</td>\n",
       "      <td>34</td>\n",
       "    </tr>\n",
       "    <tr>\n",
       "      <th>22</th>\n",
       "      <td>must</td>\n",
       "      <td>33</td>\n",
       "    </tr>\n",
       "    <tr>\n",
       "      <th>23</th>\n",
       "      <td>know</td>\n",
       "      <td>33</td>\n",
       "    </tr>\n",
       "    <tr>\n",
       "      <th>24</th>\n",
       "      <td>man</td>\n",
       "      <td>32</td>\n",
       "    </tr>\n",
       "    <tr>\n",
       "      <th>25</th>\n",
       "      <td>come</td>\n",
       "      <td>31</td>\n",
       "    </tr>\n",
       "    <tr>\n",
       "      <th>27</th>\n",
       "      <td>wife</td>\n",
       "      <td>31</td>\n",
       "    </tr>\n",
       "    <tr>\n",
       "      <th>28</th>\n",
       "      <td>exeunt</td>\n",
       "      <td>30</td>\n",
       "    </tr>\n",
       "    <tr>\n",
       "      <th>29</th>\n",
       "      <td>may</td>\n",
       "      <td>30</td>\n",
       "    </tr>\n",
       "    <tr>\n",
       "      <th>30</th>\n",
       "      <td>one</td>\n",
       "      <td>29</td>\n",
       "    </tr>\n",
       "    <tr>\n",
       "      <th>31</th>\n",
       "      <td>see</td>\n",
       "      <td>27</td>\n",
       "    </tr>\n",
       "    <tr>\n",
       "      <th>32</th>\n",
       "      <td>night</td>\n",
       "      <td>26</td>\n",
       "    </tr>\n",
       "    <tr>\n",
       "      <th>33</th>\n",
       "      <td>mal</td>\n",
       "      <td>25</td>\n",
       "    </tr>\n",
       "    <tr>\n",
       "      <th>34</th>\n",
       "      <td>thane</td>\n",
       "      <td>25</td>\n",
       "    </tr>\n",
       "    <tr>\n",
       "      <th>35</th>\n",
       "      <td>great</td>\n",
       "      <td>25</td>\n",
       "    </tr>\n",
       "    <tr>\n",
       "      <th>36</th>\n",
       "      <td>mine</td>\n",
       "      <td>25</td>\n",
       "    </tr>\n",
       "    <tr>\n",
       "      <th>37</th>\n",
       "      <td>sir</td>\n",
       "      <td>25</td>\n",
       "    </tr>\n",
       "    <tr>\n",
       "      <th>38</th>\n",
       "      <td>let</td>\n",
       "      <td>24</td>\n",
       "    </tr>\n",
       "    <tr>\n",
       "      <th>40</th>\n",
       "      <td>well</td>\n",
       "      <td>23</td>\n",
       "    </tr>\n",
       "    <tr>\n",
       "      <th>41</th>\n",
       "      <td>scena</td>\n",
       "      <td>22</td>\n",
       "    </tr>\n",
       "    <tr>\n",
       "      <th>42</th>\n",
       "      <td>la</td>\n",
       "      <td>21</td>\n",
       "    </tr>\n",
       "    <tr>\n",
       "      <th>43</th>\n",
       "      <td>nature</td>\n",
       "      <td>18</td>\n",
       "    </tr>\n",
       "    <tr>\n",
       "      <th>44</th>\n",
       "      <td>cannot</td>\n",
       "      <td>18</td>\n",
       "    </tr>\n",
       "    <tr>\n",
       "      <th>45</th>\n",
       "      <td>way</td>\n",
       "      <td>17</td>\n",
       "    </tr>\n",
       "    <tr>\n",
       "      <th>46</th>\n",
       "      <td>ha</td>\n",
       "      <td>17</td>\n",
       "    </tr>\n",
       "    <tr>\n",
       "      <th>47</th>\n",
       "      <td>still</td>\n",
       "      <td>17</td>\n",
       "    </tr>\n",
       "    <tr>\n",
       "      <th>48</th>\n",
       "      <td>sey</td>\n",
       "      <td>17</td>\n",
       "    </tr>\n",
       "    <tr>\n",
       "      <th>49</th>\n",
       "      <td>call</td>\n",
       "      <td>16</td>\n",
       "    </tr>\n",
       "    <tr>\n",
       "      <th>50</th>\n",
       "      <td>take</td>\n",
       "      <td>16</td>\n",
       "    </tr>\n",
       "    <tr>\n",
       "      <th>51</th>\n",
       "      <td>father</td>\n",
       "      <td>16</td>\n",
       "    </tr>\n",
       "    <tr>\n",
       "      <th>52</th>\n",
       "      <td>men</td>\n",
       "      <td>15</td>\n",
       "    </tr>\n",
       "  </tbody>\n",
       "</table>\n",
       "</div>"
      ],
      "text/plain": [
       "      Word  Count\n",
       "0    enter     80\n",
       "1     thou     63\n",
       "3     thee     61\n",
       "4     king     55\n",
       "5       th     51\n",
       "6      yet     50\n",
       "7    shall     48\n",
       "9     lady     48\n",
       "10     thy     46\n",
       "11      st     42\n",
       "12   would     42\n",
       "13    time     42\n",
       "14    good     40\n",
       "15    lord     38\n",
       "16    hath     37\n",
       "17    like     36\n",
       "18     say     36\n",
       "19    done     35\n",
       "20     doe     34\n",
       "21    make     34\n",
       "22    must     33\n",
       "23    know     33\n",
       "24     man     32\n",
       "25    come     31\n",
       "27    wife     31\n",
       "28  exeunt     30\n",
       "29     may     30\n",
       "30     one     29\n",
       "31     see     27\n",
       "32   night     26\n",
       "33     mal     25\n",
       "34   thane     25\n",
       "35   great     25\n",
       "36    mine     25\n",
       "37     sir     25\n",
       "38     let     24\n",
       "40    well     23\n",
       "41   scena     22\n",
       "42      la     21\n",
       "43  nature     18\n",
       "44  cannot     18\n",
       "45     way     17\n",
       "46      ha     17\n",
       "47   still     17\n",
       "48     sey     17\n",
       "49    call     16\n",
       "50    take     16\n",
       "51  father     16\n",
       "52     men     15"
      ]
     },
     "execution_count": 12,
     "metadata": {
      "tags": []
     },
     "output_type": "execute_result"
    }
   ],
   "source": [
    "frequency_words = words.most_common(200) # Top 200 words\n",
    "df = pd.DataFrame(frequency_words, columns = ['Word', 'Count']) # Dataframe to show words\n",
    "df['Word'] = df['Word'].astype(str)\n",
    "\n",
    "#stopwords dataframe\n",
    "stop = stopwords.words('english')\n",
    "stop_df=DataFrame(stop,columns=['Word'])\n",
    "\n",
    "#words dataframe\n",
    "go = set(nltk.corpus.words.words())\n",
    "go_df = DataFrame(go,columns=['Word'])\n",
    "\n",
    "df.Word = df.Word.str.replace(' ', '')\n",
    "# df.Word.str.replace('[^a-zA-Z]', '')\n",
    "\n",
    "\n",
    "df2 = df\n",
    "df2['Word'] = df['Word'].str.replace(r'[^\\w\\s]+', '')\n",
    "\n",
    "\n",
    "\n",
    "nan_value = float(\"NaN\")\n",
    "df2.replace(\"\", nan_value, inplace=True)\n",
    "df2.dropna(subset = [\"Word\"], inplace=True)\n",
    "df2.Word = [x.lower() for x in df2.Word]\n",
    "cond = df2['Word'].isin(stop_df['Word'])\n",
    "df2.drop(df2[cond].index, inplace = True)\n",
    "\n",
    "df2 = pd.merge(df2,go_df)\n",
    "df2 = df2.drop_duplicates(subset=['Word'], keep='first')\n",
    "\n",
    "\n",
    "df2.head(200) # Display top to words in dataframe\n"
   ]
  },
  {
   "cell_type": "markdown",
   "metadata": {
    "id": "iAxETXUwBHWu"
   },
   "source": [
    "It turns out Macbeth is a really tough dataset to use a frequency count on, because the stop word list in NLTK is based on modern english.  Additionally it appears with words such as \"vpon\" which should read \"upon\" that there is a transcription error from the original text"
   ]
  },
  {
   "cell_type": "code",
   "execution_count": 13,
   "metadata": {
    "colab": {
     "base_uri": "https://localhost:8080/",
     "height": 359
    },
    "id": "_4Vz6y5v3JAj",
    "outputId": "650eaa22-fba7-45cb-b3b8-171b0608ae5c"
   },
   "outputs": [
    {
     "data": {
      "text/html": [
       "<div>\n",
       "<style scoped>\n",
       "    .dataframe tbody tr th:only-of-type {\n",
       "        vertical-align: middle;\n",
       "    }\n",
       "\n",
       "    .dataframe tbody tr th {\n",
       "        vertical-align: top;\n",
       "    }\n",
       "\n",
       "    .dataframe thead th {\n",
       "        text-align: right;\n",
       "    }\n",
       "</style>\n",
       "<table border=\"1\" class=\"dataframe\">\n",
       "  <thead>\n",
       "    <tr style=\"text-align: right;\">\n",
       "      <th></th>\n",
       "      <th>Word</th>\n",
       "    </tr>\n",
       "  </thead>\n",
       "  <tbody>\n",
       "    <tr>\n",
       "      <th>0</th>\n",
       "      <td>i</td>\n",
       "    </tr>\n",
       "    <tr>\n",
       "      <th>1</th>\n",
       "      <td>me</td>\n",
       "    </tr>\n",
       "    <tr>\n",
       "      <th>2</th>\n",
       "      <td>my</td>\n",
       "    </tr>\n",
       "    <tr>\n",
       "      <th>3</th>\n",
       "      <td>myself</td>\n",
       "    </tr>\n",
       "    <tr>\n",
       "      <th>4</th>\n",
       "      <td>we</td>\n",
       "    </tr>\n",
       "    <tr>\n",
       "      <th>5</th>\n",
       "      <td>our</td>\n",
       "    </tr>\n",
       "    <tr>\n",
       "      <th>6</th>\n",
       "      <td>ours</td>\n",
       "    </tr>\n",
       "    <tr>\n",
       "      <th>7</th>\n",
       "      <td>ourselves</td>\n",
       "    </tr>\n",
       "    <tr>\n",
       "      <th>8</th>\n",
       "      <td>you</td>\n",
       "    </tr>\n",
       "    <tr>\n",
       "      <th>9</th>\n",
       "      <td>you're</td>\n",
       "    </tr>\n",
       "  </tbody>\n",
       "</table>\n",
       "</div>"
      ],
      "text/plain": [
       "        Word\n",
       "0          i\n",
       "1         me\n",
       "2         my\n",
       "3     myself\n",
       "4         we\n",
       "5        our\n",
       "6       ours\n",
       "7  ourselves\n",
       "8        you\n",
       "9     you're"
      ]
     },
     "execution_count": 13,
     "metadata": {
      "tags": []
     },
     "output_type": "execute_result"
    }
   ],
   "source": [
    "stop = stopwords.words('english')\n",
    "stop_df=DataFrame(stop,columns=['Word'])\n",
    "stop_df.head(10)"
   ]
  },
  {
   "cell_type": "code",
   "execution_count": 14,
   "metadata": {
    "colab": {
     "base_uri": "https://localhost:8080/",
     "height": 359
    },
    "id": "w_GBR2eenOzp",
    "outputId": "f7b7c228-6315-4c69-a410-172e6a3d5c36"
   },
   "outputs": [
    {
     "data": {
      "text/html": [
       "<div>\n",
       "<style scoped>\n",
       "    .dataframe tbody tr th:only-of-type {\n",
       "        vertical-align: middle;\n",
       "    }\n",
       "\n",
       "    .dataframe tbody tr th {\n",
       "        vertical-align: top;\n",
       "    }\n",
       "\n",
       "    .dataframe thead th {\n",
       "        text-align: right;\n",
       "    }\n",
       "</style>\n",
       "<table border=\"1\" class=\"dataframe\">\n",
       "  <thead>\n",
       "    <tr style=\"text-align: right;\">\n",
       "      <th></th>\n",
       "      <th>Word</th>\n",
       "      <th>Count</th>\n",
       "    </tr>\n",
       "  </thead>\n",
       "  <tbody>\n",
       "    <tr>\n",
       "      <th>185</th>\n",
       "      <td>still</td>\n",
       "      <td>17</td>\n",
       "    </tr>\n",
       "    <tr>\n",
       "      <th>186</th>\n",
       "      <td>heere</td>\n",
       "      <td>17</td>\n",
       "    </tr>\n",
       "    <tr>\n",
       "      <th>187</th>\n",
       "      <td>sey</td>\n",
       "      <td>17</td>\n",
       "    </tr>\n",
       "    <tr>\n",
       "      <th>188</th>\n",
       "      <td>looke</td>\n",
       "      <td>16</td>\n",
       "    </tr>\n",
       "    <tr>\n",
       "      <th>190</th>\n",
       "      <td>call</td>\n",
       "      <td>16</td>\n",
       "    </tr>\n",
       "    <tr>\n",
       "      <th>192</th>\n",
       "      <td>owne</td>\n",
       "      <td>16</td>\n",
       "    </tr>\n",
       "    <tr>\n",
       "      <th>193</th>\n",
       "      <td>take</td>\n",
       "      <td>16</td>\n",
       "    </tr>\n",
       "    <tr>\n",
       "      <th>194</th>\n",
       "      <td>sleepe</td>\n",
       "      <td>16</td>\n",
       "    </tr>\n",
       "    <tr>\n",
       "      <th>195</th>\n",
       "      <td>father</td>\n",
       "      <td>16</td>\n",
       "    </tr>\n",
       "    <tr>\n",
       "      <th>196</th>\n",
       "      <td>men</td>\n",
       "      <td>15</td>\n",
       "    </tr>\n",
       "  </tbody>\n",
       "</table>\n",
       "</div>"
      ],
      "text/plain": [
       "       Word  Count\n",
       "185   still     17\n",
       "186   heere     17\n",
       "187     sey     17\n",
       "188   looke     16\n",
       "190    call     16\n",
       "192    owne     16\n",
       "193    take     16\n",
       "194  sleepe     16\n",
       "195  father     16\n",
       "196     men     15"
      ]
     },
     "execution_count": 14,
     "metadata": {
      "tags": []
     },
     "output_type": "execute_result"
    }
   ],
   "source": [
    "df.tail(10) # Display last ten words in dataframe"
   ]
  },
  {
   "cell_type": "markdown",
   "metadata": {
    "id": "UInV1IDknOzp"
   },
   "source": [
    "# 5. Create a graph that shows the relative frequency of these 200 words."
   ]
  },
  {
   "cell_type": "code",
   "execution_count": 15,
   "metadata": {
    "colab": {
     "base_uri": "https://localhost:8080/",
     "height": 321
    },
    "id": "HElPF1cBnOzp",
    "outputId": "d2b62ea4-aef3-4d6b-ad86-85f0700c18b0"
   },
   "outputs": [
    {
     "data": {
      "text/plain": [
       "<matplotlib.axes._subplots.AxesSubplot at 0x7f85d9f44050>"
      ]
     },
     "execution_count": 15,
     "metadata": {
      "tags": []
     },
     "output_type": "execute_result"
    },
    {
     "data": {
      "image/png": "[encoded data removed]",
      "text/plain": [
       "<Figure size 432x288 with 1 Axes>"
      ]
     },
     "metadata": {
      "needs_background": "light",
      "tags": []
     },
     "output_type": "display_data"
    }
   ],
   "source": [
    "#\"ye olde\" vocab filtered out\n",
    "df2.plot.bar(x='Word', y='Count')"
   ]
  },
  {
   "cell_type": "code",
   "execution_count": 16,
   "metadata": {
    "colab": {
     "base_uri": "https://localhost:8080/",
     "height": 334
    },
    "id": "gIcoJbTOEvia",
    "outputId": "81011919-6926-406f-a61e-703bf0dfb72e"
   },
   "outputs": [
    {
     "data": {
      "text/plain": [
       "<matplotlib.axes._subplots.AxesSubplot at 0x7f85d9d5fe10>"
      ]
     },
     "execution_count": 16,
     "metadata": {
      "tags": []
     },
     "output_type": "execute_result"
    },
    {
     "data": {
      "image/png": "[encoded data removed]",
      "text/plain": [
       "<Figure size 432x288 with 1 Axes>"
      ]
     },
     "metadata": {
      "needs_background": "light",
      "tags": []
     },
     "output_type": "display_data"
    }
   ],
   "source": [
    "#unfiltered for \"ye olde\" vocab\n",
    "df.plot.bar(x='Word', y='Count')"
   ]
  },
  {
   "cell_type": "markdown",
   "metadata": {
    "id": "3o06tbZvnOzq"
   },
   "source": [
    "# 6. Does the observed relative frequency of these words follow Zipf’s law? Explain.\n",
    "\n",
    "###\"Zipf's law was originally formulated in terms of quantitative linguistics, stating that given some corpus of natural language utterances, the frequency of any word is inversely proportional to its rank in the frequency table.\"\n",
    "\n",
    "###In our dataset the frequency of the words is inversely proportional (however not directly).  That is, we do not see the expected frequency drop of the second word occuring half as often as the first word.  However, as the visuals show, the measured word frequencies have been filtered to match a set of common english words in an attempt to filter out Named Entities."
   ]
  },
  {
   "cell_type": "markdown",
   "metadata": {
    "id": "X15SE63qnOzq"
   },
   "source": [
    "# 7. In what ways do you think the frequency of the words in this corpus differ from “all words in all corpora.”\n",
    "\n",
    "\n",
    "###This particular word frequency list is probably much different than all words in all corpora because it is a very old text.  As language and technology have improved the documents which have been converted into massive word corpora likely skew to newer vocabulary which changes over time.  "
   ]
  },
  {
   "cell_type": "markdown",
   "metadata": {
    "id": "uFWFQqt_732y"
   },
   "source": [
    "#Video\n",
    "\n",
    "[Video Description of Code](https://youtu.be/yyg9nCuGQGk)"
   ]
  }
 ],
 "metadata": {
  "colab": {
   "name": "DATA620_Week4_Part2.ipynb",
   "provenance": []
  },
  "kernelspec": {
   "display_name": "Python 3",
   "language": "python",
   "name": "python3"
  },
  "language_info": {
   "codemirror_mode": {
    "name": "ipython",
    "version": 3
   },
   "file_extension": ".py",
   "mimetype": "text/x-python",
   "name": "python",
   "nbconvert_exporter": "python",
   "pygments_lexer": "ipython3",
   "version": "3.7.4"
  }
 },
 "nbformat": 4,
 "nbformat_minor": 1
}
