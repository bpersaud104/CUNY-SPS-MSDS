{
 "cells": [
  {
   "cell_type": "code",
   "execution_count": 1,
   "metadata": {},
   "outputs": [],
   "source": [
    "import matplotlib.pyplot as plt\n",
    "import networkx as nx"
   ]
  },
  {
   "cell_type": "code",
   "execution_count": 2,
   "metadata": {},
   "outputs": [],
   "source": [
    "graph = nx.Graph() # Create graph"
   ]
  },
  {
   "cell_type": "markdown",
   "metadata": {},
   "source": [
    "Now that we have our graph let's add nodes and edges into the graph."
   ]
  },
  {
   "cell_type": "code",
   "execution_count": 3,
   "metadata": {},
   "outputs": [],
   "source": [
    "# Create nodes and edges\n",
    "graph.add_edge('Andre', 'Beverly')\n",
    "graph.add_edge('Andre', 'Carol')\n",
    "graph.add_edge('Andre', 'Diane')\n",
    "graph.add_edge('Beverly', 'Andre')\n",
    "graph.add_edge('Beverly', 'Diane')\n",
    "graph.add_edge('Beverly', 'Ed')\n",
    "graph.add_edge('Carol', 'Andre')\n",
    "graph.add_edge('Carol', 'Diane')\n",
    "graph.add_edge('Carol', 'Fernando')\n",
    "graph.add_edge('Ed', 'Beverly')\n",
    "graph.add_edge('Ed', 'Diane')\n",
    "graph.add_edge('Ed', 'Garth')\n",
    "graph.add_edge('Fernando', 'Garth')\n",
    "graph.add_edge('Fernando', 'Diane')\n",
    "graph.add_edge('Fernando', 'Carol')\n",
    "graph.add_edge('Garth', 'Ed')\n",
    "graph.add_edge('Garth', 'Diane')\n",
    "graph.add_edge('Garth', 'Fernando')\n",
    "graph.add_edge('Garth', 'Heather')\n",
    "graph.add_edge('Heather', 'Fernando')\n",
    "graph.add_edge('Heather', 'Garth')\n",
    "graph.add_edge('Heather', 'Ike')\n",
    "graph.add_edge('Ike', 'Heather')\n",
    "graph.add_edge('Ike', 'Jane')\n",
    "graph.add_edge('Jane', 'Ike')"
   ]
  },
  {
   "cell_type": "markdown",
   "metadata": {},
   "source": [
    "Now that we added in the nodes and the edges let's position them."
   ]
  },
  {
   "cell_type": "code",
   "execution_count": 4,
   "metadata": {},
   "outputs": [],
   "source": [
    "# Set up positions\n",
    "position = {\n",
    "    'Andre':(0,1),\n",
    "    'Beverly':(0,-1),\n",
    "    'Carol':(1,2),\n",
    "    'Diane':(1,0),\n",
    "    'Ed':(1,-2),\n",
    "    'Fernando':(2,1),\n",
    "    'Garth':(2,-1),\n",
    "    'Heather':(3,0),\n",
    "    'Ike':(4,0),\n",
    "    'Jane':(5,0),  \n",
    "}"
   ]
  },
  {
   "cell_type": "markdown",
   "metadata": {},
   "source": [
    "Now let's draw in the nodes and edges as well as the labels. Once we do this we can plot the graph."
   ]
  },
  {
   "cell_type": "code",
   "execution_count": 6,
   "metadata": {},
   "outputs": [
    {
     "data": {
      "image/png": "[encoded data removed]",
      "text/plain": [
       "<Figure size 432x288 with 1 Axes>"
      ]
     },
     "metadata": {
      "needs_background": "light"
     },
     "output_type": "display_data"
    }
   ],
   "source": [
    "nx.draw_networkx_nodes(graph, position, node_size = 800) # Draw nodes\n",
    "nx.draw_networkx_edges(graph, position, alpha = 0.5, width = 6) # Draw edges\n",
    "nx.draw_networkx_labels(graph, position, font_size = 15) # Draw labels\n",
    "plt.axis('off') # Remove axis\n",
    "plt.show() # Display graph"
   ]
  }
 ],
 "metadata": {
  "kernelspec": {
   "display_name": "Python 3.7.6 64-bit",
   "language": "python",
   "name": "python37664bitbcd1b4e1315a40589bdcb2f2171791f2"
  },
  "language_info": {
   "codemirror_mode": {
    "name": "ipython",
    "version": 3
   },
   "file_extension": ".py",
   "mimetype": "text/x-python",
   "name": "python",
   "nbconvert_exporter": "python",
   "pygments_lexer": "ipython3",
   "version": "3.7.6"
  }
 },
 "nbformat": 4,
 "nbformat_minor": 2
}
