{
 "cells": [
  {
   "cell_type": "markdown",
   "metadata": {},
   "source": [
    "# Project 3"
   ]
  },
  {
   "cell_type": "markdown",
   "metadata": {},
   "source": [
    "Group Member: Bryan Persaud, Matthew Baker, Zhi Ying Chen"
   ]
  },
  {
   "cell_type": "markdown",
   "metadata": {},
   "source": [
    "For this project, please work with the entire class as one collaborative group! Your project should be\n",
    "submitted (as a Jupyter Notebook via GitHub) by end of the due date. The group should present their\n",
    "code and findings in our meetup."
   ]
  },
  {
   "cell_type": "code",
   "execution_count": 1,
   "metadata": {},
   "outputs": [],
   "source": [
    "import nltk\n",
    "from collections import Counter\n",
    "from nltk import download\n",
    "from nltk.corpus import names\n",
    "from nltk.util import ngrams\n",
    "from nltk.tokenize.sonority_sequencing import SyllableTokenizer\n",
    "from nltk import NaiveBayesClassifier\n",
    "from nltk import DecisionTreeClassifier\n",
    "from nltk import classify\n",
    "from nltk.classify import apply_features\n",
    "import matplotlib.pyplot as plt\n",
    "import seaborn as sns\n",
    "import random\n",
    "import pandas as pd\n",
    "import numpy as np\n",
    "\n",
    "# jupyter setup\n",
    "from IPython.core.interactiveshell import InteractiveShell\n",
    "InteractiveShell.ast_node_interactivity = \"all\"\n",
    "\n",
    "%matplotlib inline"
   ]
  },
  {
   "cell_type": "markdown",
   "metadata": {},
   "source": [
    "Using any of the three classifiers described in chapter 6 of Natural Language Processing with Python,\n",
    "and any features you can think of, build the best name gender classifier you can. "
   ]
  },
  {
   "cell_type": "code",
   "execution_count": 2,
   "metadata": {},
   "outputs": [
    {
     "name": "stderr",
     "output_type": "stream",
     "text": [
      "[nltk_data] Downloading package names to\n",
      "[nltk_data]     C:\\Users\\Bryan\\AppData\\Roaming\\nltk_data...\n",
      "[nltk_data]   Package names is already up-to-date!\n"
     ]
    },
    {
     "data": {
      "text/plain": [
       "True"
      ]
     },
     "execution_count": 2,
     "metadata": {},
     "output_type": "execute_result"
    }
   ],
   "source": [
    "download('names')\n",
    "males = [(name.lower().strip(), 'male') for name in names.words('male.txt')]\n",
    "females = [(name.lower().strip(), 'female') for name in names.words('female.txt')]\n",
    "names = males + females\n",
    "random.shuffle(names)"
   ]
  },
  {
   "cell_type": "code",
   "execution_count": 74,
   "metadata": {},
   "outputs": [
    {
     "data": {
      "text/plain": [
       "[('maryjo', 'female'),\n",
       " ('nanice', 'female'),\n",
       " ('daphene', 'female'),\n",
       " ('ceciley', 'female'),\n",
       " ('hope', 'female'),\n",
       " ('mack', 'male'),\n",
       " ('pat', 'male'),\n",
       " ('sunshine', 'female'),\n",
       " ('charin', 'female'),\n",
       " ('maggi', 'female')]"
      ]
     },
     "execution_count": 74,
     "metadata": {},
     "output_type": "execute_result"
    }
   ],
   "source": [
    "# List of Top 10 names\n",
    "names[0:10]"
   ]
  },
  {
   "cell_type": "markdown",
   "metadata": {},
   "source": [
    "Begin by splitting the Names Corpus into three subsets: 500 words for the test set, 500 words for the devtest set, and the remaining 6900 words for the training set. Then, starting with the example name gender classifier, make incremental improvements. Use the dev-test set to check your progress. Once you are satisfied with your classifier, check its final performance on the test set.\n",
    "\n",
    "How does the performance on the test set compare to the performance on the dev-test set? Is this what you'd expect?"
   ]
  },
  {
   "cell_type": "code",
   "execution_count": 38,
   "metadata": {},
   "outputs": [
    {
     "data": {
      "text/plain": [
       "7944"
      ]
     },
     "execution_count": 38,
     "metadata": {},
     "output_type": "execute_result"
    }
   ],
   "source": [
    "# Length of names\n",
    "len(names)"
   ]
  },
  {
   "cell_type": "code",
   "execution_count": 39,
   "metadata": {},
   "outputs": [],
   "source": [
    "train_set = names[1000:]\n",
    "test_set = names[:500]\n",
    "devtest_names = names[500:1000]"
   ]
  },
  {
   "cell_type": "code",
   "execution_count": 40,
   "metadata": {},
   "outputs": [
    {
     "data": {
      "text/plain": [
       "6944"
      ]
     },
     "execution_count": 40,
     "metadata": {},
     "output_type": "execute_result"
    }
   ],
   "source": [
    "# Length of train dataset\n",
    "len(train_set)"
   ]
  },
  {
   "cell_type": "code",
   "execution_count": 41,
   "metadata": {},
   "outputs": [
    {
     "data": {
      "text/plain": [
       "500"
      ]
     },
     "execution_count": 41,
     "metadata": {},
     "output_type": "execute_result"
    }
   ],
   "source": [
    "# length of test dataset\n",
    "len(test_set)"
   ]
  },
  {
   "cell_type": "code",
   "execution_count": 42,
   "metadata": {},
   "outputs": [
    {
     "data": {
      "text/plain": [
       "500"
      ]
     },
     "execution_count": 42,
     "metadata": {},
     "output_type": "execute_result"
    }
   ],
   "source": [
    "# length of devtest set\n",
    "len(devtest_names)"
   ]
  },
  {
   "cell_type": "markdown",
   "metadata": {},
   "source": [
    "We take a look at the data by looking at the number of names in the dataset and then split the data into a train/test set."
   ]
  },
  {
   "cell_type": "markdown",
   "metadata": {},
   "source": [
    "## Naive Baiyer Classifier"
   ]
  },
  {
   "cell_type": "markdown",
   "metadata": {},
   "source": [
    "In Naive Bayes classifiers, every feature gets a say in determining which label should be assigned to a given input value. To choose a label for an input value, the Naive Bayes classifier begins by calculating the prior probability of each label, which is determined by checking the frequency of each label in the training set. The contribution from each feature is then combined with this prior probability, to arrive at a likelihood estimate for each label."
   ]
  },
  {
   "cell_type": "markdown",
   "metadata": {},
   "source": [
    "### Feature 1"
   ]
  },
  {
   "cell_type": "markdown",
   "metadata": {},
   "source": [
    "The first step in creating a classifier is deciding what features of the input are relevant, and how to encode those features. For this example, we'll only include only last character of word."
   ]
  },
  {
   "cell_type": "code",
   "execution_count": 75,
   "metadata": {},
   "outputs": [],
   "source": [
    "# Book's classifier - baseline\n",
    "def gender_features(word):\n",
    "    w = word.lower()\n",
    "    return {'last_letter': w[-1]} "
   ]
  },
  {
   "cell_type": "markdown",
   "metadata": {},
   "source": [
    "The training set is used to train the model, and the dev-test set is used to perform error analysis. The test set serves in our final evaluation of the system. For reasons discussed below, it is important that we employ a separate dev-test set for error analysis, rather than just using the test set."
   ]
  },
  {
   "cell_type": "code",
   "execution_count": 76,
   "metadata": {},
   "outputs": [],
   "source": [
    "featuresets = [(gender_features(n), g) for (n,g) in names]\n",
    "train_featuresets = [(gender_features(n), g) for (n, g) in train_set]\n",
    "test_featuresets = [(gender_features(n), g) for (n, g) in test_set]\n",
    "devtest_featuresets = [(gender_features(n), g) for (n, g) in devtest_names]"
   ]
  },
  {
   "cell_type": "markdown",
   "metadata": {},
   "source": [
    "We apply Naive Baiyer Classifier to calculate the accuracy for the initial model which takes into consideration the last letter of each name."
   ]
  },
  {
   "cell_type": "code",
   "execution_count": 162,
   "metadata": {},
   "outputs": [
    {
     "name": "stdout",
     "output_type": "stream",
     "text": [
      "Accuracy: 0.76\n"
     ]
    }
   ],
   "source": [
    "nb1 = nltk.NaiveBayesClassifier.train(train_featuresets)\n",
    "\n",
    "print ('Accuracy: %4.2f' %nltk.classify.accuracy(nb1, devtest_featuresets))"
   ]
  },
  {
   "cell_type": "code",
   "execution_count": 175,
   "metadata": {},
   "outputs": [
    {
     "name": "stdout",
     "output_type": "stream",
     "text": [
      "Most Informative Features\n",
      "             last_letter = 'k'              male : female =     41.3 : 1.0\n",
      "             last_letter = 'a'            female : male   =     37.2 : 1.0\n",
      "             last_letter = 'f'              male : female =     15.4 : 1.0\n",
      "             last_letter = 'd'              male : female =     10.7 : 1.0\n",
      "             last_letter = 'm'              male : female =     10.3 : 1.0\n"
     ]
    }
   ],
   "source": [
    "# Top 5 of most effective for distinguishing the names’ genders:\n",
    "classifier.show_most_informative_features(5)"
   ]
  },
  {
   "cell_type": "markdown",
   "metadata": {},
   "source": [
    "This listing shows that the names in the training set that end in \"a\" are female 41.3 times more than they are male, but names that end in \"k\" are male 37.2 times more than they are female. These ratios are known as likelihood ratios, and can be useful for comparing different feature-outcome relationships."
   ]
  },
  {
   "cell_type": "markdown",
   "metadata": {},
   "source": [
    "Using the dev-test set, we generate a list of the errors that the classifier makes when predicting name genders:"
   ]
  },
  {
   "cell_type": "code",
   "execution_count": 164,
   "metadata": {},
   "outputs": [],
   "source": [
    "def error_analysis(FEATURES):        \n",
    "    errors = [] \n",
    "    for (name, tag) in devtest_names:\n",
    "        guess = classifier.classify(FEATURES(name))\n",
    "        if guess != tag:\n",
    "            errors.append((tag, guess, name))\n",
    "    print(\"Number of Errors: \", len(errors))    \n",
    "    for (tag, guess, name) in sorted(errors):\n",
    "        print('correct = {:<8} guess = {:<8s} name = {:<30}'.format(tag, guess, name))"
   ]
  },
  {
   "cell_type": "code",
   "execution_count": 165,
   "metadata": {},
   "outputs": [
    {
     "name": "stdout",
     "output_type": "stream",
     "text": [
      "Number of Errors:  122\n",
      "correct = female   guess = male     name = aileen                        \n",
      "correct = female   guess = male     name = alisun                        \n",
      "correct = female   guess = male     name = alys                          \n",
      "correct = female   guess = male     name = arabel                        \n",
      "correct = female   guess = male     name = bird                          \n",
      "correct = female   guess = male     name = bridget                       \n",
      "correct = female   guess = male     name = brynn                         \n",
      "correct = female   guess = male     name = carol                         \n",
      "correct = female   guess = male     name = caroleen                      \n",
      "correct = female   guess = male     name = caroljean                     \n",
      "correct = female   guess = male     name = charis                        \n",
      "correct = female   guess = male     name = christin                      \n",
      "correct = female   guess = male     name = clair                         \n",
      "correct = female   guess = male     name = claribel                      \n",
      "correct = female   guess = male     name = darb                          \n",
      "correct = female   guess = male     name = gennifer                      \n",
      "correct = female   guess = male     name = gillan                        \n",
      "correct = female   guess = male     name = gretchen                      \n",
      "correct = female   guess = male     name = ingaberg                      \n",
      "correct = female   guess = male     name = ingrid                        \n",
      "correct = female   guess = male     name = isabeau                       \n",
      "correct = female   guess = male     name = isis                          \n",
      "correct = female   guess = male     name = jaynell                       \n",
      "correct = female   guess = male     name = justin                        \n",
      "correct = female   guess = male     name = karalynn                      \n",
      "correct = female   guess = male     name = kaster                        \n",
      "correct = female   guess = male     name = kathlin                       \n",
      "correct = female   guess = male     name = kim                           \n",
      "correct = female   guess = male     name = laural                        \n",
      "correct = female   guess = male     name = leanor                        \n",
      "correct = female   guess = male     name = lind                          \n",
      "correct = female   guess = male     name = madelon                       \n",
      "correct = female   guess = male     name = mag                           \n",
      "correct = female   guess = male     name = mair                          \n",
      "correct = female   guess = male     name = marget                        \n",
      "correct = female   guess = male     name = margret                       \n",
      "correct = female   guess = male     name = mariel                        \n",
      "correct = female   guess = male     name = maryellen                     \n",
      "correct = female   guess = male     name = marys                         \n",
      "correct = female   guess = male     name = meryl                         \n",
      "correct = female   guess = male     name = mikako                        \n",
      "correct = female   guess = male     name = miran                         \n",
      "correct = female   guess = male     name = nert                          \n",
      "correct = female   guess = male     name = pearl                         \n",
      "correct = female   guess = male     name = pen                           \n",
      "correct = female   guess = male     name = persis                        \n",
      "correct = female   guess = male     name = pet                           \n",
      "correct = female   guess = male     name = rhiamon                       \n",
      "correct = female   guess = male     name = ros                           \n",
      "correct = female   guess = male     name = rosaleen                      \n",
      "correct = female   guess = male     name = rosalynd                      \n",
      "correct = female   guess = male     name = rosamond                      \n",
      "correct = female   guess = male     name = sean                          \n",
      "correct = female   guess = male     name = sharleen                      \n",
      "correct = female   guess = male     name = shawn                         \n",
      "correct = female   guess = male     name = sinead                        \n",
      "correct = female   guess = male     name = tatum                         \n",
      "correct = female   guess = male     name = thomasin                      \n",
      "correct = female   guess = male     name = yehudit                       \n",
      "correct = male     guess = female   name = adolphe                       \n",
      "correct = male     guess = female   name = alaa                          \n",
      "correct = male     guess = female   name = aldrich                       \n",
      "correct = male     guess = female   name = allah                         \n",
      "correct = male     guess = female   name = andre                         \n",
      "correct = male     guess = female   name = archie                        \n",
      "correct = male     guess = female   name = barnabe                       \n",
      "correct = male     guess = female   name = barrie                        \n",
      "correct = male     guess = female   name = benji                         \n",
      "correct = male     guess = female   name = constantine                   \n",
      "correct = male     guess = female   name = dewey                         \n",
      "correct = male     guess = female   name = dmitri                        \n",
      "correct = male     guess = female   name = duffy                         \n",
      "correct = male     guess = female   name = durante                       \n",
      "correct = male     guess = female   name = eddie                         \n",
      "correct = male     guess = female   name = ely                           \n",
      "correct = male     guess = female   name = emmery                        \n",
      "correct = male     guess = female   name = frankie                       \n",
      "correct = male     guess = female   name = graehme                       \n",
      "correct = male     guess = female   name = granville                     \n",
      "correct = male     guess = female   name = greggory                      \n",
      "correct = male     guess = female   name = hersh                         \n",
      "correct = male     guess = female   name = hymie                         \n",
      "correct = male     guess = female   name = iggie                         \n",
      "correct = male     guess = female   name = jedediah                      \n",
      "correct = male     guess = female   name = jeffie                        \n",
      "correct = male     guess = female   name = jeromy                        \n",
      "correct = male     guess = female   name = juanita                       \n",
      "correct = male     guess = female   name = lawrence                      \n",
      "correct = male     guess = female   name = lefty                         \n",
      "correct = male     guess = female   name = mahesh                        \n",
      "correct = male     guess = female   name = maurie                        \n",
      "correct = male     guess = female   name = mickey                        \n",
      "correct = male     guess = female   name = mitch                         \n",
      "correct = male     guess = female   name = moe                           \n",
      "correct = male     guess = female   name = moishe                        \n",
      "correct = male     guess = female   name = nate                          \n",
      "correct = male     guess = female   name = neville                       \n",
      "correct = male     guess = female   name = nichole                       \n",
      "correct = male     guess = female   name = obadiah                       \n",
      "correct = male     guess = female   name = osborne                       \n",
      "correct = male     guess = female   name = pearce                        \n",
      "correct = male     guess = female   name = pembroke                      \n",
      "correct = male     guess = female   name = pete                          \n",
      "correct = male     guess = female   name = pierre                        \n",
      "correct = male     guess = female   name = radcliffe                     \n",
      "correct = male     guess = female   name = randolph                      \n",
      "correct = male     guess = female   name = ravi                          \n",
      "correct = male     guess = female   name = rawley                        \n",
      "correct = male     guess = female   name = rickey                        \n",
      "correct = male     guess = female   name = ritchie                       \n",
      "correct = male     guess = female   name = rudy                          \n",
      "correct = male     guess = female   name = si                            \n",
      "correct = male     guess = female   name = spense                        \n",
      "correct = male     guess = female   name = terrance                      \n",
      "correct = male     guess = female   name = tracy                         \n",
      "correct = male     guess = female   name = ty                            \n",
      "correct = male     guess = female   name = vasily                        \n",
      "correct = male     guess = female   name = vijay                         \n",
      "correct = male     guess = female   name = virgie                        \n",
      "correct = male     guess = female   name = winny                         \n",
      "correct = male     guess = female   name = wye                           \n",
      "correct = male     guess = female   name = yance                         \n"
     ]
    }
   ],
   "source": [
    "error_analysis(gender_features)"
   ]
  },
  {
   "cell_type": "markdown",
   "metadata": {},
   "source": [
    "Number of Errors from Feature 1: 122"
   ]
  },
  {
   "cell_type": "markdown",
   "metadata": {},
   "source": [
    "### Feature 2"
   ]
  },
  {
   "cell_type": "markdown",
   "metadata": {},
   "source": [
    "For Feature 2, we adjust our feature extractor to include features for two-letter suffixes and whether last letter is a vowel (aeiou)."
   ]
  },
  {
   "cell_type": "code",
   "execution_count": 109,
   "metadata": {},
   "outputs": [],
   "source": [
    "def gender_features2(word):\n",
    "    return {'suffix1': word[-1],\n",
    "            'suffix2': word[-2:],\n",
    "            'last_is_vowel' : (word[-1] in 'aeiou')}"
   ]
  },
  {
   "cell_type": "code",
   "execution_count": 110,
   "metadata": {},
   "outputs": [],
   "source": [
    "train_featuresets2 = [(gender_features2(n), g) for (n, g) in train_set]\n",
    "test_featuresets2 = [(gender_features2(n), g) for (n, g) in test_set]\n",
    "devtest_featuresets2 = [(gender_features2(n), g) for (n, g) in devtest_names]"
   ]
  },
  {
   "cell_type": "code",
   "execution_count": 166,
   "metadata": {},
   "outputs": [
    {
     "name": "stdout",
     "output_type": "stream",
     "text": [
      "Accuracy: 0.75\n"
     ]
    }
   ],
   "source": [
    "nb2 = nltk.NaiveBayesClassifier.train(train_featuresets2)\n",
    "\n",
    "print ('Accuracy: %4.2f' %nltk.classify.accuracy(nb2, devtest_featuresets2))"
   ]
  },
  {
   "cell_type": "code",
   "execution_count": 167,
   "metadata": {
    "scrolled": true
   },
   "outputs": [
    {
     "name": "stdout",
     "output_type": "stream",
     "text": [
      "Most Informative Features\n",
      "                 suffix2 = 'na'           female : male   =    157.3 : 1.0\n",
      "                 suffix2 = 'la'           female : male   =     69.8 : 1.0\n",
      "                 suffix2 = 'ta'           female : male   =     43.3 : 1.0\n",
      "                 suffix1 = 'k'              male : female =     41.3 : 1.0\n",
      "                 suffix2 = 'ld'             male : female =     39.7 : 1.0\n"
     ]
    }
   ],
   "source": [
    "# Top 5 of most effective for distinguishing the names’ genders:\n",
    "classifier2.show_most_informative_features(5)"
   ]
  },
  {
   "cell_type": "markdown",
   "metadata": {},
   "source": [
    "This listing shows that the names in the training set that suffix in \"na\" are female 157.3 times more than they are male, but names that suffix in \"la\" are male 69.8 times more than they are female. "
   ]
  },
  {
   "cell_type": "code",
   "execution_count": 168,
   "metadata": {},
   "outputs": [
    {
     "name": "stdout",
     "output_type": "stream",
     "text": [
      "Number of Errors:  181\n",
      "correct = male     guess = female   name = adolphe                       \n",
      "correct = male     guess = female   name = adrian                        \n",
      "correct = male     guess = female   name = agustin                       \n",
      "correct = male     guess = female   name = ahmad                         \n",
      "correct = male     guess = female   name = alaa                          \n",
      "correct = male     guess = female   name = alan                          \n",
      "correct = male     guess = female   name = aldrich                       \n",
      "correct = male     guess = female   name = alic                          \n",
      "correct = male     guess = female   name = alister                       \n",
      "correct = male     guess = female   name = allah                         \n",
      "correct = male     guess = female   name = andre                         \n",
      "correct = male     guess = female   name = archie                        \n",
      "correct = male     guess = female   name = armstrong                     \n",
      "correct = male     guess = female   name = artur                         \n",
      "correct = male     guess = female   name = aubert                        \n",
      "correct = male     guess = female   name = baird                         \n",
      "correct = male     guess = female   name = barnabe                       \n",
      "correct = male     guess = female   name = barrie                        \n",
      "correct = male     guess = female   name = bear                          \n",
      "correct = male     guess = female   name = ben                           \n",
      "correct = male     guess = female   name = benji                         \n",
      "correct = male     guess = female   name = bennett                       \n",
      "correct = male     guess = female   name = berk                          \n",
      "correct = male     guess = female   name = bertram                       \n",
      "correct = male     guess = female   name = bo                            \n",
      "correct = male     guess = female   name = boyd                          \n",
      "correct = male     guess = female   name = brooks                        \n",
      "correct = male     guess = female   name = casper                        \n",
      "correct = male     guess = female   name = chris                         \n",
      "correct = male     guess = female   name = christ                        \n",
      "correct = male     guess = female   name = christiano                    \n",
      "correct = male     guess = female   name = constantine                   \n",
      "correct = male     guess = female   name = cornellis                     \n",
      "correct = male     guess = female   name = curtis                        \n",
      "correct = male     guess = female   name = darius                        \n",
      "correct = male     guess = female   name = derrick                       \n",
      "correct = male     guess = female   name = devin                         \n",
      "correct = male     guess = female   name = dewey                         \n",
      "correct = male     guess = female   name = dexter                        \n",
      "correct = male     guess = female   name = dion                          \n",
      "correct = male     guess = female   name = dmitri                        \n",
      "correct = male     guess = female   name = duffy                         \n",
      "correct = male     guess = female   name = dunstan                       \n",
      "correct = male     guess = female   name = durante                       \n",
      "correct = male     guess = female   name = earl                          \n",
      "correct = male     guess = female   name = eddie                         \n",
      "correct = male     guess = female   name = eduard                        \n",
      "correct = male     guess = female   name = ely                           \n",
      "correct = male     guess = female   name = emmery                        \n",
      "correct = male     guess = female   name = emmett                        \n",
      "correct = male     guess = female   name = ervin                         \n",
      "correct = male     guess = female   name = ethelbert                     \n",
      "correct = male     guess = female   name = flipper                       \n",
      "correct = male     guess = female   name = ford                          \n",
      "correct = male     guess = female   name = fowler                        \n",
      "correct = male     guess = female   name = frankie                       \n",
      "correct = male     guess = female   name = fredric                       \n",
      "correct = male     guess = female   name = friedric                      \n",
      "correct = male     guess = female   name = gershom                       \n",
      "correct = male     guess = female   name = graehme                       \n",
      "correct = male     guess = female   name = granville                     \n",
      "correct = male     guess = female   name = greggory                      \n",
      "correct = male     guess = female   name = hal                           \n",
      "correct = male     guess = female   name = hamlet                        \n",
      "correct = male     guess = female   name = hamlin                        \n",
      "correct = male     guess = female   name = hart                          \n",
      "correct = male     guess = female   name = hendrik                       \n",
      "correct = male     guess = female   name = henrik                        \n",
      "correct = male     guess = female   name = hermann                       \n",
      "correct = male     guess = female   name = hersh                         \n",
      "correct = male     guess = female   name = hew                           \n",
      "correct = male     guess = female   name = higgins                       \n",
      "correct = male     guess = female   name = homer                         \n",
      "correct = male     guess = female   name = humbert                       \n",
      "correct = male     guess = female   name = hunt                          \n",
      "correct = male     guess = female   name = hymie                         \n",
      "correct = male     guess = female   name = ian                           \n",
      "correct = male     guess = female   name = iggie                         \n",
      "correct = male     guess = female   name = ignazio                       \n",
      "correct = male     guess = female   name = irvin                         \n",
      "correct = male     guess = female   name = ivan                          \n",
      "correct = male     guess = female   name = jedediah                      \n",
      "correct = male     guess = female   name = jeffie                        \n",
      "correct = male     guess = female   name = jeromy                        \n",
      "correct = male     guess = female   name = jervis                        \n",
      "correct = male     guess = female   name = joachim                       \n",
      "correct = male     guess = female   name = juan                          \n",
      "correct = male     guess = female   name = juanita                       \n",
      "correct = male     guess = female   name = kaiser                        \n",
      "correct = male     guess = female   name = kenyon                        \n",
      "correct = male     guess = female   name = lawrence                      \n",
      "correct = male     guess = female   name = lawton                        \n",
      "correct = male     guess = female   name = lefty                         \n",
      "correct = male     guess = female   name = mahesh                        \n",
      "correct = male     guess = female   name = marius                        \n",
      "correct = male     guess = female   name = mark                          \n",
      "correct = male     guess = female   name = maurie                        \n",
      "correct = male     guess = female   name = maurits                       \n",
      "correct = male     guess = female   name = maximilien                    \n",
      "correct = male     guess = female   name = merrel                        \n",
      "correct = male     guess = female   name = micheil                       \n",
      "correct = male     guess = female   name = michel                        \n",
      "correct = male     guess = female   name = mickey                        \n",
      "correct = male     guess = female   name = mitch                         \n",
      "correct = male     guess = female   name = moe                           \n",
      "correct = male     guess = female   name = moishe                        \n",
      "correct = male     guess = female   name = morton                        \n",
      "correct = male     guess = female   name = nate                          \n",
      "correct = male     guess = female   name = nathan                        \n",
      "correct = male     guess = female   name = nealson                       \n",
      "correct = male     guess = female   name = ned                           \n",
      "correct = male     guess = female   name = neville                       \n",
      "correct = male     guess = female   name = nichole                       \n",
      "correct = male     guess = female   name = norbert                       \n",
      "correct = male     guess = female   name = obadiah                       \n",
      "correct = male     guess = female   name = omar                          \n",
      "correct = male     guess = female   name = orson                         \n",
      "correct = male     guess = female   name = osborne                       \n",
      "correct = male     guess = female   name = oswell                        \n",
      "correct = male     guess = female   name = owen                          \n",
      "correct = male     guess = female   name = paton                         \n",
      "correct = male     guess = female   name = paulo                         \n",
      "correct = male     guess = female   name = pearce                        \n",
      "correct = male     guess = female   name = pembroke                      \n",
      "correct = male     guess = female   name = penrod                        \n",
      "correct = male     guess = female   name = pete                          \n",
      "correct = male     guess = female   name = phineas                       \n",
      "correct = male     guess = female   name = pierre                        \n",
      "correct = male     guess = female   name = pincas                        \n",
      "correct = male     guess = female   name = prasun                        \n",
      "correct = male     guess = female   name = radcliffe                     \n",
      "correct = male     guess = female   name = randolph                      \n",
      "correct = male     guess = female   name = ravi                          \n",
      "correct = male     guess = female   name = rawley                        \n",
      "correct = male     guess = female   name = rayner                        \n",
      "correct = male     guess = female   name = redford                       \n",
      "correct = male     guess = female   name = rhett                         \n",
      "correct = male     guess = female   name = rickey                        \n",
      "correct = male     guess = female   name = rik                           \n",
      "correct = male     guess = female   name = ritchie                       \n",
      "correct = male     guess = female   name = robb                          \n",
      "correct = male     guess = female   name = roderic                       \n",
      "correct = male     guess = female   name = rollin                        \n",
      "correct = male     guess = female   name = rudy                          \n",
      "correct = male     guess = female   name = salomo                        \n",
      "correct = male     guess = female   name = sanderson                     \n",
      "correct = male     guess = female   name = sargent                       \n",
      "correct = male     guess = female   name = seymour                       \n",
      "correct = male     guess = female   name = shepard                       \n",
      "correct = male     guess = female   name = shepperd                      \n",
      "correct = male     guess = female   name = si                            \n",
      "correct = male     guess = female   name = silas                         \n",
      "correct = male     guess = female   name = simeon                        \n",
      "correct = male     guess = female   name = skipp                         \n",
      "correct = male     guess = female   name = spense                        \n",
      "correct = male     guess = female   name = spiro                         \n",
      "correct = male     guess = female   name = stanford                      \n",
      "correct = male     guess = female   name = terrance                      \n",
      "correct = male     guess = female   name = thaddius                      \n",
      "correct = male     guess = female   name = thor                          \n",
      "correct = male     guess = female   name = thurston                      \n",
      "correct = male     guess = female   name = tracy                         \n",
      "correct = male     guess = female   name = trip                          \n",
      "correct = male     guess = female   name = ty                            \n",
      "correct = male     guess = female   name = urbano                        \n",
      "correct = male     guess = female   name = vasily                        \n",
      "correct = male     guess = female   name = vaughan                       \n",
      "correct = male     guess = female   name = vaughn                        \n",
      "correct = male     guess = female   name = vijay                         \n",
      "correct = male     guess = female   name = virgie                        \n",
      "correct = male     guess = female   name = ward                          \n",
      "correct = male     guess = female   name = washington                    \n",
      "correct = male     guess = female   name = weider                        \n",
      "correct = male     guess = female   name = winny                         \n",
      "correct = male     guess = female   name = woochang                      \n",
      "correct = male     guess = female   name = wright                        \n",
      "correct = male     guess = female   name = wye                           \n",
      "correct = male     guess = female   name = xymenes                       \n",
      "correct = male     guess = female   name = yanaton                       \n",
      "correct = male     guess = female   name = yance                         \n",
      "correct = male     guess = female   name = yank                          \n"
     ]
    }
   ],
   "source": [
    "error_analysis(gender_features2)"
   ]
  },
  {
   "cell_type": "markdown",
   "metadata": {},
   "source": [
    "The accuracy result of feature 2 has similar accuracy as feature 1, and the number of Errors has been increased to 181."
   ]
  },
  {
   "cell_type": "markdown",
   "metadata": {},
   "source": [
    "### Feature 3"
   ]
  },
  {
   "cell_type": "markdown",
   "metadata": {},
   "source": [
    "For Feature 3, we use first letter, last letter and two suffixes as its feature"
   ]
  },
  {
   "cell_type": "code",
   "execution_count": 120,
   "metadata": {},
   "outputs": [],
   "source": [
    "def gender_features3(name):\n",
    "    features = {}\n",
    "    features[\"first_letter\"] = name[0].lower()\n",
    "    features[\"last_letter\"] = name[-1].lower()\n",
    "    for letter in \"aeiou\":\n",
    "        features[\"count({})\".format(letter)] = name.lower().count(letter)\n",
    "        features[\"has({})\".format(letter)] = (letter in name.lower())\n",
    "    features[\"suffix2\"] = name[-2:].lower()\n",
    "    features[\"suffix3\"] = name[-3:].lower()\n",
    "    return features"
   ]
  },
  {
   "cell_type": "code",
   "execution_count": 121,
   "metadata": {},
   "outputs": [],
   "source": [
    "train_featuresets3 = [(gender_features3(n), g) for (n, g) in train_set]\n",
    "test_featuresets3 = [(gender_features3(n), g) for (n, g) in test_set]\n",
    "devtest_featuresets3 = [(gender_features3(n), g) for (n, g) in devtest_names]"
   ]
  },
  {
   "cell_type": "code",
   "execution_count": 169,
   "metadata": {},
   "outputs": [
    {
     "name": "stdout",
     "output_type": "stream",
     "text": [
      "Accuracy: 0.81\n"
     ]
    }
   ],
   "source": [
    "nb3 = nltk.NaiveBayesClassifier.train(train_featuresets3)\n",
    "\n",
    "print ('Accuracy: %4.2f' %nltk.classify.accuracy(nb3, devtest_featuresets3))"
   ]
  },
  {
   "cell_type": "code",
   "execution_count": 170,
   "metadata": {},
   "outputs": [
    {
     "name": "stdout",
     "output_type": "stream",
     "text": [
      "Most Informative Features\n",
      "                 suffix2 = 'na'           female : male   =    157.3 : 1.0\n",
      "                 suffix2 = 'la'           female : male   =     69.8 : 1.0\n",
      "                 suffix2 = 'ta'           female : male   =     43.3 : 1.0\n",
      "             last_letter = 'k'              male : female =     41.3 : 1.0\n",
      "                 suffix2 = 'ld'             male : female =     39.7 : 1.0\n"
     ]
    }
   ],
   "source": [
    "# Top 5 of most effective for distinguishing the names’ genders:\n",
    "classifier3.show_most_informative_features(5)"
   ]
  },
  {
   "cell_type": "code",
   "execution_count": 171,
   "metadata": {},
   "outputs": [
    {
     "name": "stdout",
     "output_type": "stream",
     "text": [
      "Number of Errors:  122\n",
      "correct = female   guess = male     name = aileen                        \n",
      "correct = female   guess = male     name = alisun                        \n",
      "correct = female   guess = male     name = alys                          \n",
      "correct = female   guess = male     name = arabel                        \n",
      "correct = female   guess = male     name = bird                          \n",
      "correct = female   guess = male     name = bridget                       \n",
      "correct = female   guess = male     name = brynn                         \n",
      "correct = female   guess = male     name = carol                         \n",
      "correct = female   guess = male     name = caroleen                      \n",
      "correct = female   guess = male     name = caroljean                     \n",
      "correct = female   guess = male     name = charis                        \n",
      "correct = female   guess = male     name = christin                      \n",
      "correct = female   guess = male     name = clair                         \n",
      "correct = female   guess = male     name = claribel                      \n",
      "correct = female   guess = male     name = darb                          \n",
      "correct = female   guess = male     name = gennifer                      \n",
      "correct = female   guess = male     name = gillan                        \n",
      "correct = female   guess = male     name = gretchen                      \n",
      "correct = female   guess = male     name = ingaberg                      \n",
      "correct = female   guess = male     name = ingrid                        \n",
      "correct = female   guess = male     name = isabeau                       \n",
      "correct = female   guess = male     name = isis                          \n",
      "correct = female   guess = male     name = jaynell                       \n",
      "correct = female   guess = male     name = justin                        \n",
      "correct = female   guess = male     name = karalynn                      \n",
      "correct = female   guess = male     name = kaster                        \n",
      "correct = female   guess = male     name = kathlin                       \n",
      "correct = female   guess = male     name = kim                           \n",
      "correct = female   guess = male     name = laural                        \n",
      "correct = female   guess = male     name = leanor                        \n",
      "correct = female   guess = male     name = lind                          \n",
      "correct = female   guess = male     name = madelon                       \n",
      "correct = female   guess = male     name = mag                           \n",
      "correct = female   guess = male     name = mair                          \n",
      "correct = female   guess = male     name = marget                        \n",
      "correct = female   guess = male     name = margret                       \n",
      "correct = female   guess = male     name = mariel                        \n",
      "correct = female   guess = male     name = maryellen                     \n",
      "correct = female   guess = male     name = marys                         \n",
      "correct = female   guess = male     name = meryl                         \n",
      "correct = female   guess = male     name = mikako                        \n",
      "correct = female   guess = male     name = miran                         \n",
      "correct = female   guess = male     name = nert                          \n",
      "correct = female   guess = male     name = pearl                         \n",
      "correct = female   guess = male     name = pen                           \n",
      "correct = female   guess = male     name = persis                        \n",
      "correct = female   guess = male     name = pet                           \n",
      "correct = female   guess = male     name = rhiamon                       \n",
      "correct = female   guess = male     name = ros                           \n",
      "correct = female   guess = male     name = rosaleen                      \n",
      "correct = female   guess = male     name = rosalynd                      \n",
      "correct = female   guess = male     name = rosamond                      \n",
      "correct = female   guess = male     name = sean                          \n",
      "correct = female   guess = male     name = sharleen                      \n",
      "correct = female   guess = male     name = shawn                         \n",
      "correct = female   guess = male     name = sinead                        \n",
      "correct = female   guess = male     name = tatum                         \n",
      "correct = female   guess = male     name = thomasin                      \n",
      "correct = female   guess = male     name = yehudit                       \n",
      "correct = male     guess = female   name = adolphe                       \n",
      "correct = male     guess = female   name = alaa                          \n",
      "correct = male     guess = female   name = aldrich                       \n",
      "correct = male     guess = female   name = allah                         \n",
      "correct = male     guess = female   name = andre                         \n",
      "correct = male     guess = female   name = archie                        \n",
      "correct = male     guess = female   name = barnabe                       \n",
      "correct = male     guess = female   name = barrie                        \n",
      "correct = male     guess = female   name = benji                         \n",
      "correct = male     guess = female   name = constantine                   \n",
      "correct = male     guess = female   name = dewey                         \n",
      "correct = male     guess = female   name = dmitri                        \n",
      "correct = male     guess = female   name = duffy                         \n",
      "correct = male     guess = female   name = durante                       \n",
      "correct = male     guess = female   name = eddie                         \n",
      "correct = male     guess = female   name = ely                           \n",
      "correct = male     guess = female   name = emmery                        \n",
      "correct = male     guess = female   name = frankie                       \n",
      "correct = male     guess = female   name = graehme                       \n",
      "correct = male     guess = female   name = granville                     \n",
      "correct = male     guess = female   name = greggory                      \n",
      "correct = male     guess = female   name = hersh                         \n",
      "correct = male     guess = female   name = hymie                         \n",
      "correct = male     guess = female   name = iggie                         \n",
      "correct = male     guess = female   name = jedediah                      \n",
      "correct = male     guess = female   name = jeffie                        \n",
      "correct = male     guess = female   name = jeromy                        \n",
      "correct = male     guess = female   name = juanita                       \n",
      "correct = male     guess = female   name = lawrence                      \n",
      "correct = male     guess = female   name = lefty                         \n",
      "correct = male     guess = female   name = mahesh                        \n",
      "correct = male     guess = female   name = maurie                        \n",
      "correct = male     guess = female   name = mickey                        \n",
      "correct = male     guess = female   name = mitch                         \n",
      "correct = male     guess = female   name = moe                           \n",
      "correct = male     guess = female   name = moishe                        \n",
      "correct = male     guess = female   name = nate                          \n",
      "correct = male     guess = female   name = neville                       \n",
      "correct = male     guess = female   name = nichole                       \n",
      "correct = male     guess = female   name = obadiah                       \n",
      "correct = male     guess = female   name = osborne                       \n",
      "correct = male     guess = female   name = pearce                        \n",
      "correct = male     guess = female   name = pembroke                      \n",
      "correct = male     guess = female   name = pete                          \n",
      "correct = male     guess = female   name = pierre                        \n",
      "correct = male     guess = female   name = radcliffe                     \n",
      "correct = male     guess = female   name = randolph                      \n",
      "correct = male     guess = female   name = ravi                          \n",
      "correct = male     guess = female   name = rawley                        \n",
      "correct = male     guess = female   name = rickey                        \n",
      "correct = male     guess = female   name = ritchie                       \n",
      "correct = male     guess = female   name = rudy                          \n",
      "correct = male     guess = female   name = si                            \n",
      "correct = male     guess = female   name = spense                        \n",
      "correct = male     guess = female   name = terrance                      \n",
      "correct = male     guess = female   name = tracy                         \n",
      "correct = male     guess = female   name = ty                            \n",
      "correct = male     guess = female   name = vasily                        \n",
      "correct = male     guess = female   name = vijay                         \n",
      "correct = male     guess = female   name = virgie                        \n",
      "correct = male     guess = female   name = winny                         \n",
      "correct = male     guess = female   name = wye                           \n",
      "correct = male     guess = female   name = yance                         \n"
     ]
    }
   ],
   "source": [
    "error_analysis(gender_features3)"
   ]
  },
  {
   "cell_type": "markdown",
   "metadata": {},
   "source": [
    "The result is much better and has the best accuracy among the 3 feature extractors that we have built. And the number of Errors is 122 which is similar as Feature 1."
   ]
  },
  {
   "cell_type": "markdown",
   "metadata": {},
   "source": [
    "## Decision Tree Classifier"
   ]
  },
  {
   "cell_type": "markdown",
   "metadata": {},
   "source": [
    "A decision tree is a flowchart-like tree structure where an internal node represents feature(or attribute), the branch represents a decision rule, and each leaf node represents the outcome. The topmost node in a decision tree is known as the root node. It learns to partition on the basis of the attribute value. It partitions the tree in recursively manner call recursive partitioning. This flowchart-like structure helps you in decision making. It's visualization like a flowchart diagram which easily mimics the human level thinking. That is why decision trees are easy to understand and interpret."
   ]
  },
  {
   "cell_type": "markdown",
   "metadata": {},
   "source": [
    "### Decision Tree Feature 1"
   ]
  },
  {
   "cell_type": "markdown",
   "metadata": {},
   "source": [
    "Decision Tree Feature 1 , we do the same way as Navie Baiyer which only include only last character of word."
   ]
  },
  {
   "cell_type": "code",
   "execution_count": 172,
   "metadata": {},
   "outputs": [
    {
     "name": "stdout",
     "output_type": "stream",
     "text": [
      "Accuracy: 0.76\n"
     ]
    }
   ],
   "source": [
    "dt1 = nltk.classify.DecisionTreeClassifier.train(train_featureset)\n",
    "\n",
    "print ('Accuracy: %4.2f' %nltk.classify.accuracy(dt1, devtest_featureset))"
   ]
  },
  {
   "cell_type": "code",
   "execution_count": 208,
   "metadata": {},
   "outputs": [],
   "source": [
    "errors2 = []\n",
    "\n",
    "for (name,tag) in devtest_names:\n",
    "    guess = dt1.classify(gender_features(name))\n",
    "    if guess != tag:\n",
    "        errors2.append((tag,guess,name))"
   ]
  },
  {
   "cell_type": "code",
   "execution_count": 210,
   "metadata": {},
   "outputs": [
    {
     "name": "stdout",
     "output_type": "stream",
     "text": [
      "correct=female   guess=male     name=aileen                        \n",
      "correct=female   guess=male     name=alisun                        \n",
      "correct=female   guess=male     name=alys                          \n",
      "correct=female   guess=male     name=arabel                        \n",
      "correct=female   guess=male     name=bird                          \n",
      "correct=female   guess=male     name=bridget                       \n",
      "correct=female   guess=male     name=brynn                         \n",
      "correct=female   guess=male     name=carol                         \n",
      "correct=female   guess=male     name=caroleen                      \n",
      "correct=female   guess=male     name=caroljean                     \n",
      "correct=female   guess=male     name=charis                        \n",
      "correct=female   guess=male     name=christin                      \n",
      "correct=female   guess=male     name=clair                         \n",
      "correct=female   guess=male     name=claribel                      \n",
      "correct=female   guess=male     name=darb                          \n",
      "correct=female   guess=male     name=gennifer                      \n",
      "correct=female   guess=male     name=gillan                        \n",
      "correct=female   guess=male     name=gretchen                      \n",
      "correct=female   guess=male     name=ingaberg                      \n",
      "correct=female   guess=male     name=ingrid                        \n",
      "correct=female   guess=male     name=isabeau                       \n",
      "correct=female   guess=male     name=isis                          \n",
      "correct=female   guess=male     name=jaynell                       \n",
      "correct=female   guess=male     name=justin                        \n",
      "correct=female   guess=male     name=karalynn                      \n",
      "correct=female   guess=male     name=kaster                        \n",
      "correct=female   guess=male     name=kathlin                       \n",
      "correct=female   guess=male     name=kim                           \n",
      "correct=female   guess=male     name=laural                        \n",
      "correct=female   guess=male     name=leanor                        \n",
      "correct=female   guess=male     name=lind                          \n",
      "correct=female   guess=male     name=madelon                       \n",
      "correct=female   guess=male     name=mag                           \n",
      "correct=female   guess=male     name=mair                          \n",
      "correct=female   guess=male     name=marget                        \n",
      "correct=female   guess=male     name=margret                       \n",
      "correct=female   guess=male     name=mariel                        \n",
      "correct=female   guess=male     name=maryellen                     \n",
      "correct=female   guess=male     name=marys                         \n",
      "correct=female   guess=male     name=meryl                         \n",
      "correct=female   guess=male     name=mikako                        \n",
      "correct=female   guess=male     name=miran                         \n",
      "correct=female   guess=male     name=nert                          \n",
      "correct=female   guess=male     name=pearl                         \n",
      "correct=female   guess=male     name=pen                           \n",
      "correct=female   guess=male     name=persis                        \n",
      "correct=female   guess=male     name=pet                           \n",
      "correct=female   guess=male     name=rhiamon                       \n",
      "correct=female   guess=male     name=ros                           \n",
      "correct=female   guess=male     name=rosaleen                      \n",
      "correct=female   guess=male     name=rosalynd                      \n",
      "correct=female   guess=male     name=rosamond                      \n",
      "correct=female   guess=male     name=sean                          \n",
      "correct=female   guess=male     name=sharleen                      \n",
      "correct=female   guess=male     name=shawn                         \n",
      "correct=female   guess=male     name=sinead                        \n",
      "correct=female   guess=male     name=tatum                         \n",
      "correct=female   guess=male     name=thomasin                      \n",
      "correct=female   guess=male     name=yehudit                       \n",
      "correct=male     guess=female   name=adolphe                       \n",
      "correct=male     guess=female   name=alaa                          \n",
      "correct=male     guess=female   name=aldrich                       \n",
      "correct=male     guess=female   name=allah                         \n",
      "correct=male     guess=female   name=andre                         \n",
      "correct=male     guess=female   name=archie                        \n",
      "correct=male     guess=female   name=barnabe                       \n",
      "correct=male     guess=female   name=barrie                        \n",
      "correct=male     guess=female   name=benji                         \n",
      "correct=male     guess=female   name=constantine                   \n",
      "correct=male     guess=female   name=dewey                         \n",
      "correct=male     guess=female   name=dmitri                        \n",
      "correct=male     guess=female   name=duffy                         \n",
      "correct=male     guess=female   name=durante                       \n",
      "correct=male     guess=female   name=eddie                         \n",
      "correct=male     guess=female   name=ely                           \n",
      "correct=male     guess=female   name=emmery                        \n",
      "correct=male     guess=female   name=frankie                       \n",
      "correct=male     guess=female   name=graehme                       \n",
      "correct=male     guess=female   name=granville                     \n",
      "correct=male     guess=female   name=greggory                      \n",
      "correct=male     guess=female   name=hersh                         \n",
      "correct=male     guess=female   name=hymie                         \n",
      "correct=male     guess=female   name=iggie                         \n",
      "correct=male     guess=female   name=jedediah                      \n",
      "correct=male     guess=female   name=jeffie                        \n",
      "correct=male     guess=female   name=jeromy                        \n",
      "correct=male     guess=female   name=juanita                       \n",
      "correct=male     guess=female   name=lawrence                      \n",
      "correct=male     guess=female   name=lefty                         \n",
      "correct=male     guess=female   name=mahesh                        \n",
      "correct=male     guess=female   name=maurie                        \n",
      "correct=male     guess=female   name=mickey                        \n",
      "correct=male     guess=female   name=mitch                         \n",
      "correct=male     guess=female   name=moe                           \n",
      "correct=male     guess=female   name=moishe                        \n",
      "correct=male     guess=female   name=nate                          \n",
      "correct=male     guess=female   name=neville                       \n",
      "correct=male     guess=female   name=nichole                       \n",
      "correct=male     guess=female   name=obadiah                       \n",
      "correct=male     guess=female   name=osborne                       \n",
      "correct=male     guess=female   name=pearce                        \n",
      "correct=male     guess=female   name=pembroke                      \n",
      "correct=male     guess=female   name=pete                          \n",
      "correct=male     guess=female   name=pierre                        \n",
      "correct=male     guess=female   name=radcliffe                     \n",
      "correct=male     guess=female   name=randolph                      \n",
      "correct=male     guess=female   name=ravi                          \n",
      "correct=male     guess=female   name=rawley                        \n",
      "correct=male     guess=female   name=rickey                        \n",
      "correct=male     guess=female   name=ritchie                       \n",
      "correct=male     guess=female   name=rudy                          \n",
      "correct=male     guess=female   name=si                            \n",
      "correct=male     guess=female   name=spense                        \n",
      "correct=male     guess=female   name=terrance                      \n",
      "correct=male     guess=female   name=tracy                         \n",
      "correct=male     guess=female   name=ty                            \n",
      "correct=male     guess=female   name=vasily                        \n",
      "correct=male     guess=female   name=vijay                         \n",
      "correct=male     guess=female   name=virgie                        \n",
      "correct=male     guess=female   name=winny                         \n",
      "correct=male     guess=female   name=wye                           \n",
      "correct=male     guess=female   name=yance                         \n"
     ]
    }
   ],
   "source": [
    "for (tag,guess,name) in sorted(errors2):\n",
    "    print('correct={:<8} guess={:<8s} name={:30}'.format(tag,guess,name))"
   ]
  },
  {
   "cell_type": "code",
   "execution_count": 211,
   "metadata": {},
   "outputs": [
    {
     "name": "stdout",
     "output_type": "stream",
     "text": [
      "Number of Errors:  122\n"
     ]
    }
   ],
   "source": [
    "print(\"Number of Errors: \", len(errors2)) "
   ]
  },
  {
   "cell_type": "markdown",
   "metadata": {},
   "source": [
    "### Decision Tree Feature 2"
   ]
  },
  {
   "cell_type": "markdown",
   "metadata": {},
   "source": [
    "Decision Tree Feature 2, we add last two characters as suffix and whether last letter is a vowel (aeiou)."
   ]
  },
  {
   "cell_type": "code",
   "execution_count": 197,
   "metadata": {},
   "outputs": [
    {
     "name": "stdout",
     "output_type": "stream",
     "text": [
      "Accuracy: 0.79\n"
     ]
    }
   ],
   "source": [
    "dt2 = nltk.classify.DecisionTreeClassifier.train(train_featuresets2)\n",
    "\n",
    "print ('Accuracy: %4.2f' %nltk.classify.accuracy(dt2, devtest_featuresets2))"
   ]
  },
  {
   "cell_type": "code",
   "execution_count": 215,
   "metadata": {},
   "outputs": [],
   "source": [
    "errors2 = []\n",
    "\n",
    "for (name,tag) in devtest_names:\n",
    "    guess = dt2.classify(gender_features(name))\n",
    "    if guess != tag:\n",
    "        errors2.append((tag,guess,name))"
   ]
  },
  {
   "cell_type": "code",
   "execution_count": 216,
   "metadata": {},
   "outputs": [
    {
     "name": "stdout",
     "output_type": "stream",
     "text": [
      "correct=male     guess=female   name=adolphe                       \n",
      "correct=male     guess=female   name=adrian                        \n",
      "correct=male     guess=female   name=agustin                       \n",
      "correct=male     guess=female   name=ahmad                         \n",
      "correct=male     guess=female   name=alaa                          \n",
      "correct=male     guess=female   name=alan                          \n",
      "correct=male     guess=female   name=aldrich                       \n",
      "correct=male     guess=female   name=alic                          \n",
      "correct=male     guess=female   name=alister                       \n",
      "correct=male     guess=female   name=allah                         \n",
      "correct=male     guess=female   name=andre                         \n",
      "correct=male     guess=female   name=archie                        \n",
      "correct=male     guess=female   name=armstrong                     \n",
      "correct=male     guess=female   name=artur                         \n",
      "correct=male     guess=female   name=aubert                        \n",
      "correct=male     guess=female   name=baird                         \n",
      "correct=male     guess=female   name=barnabe                       \n",
      "correct=male     guess=female   name=barrie                        \n",
      "correct=male     guess=female   name=bear                          \n",
      "correct=male     guess=female   name=ben                           \n",
      "correct=male     guess=female   name=benji                         \n",
      "correct=male     guess=female   name=bennett                       \n",
      "correct=male     guess=female   name=berk                          \n",
      "correct=male     guess=female   name=bertram                       \n",
      "correct=male     guess=female   name=bo                            \n",
      "correct=male     guess=female   name=boyd                          \n",
      "correct=male     guess=female   name=brooks                        \n",
      "correct=male     guess=female   name=casper                        \n",
      "correct=male     guess=female   name=chris                         \n",
      "correct=male     guess=female   name=christ                        \n",
      "correct=male     guess=female   name=christiano                    \n",
      "correct=male     guess=female   name=constantine                   \n",
      "correct=male     guess=female   name=cornellis                     \n",
      "correct=male     guess=female   name=curtis                        \n",
      "correct=male     guess=female   name=darius                        \n",
      "correct=male     guess=female   name=derrick                       \n",
      "correct=male     guess=female   name=devin                         \n",
      "correct=male     guess=female   name=dewey                         \n",
      "correct=male     guess=female   name=dexter                        \n",
      "correct=male     guess=female   name=dion                          \n",
      "correct=male     guess=female   name=dmitri                        \n",
      "correct=male     guess=female   name=duffy                         \n",
      "correct=male     guess=female   name=dunstan                       \n",
      "correct=male     guess=female   name=durante                       \n",
      "correct=male     guess=female   name=earl                          \n",
      "correct=male     guess=female   name=eddie                         \n",
      "correct=male     guess=female   name=eduard                        \n",
      "correct=male     guess=female   name=ely                           \n",
      "correct=male     guess=female   name=emmery                        \n",
      "correct=male     guess=female   name=emmett                        \n",
      "correct=male     guess=female   name=ervin                         \n",
      "correct=male     guess=female   name=ethelbert                     \n",
      "correct=male     guess=female   name=flipper                       \n",
      "correct=male     guess=female   name=ford                          \n",
      "correct=male     guess=female   name=fowler                        \n",
      "correct=male     guess=female   name=frankie                       \n",
      "correct=male     guess=female   name=fredric                       \n",
      "correct=male     guess=female   name=friedric                      \n",
      "correct=male     guess=female   name=gershom                       \n",
      "correct=male     guess=female   name=graehme                       \n",
      "correct=male     guess=female   name=granville                     \n",
      "correct=male     guess=female   name=greggory                      \n",
      "correct=male     guess=female   name=hal                           \n",
      "correct=male     guess=female   name=hamlet                        \n",
      "correct=male     guess=female   name=hamlin                        \n",
      "correct=male     guess=female   name=hart                          \n",
      "correct=male     guess=female   name=hendrik                       \n",
      "correct=male     guess=female   name=henrik                        \n",
      "correct=male     guess=female   name=hermann                       \n",
      "correct=male     guess=female   name=hersh                         \n",
      "correct=male     guess=female   name=hew                           \n",
      "correct=male     guess=female   name=higgins                       \n",
      "correct=male     guess=female   name=homer                         \n",
      "correct=male     guess=female   name=humbert                       \n",
      "correct=male     guess=female   name=hunt                          \n",
      "correct=male     guess=female   name=hymie                         \n",
      "correct=male     guess=female   name=ian                           \n",
      "correct=male     guess=female   name=iggie                         \n",
      "correct=male     guess=female   name=ignazio                       \n",
      "correct=male     guess=female   name=irvin                         \n",
      "correct=male     guess=female   name=ivan                          \n",
      "correct=male     guess=female   name=jedediah                      \n",
      "correct=male     guess=female   name=jeffie                        \n",
      "correct=male     guess=female   name=jeromy                        \n",
      "correct=male     guess=female   name=jervis                        \n",
      "correct=male     guess=female   name=joachim                       \n",
      "correct=male     guess=female   name=juan                          \n",
      "correct=male     guess=female   name=juanita                       \n",
      "correct=male     guess=female   name=kaiser                        \n",
      "correct=male     guess=female   name=kenyon                        \n",
      "correct=male     guess=female   name=lawrence                      \n",
      "correct=male     guess=female   name=lawton                        \n",
      "correct=male     guess=female   name=lefty                         \n",
      "correct=male     guess=female   name=mahesh                        \n",
      "correct=male     guess=female   name=marius                        \n",
      "correct=male     guess=female   name=mark                          \n",
      "correct=male     guess=female   name=maurie                        \n",
      "correct=male     guess=female   name=maurits                       \n",
      "correct=male     guess=female   name=maximilien                    \n",
      "correct=male     guess=female   name=merrel                        \n",
      "correct=male     guess=female   name=micheil                       \n",
      "correct=male     guess=female   name=michel                        \n",
      "correct=male     guess=female   name=mickey                        \n",
      "correct=male     guess=female   name=mitch                         \n",
      "correct=male     guess=female   name=moe                           \n",
      "correct=male     guess=female   name=moishe                        \n",
      "correct=male     guess=female   name=morton                        \n",
      "correct=male     guess=female   name=nate                          \n",
      "correct=male     guess=female   name=nathan                        \n",
      "correct=male     guess=female   name=nealson                       \n",
      "correct=male     guess=female   name=ned                           \n",
      "correct=male     guess=female   name=neville                       \n",
      "correct=male     guess=female   name=nichole                       \n",
      "correct=male     guess=female   name=norbert                       \n",
      "correct=male     guess=female   name=obadiah                       \n",
      "correct=male     guess=female   name=omar                          \n",
      "correct=male     guess=female   name=orson                         \n",
      "correct=male     guess=female   name=osborne                       \n",
      "correct=male     guess=female   name=oswell                        \n",
      "correct=male     guess=female   name=owen                          \n",
      "correct=male     guess=female   name=paton                         \n",
      "correct=male     guess=female   name=paulo                         \n",
      "correct=male     guess=female   name=pearce                        \n",
      "correct=male     guess=female   name=pembroke                      \n",
      "correct=male     guess=female   name=penrod                        \n",
      "correct=male     guess=female   name=pete                          \n",
      "correct=male     guess=female   name=phineas                       \n",
      "correct=male     guess=female   name=pierre                        \n",
      "correct=male     guess=female   name=pincas                        \n",
      "correct=male     guess=female   name=prasun                        \n",
      "correct=male     guess=female   name=radcliffe                     \n",
      "correct=male     guess=female   name=randolph                      \n",
      "correct=male     guess=female   name=ravi                          \n",
      "correct=male     guess=female   name=rawley                        \n",
      "correct=male     guess=female   name=rayner                        \n",
      "correct=male     guess=female   name=redford                       \n",
      "correct=male     guess=female   name=rhett                         \n",
      "correct=male     guess=female   name=rickey                        \n",
      "correct=male     guess=female   name=rik                           \n",
      "correct=male     guess=female   name=ritchie                       \n",
      "correct=male     guess=female   name=robb                          \n",
      "correct=male     guess=female   name=roderic                       \n",
      "correct=male     guess=female   name=rollin                        \n",
      "correct=male     guess=female   name=rudy                          \n",
      "correct=male     guess=female   name=salomo                        \n",
      "correct=male     guess=female   name=sanderson                     \n",
      "correct=male     guess=female   name=sargent                       \n",
      "correct=male     guess=female   name=seymour                       \n",
      "correct=male     guess=female   name=shepard                       \n",
      "correct=male     guess=female   name=shepperd                      \n",
      "correct=male     guess=female   name=si                            \n",
      "correct=male     guess=female   name=silas                         \n",
      "correct=male     guess=female   name=simeon                        \n",
      "correct=male     guess=female   name=skipp                         \n",
      "correct=male     guess=female   name=spense                        \n",
      "correct=male     guess=female   name=spiro                         \n",
      "correct=male     guess=female   name=stanford                      \n",
      "correct=male     guess=female   name=terrance                      \n",
      "correct=male     guess=female   name=thaddius                      \n",
      "correct=male     guess=female   name=thor                          \n",
      "correct=male     guess=female   name=thurston                      \n",
      "correct=male     guess=female   name=tracy                         \n",
      "correct=male     guess=female   name=trip                          \n",
      "correct=male     guess=female   name=ty                            \n",
      "correct=male     guess=female   name=urbano                        \n",
      "correct=male     guess=female   name=vasily                        \n",
      "correct=male     guess=female   name=vaughan                       \n",
      "correct=male     guess=female   name=vaughn                        \n",
      "correct=male     guess=female   name=vijay                         \n",
      "correct=male     guess=female   name=virgie                        \n",
      "correct=male     guess=female   name=ward                          \n",
      "correct=male     guess=female   name=washington                    \n",
      "correct=male     guess=female   name=weider                        \n",
      "correct=male     guess=female   name=winny                         \n",
      "correct=male     guess=female   name=woochang                      \n",
      "correct=male     guess=female   name=wright                        \n",
      "correct=male     guess=female   name=wye                           \n",
      "correct=male     guess=female   name=xymenes                       \n",
      "correct=male     guess=female   name=yanaton                       \n",
      "correct=male     guess=female   name=yance                         \n",
      "correct=male     guess=female   name=yank                          \n"
     ]
    }
   ],
   "source": [
    "for (tag,guess,name) in sorted(errors2):\n",
    "    print('correct={:<8} guess={:<8s} name={:30}'.format(tag,guess,name))"
   ]
  },
  {
   "cell_type": "code",
   "execution_count": 217,
   "metadata": {},
   "outputs": [
    {
     "name": "stdout",
     "output_type": "stream",
     "text": [
      "Number of Errors:  181\n"
     ]
    }
   ],
   "source": [
    "print(\"Number of Errors: \", len(errors2))"
   ]
  },
  {
   "cell_type": "markdown",
   "metadata": {},
   "source": [
    "The accuracy result of feature 2 is higher than feature 1, and the number of Errors has been increased to 181."
   ]
  },
  {
   "cell_type": "markdown",
   "metadata": {},
   "source": [
    "### Decision Tree Feature 3"
   ]
  },
  {
   "cell_type": "markdown",
   "metadata": {},
   "source": [
    "Decision Tree Feature 3, we use first letter, last letter and two suffixes as its feature"
   ]
  },
  {
   "cell_type": "code",
   "execution_count": 199,
   "metadata": {},
   "outputs": [
    {
     "name": "stdout",
     "output_type": "stream",
     "text": [
      "Accuracy: 0.77\n"
     ]
    }
   ],
   "source": [
    "dt3 = nltk.classify.DecisionTreeClassifier.train(train_featuresets3)\n",
    "\n",
    "print ('Accuracy: %4.2f' %nltk.classify.accuracy(dt3, devtest_featuresets3))"
   ]
  },
  {
   "cell_type": "code",
   "execution_count": 220,
   "metadata": {},
   "outputs": [],
   "source": [
    "errors2 = []\n",
    "\n",
    "for (name,tag) in devtest_names:\n",
    "    guess = dt3.classify(gender_features(name))\n",
    "    if guess != tag:\n",
    "        errors2.append((tag,guess,name))"
   ]
  },
  {
   "cell_type": "code",
   "execution_count": 221,
   "metadata": {},
   "outputs": [
    {
     "name": "stdout",
     "output_type": "stream",
     "text": [
      "correct=male     guess=female   name=adolphe                       \n",
      "correct=male     guess=female   name=adrian                        \n",
      "correct=male     guess=female   name=agustin                       \n",
      "correct=male     guess=female   name=ahmad                         \n",
      "correct=male     guess=female   name=alaa                          \n",
      "correct=male     guess=female   name=alan                          \n",
      "correct=male     guess=female   name=aldrich                       \n",
      "correct=male     guess=female   name=alic                          \n",
      "correct=male     guess=female   name=alister                       \n",
      "correct=male     guess=female   name=allah                         \n",
      "correct=male     guess=female   name=andre                         \n",
      "correct=male     guess=female   name=archie                        \n",
      "correct=male     guess=female   name=armstrong                     \n",
      "correct=male     guess=female   name=artur                         \n",
      "correct=male     guess=female   name=aubert                        \n",
      "correct=male     guess=female   name=baird                         \n",
      "correct=male     guess=female   name=barnabe                       \n",
      "correct=male     guess=female   name=barrie                        \n",
      "correct=male     guess=female   name=bear                          \n",
      "correct=male     guess=female   name=ben                           \n",
      "correct=male     guess=female   name=benji                         \n",
      "correct=male     guess=female   name=bennett                       \n",
      "correct=male     guess=female   name=berk                          \n",
      "correct=male     guess=female   name=bertram                       \n",
      "correct=male     guess=female   name=bo                            \n",
      "correct=male     guess=female   name=boyd                          \n",
      "correct=male     guess=female   name=brooks                        \n",
      "correct=male     guess=female   name=casper                        \n",
      "correct=male     guess=female   name=chris                         \n",
      "correct=male     guess=female   name=christ                        \n",
      "correct=male     guess=female   name=christiano                    \n",
      "correct=male     guess=female   name=constantine                   \n",
      "correct=male     guess=female   name=cornellis                     \n",
      "correct=male     guess=female   name=curtis                        \n",
      "correct=male     guess=female   name=darius                        \n",
      "correct=male     guess=female   name=derrick                       \n",
      "correct=male     guess=female   name=devin                         \n",
      "correct=male     guess=female   name=dewey                         \n",
      "correct=male     guess=female   name=dexter                        \n",
      "correct=male     guess=female   name=dion                          \n",
      "correct=male     guess=female   name=dmitri                        \n",
      "correct=male     guess=female   name=duffy                         \n",
      "correct=male     guess=female   name=dunstan                       \n",
      "correct=male     guess=female   name=durante                       \n",
      "correct=male     guess=female   name=earl                          \n",
      "correct=male     guess=female   name=eddie                         \n",
      "correct=male     guess=female   name=eduard                        \n",
      "correct=male     guess=female   name=ely                           \n",
      "correct=male     guess=female   name=emmery                        \n",
      "correct=male     guess=female   name=emmett                        \n",
      "correct=male     guess=female   name=ervin                         \n",
      "correct=male     guess=female   name=ethelbert                     \n",
      "correct=male     guess=female   name=flipper                       \n",
      "correct=male     guess=female   name=ford                          \n",
      "correct=male     guess=female   name=fowler                        \n",
      "correct=male     guess=female   name=frankie                       \n",
      "correct=male     guess=female   name=fredric                       \n",
      "correct=male     guess=female   name=friedric                      \n",
      "correct=male     guess=female   name=gershom                       \n",
      "correct=male     guess=female   name=graehme                       \n",
      "correct=male     guess=female   name=granville                     \n",
      "correct=male     guess=female   name=greggory                      \n",
      "correct=male     guess=female   name=hal                           \n",
      "correct=male     guess=female   name=hamlet                        \n",
      "correct=male     guess=female   name=hamlin                        \n",
      "correct=male     guess=female   name=hart                          \n",
      "correct=male     guess=female   name=hendrik                       \n",
      "correct=male     guess=female   name=henrik                        \n",
      "correct=male     guess=female   name=hermann                       \n",
      "correct=male     guess=female   name=hersh                         \n",
      "correct=male     guess=female   name=hew                           \n",
      "correct=male     guess=female   name=higgins                       \n",
      "correct=male     guess=female   name=homer                         \n",
      "correct=male     guess=female   name=humbert                       \n",
      "correct=male     guess=female   name=hunt                          \n",
      "correct=male     guess=female   name=hymie                         \n",
      "correct=male     guess=female   name=ian                           \n",
      "correct=male     guess=female   name=iggie                         \n",
      "correct=male     guess=female   name=ignazio                       \n",
      "correct=male     guess=female   name=irvin                         \n",
      "correct=male     guess=female   name=ivan                          \n",
      "correct=male     guess=female   name=jedediah                      \n",
      "correct=male     guess=female   name=jeffie                        \n",
      "correct=male     guess=female   name=jeromy                        \n",
      "correct=male     guess=female   name=jervis                        \n",
      "correct=male     guess=female   name=joachim                       \n",
      "correct=male     guess=female   name=juan                          \n",
      "correct=male     guess=female   name=juanita                       \n",
      "correct=male     guess=female   name=kaiser                        \n",
      "correct=male     guess=female   name=kenyon                        \n",
      "correct=male     guess=female   name=lawrence                      \n",
      "correct=male     guess=female   name=lawton                        \n",
      "correct=male     guess=female   name=lefty                         \n",
      "correct=male     guess=female   name=mahesh                        \n",
      "correct=male     guess=female   name=marius                        \n",
      "correct=male     guess=female   name=mark                          \n",
      "correct=male     guess=female   name=maurie                        \n",
      "correct=male     guess=female   name=maurits                       \n",
      "correct=male     guess=female   name=maximilien                    \n",
      "correct=male     guess=female   name=merrel                        \n",
      "correct=male     guess=female   name=micheil                       \n",
      "correct=male     guess=female   name=michel                        \n",
      "correct=male     guess=female   name=mickey                        \n",
      "correct=male     guess=female   name=mitch                         \n",
      "correct=male     guess=female   name=moe                           \n",
      "correct=male     guess=female   name=moishe                        \n",
      "correct=male     guess=female   name=morton                        \n",
      "correct=male     guess=female   name=nate                          \n",
      "correct=male     guess=female   name=nathan                        \n",
      "correct=male     guess=female   name=nealson                       \n",
      "correct=male     guess=female   name=ned                           \n",
      "correct=male     guess=female   name=neville                       \n",
      "correct=male     guess=female   name=nichole                       \n",
      "correct=male     guess=female   name=norbert                       \n",
      "correct=male     guess=female   name=obadiah                       \n",
      "correct=male     guess=female   name=omar                          \n",
      "correct=male     guess=female   name=orson                         \n",
      "correct=male     guess=female   name=osborne                       \n",
      "correct=male     guess=female   name=oswell                        \n",
      "correct=male     guess=female   name=owen                          \n",
      "correct=male     guess=female   name=paton                         \n",
      "correct=male     guess=female   name=paulo                         \n",
      "correct=male     guess=female   name=pearce                        \n",
      "correct=male     guess=female   name=pembroke                      \n",
      "correct=male     guess=female   name=penrod                        \n",
      "correct=male     guess=female   name=pete                          \n",
      "correct=male     guess=female   name=phineas                       \n",
      "correct=male     guess=female   name=pierre                        \n",
      "correct=male     guess=female   name=pincas                        \n",
      "correct=male     guess=female   name=prasun                        \n",
      "correct=male     guess=female   name=radcliffe                     \n",
      "correct=male     guess=female   name=randolph                      \n",
      "correct=male     guess=female   name=ravi                          \n",
      "correct=male     guess=female   name=rawley                        \n",
      "correct=male     guess=female   name=rayner                        \n",
      "correct=male     guess=female   name=redford                       \n",
      "correct=male     guess=female   name=rhett                         \n",
      "correct=male     guess=female   name=rickey                        \n",
      "correct=male     guess=female   name=rik                           \n",
      "correct=male     guess=female   name=ritchie                       \n",
      "correct=male     guess=female   name=robb                          \n",
      "correct=male     guess=female   name=roderic                       \n",
      "correct=male     guess=female   name=rollin                        \n",
      "correct=male     guess=female   name=rudy                          \n",
      "correct=male     guess=female   name=salomo                        \n",
      "correct=male     guess=female   name=sanderson                     \n",
      "correct=male     guess=female   name=sargent                       \n",
      "correct=male     guess=female   name=seymour                       \n",
      "correct=male     guess=female   name=shepard                       \n",
      "correct=male     guess=female   name=shepperd                      \n",
      "correct=male     guess=female   name=si                            \n",
      "correct=male     guess=female   name=silas                         \n",
      "correct=male     guess=female   name=simeon                        \n",
      "correct=male     guess=female   name=skipp                         \n",
      "correct=male     guess=female   name=spense                        \n",
      "correct=male     guess=female   name=spiro                         \n",
      "correct=male     guess=female   name=stanford                      \n",
      "correct=male     guess=female   name=terrance                      \n",
      "correct=male     guess=female   name=thaddius                      \n",
      "correct=male     guess=female   name=thor                          \n",
      "correct=male     guess=female   name=thurston                      \n",
      "correct=male     guess=female   name=tracy                         \n",
      "correct=male     guess=female   name=trip                          \n",
      "correct=male     guess=female   name=ty                            \n",
      "correct=male     guess=female   name=urbano                        \n",
      "correct=male     guess=female   name=vasily                        \n",
      "correct=male     guess=female   name=vaughan                       \n",
      "correct=male     guess=female   name=vaughn                        \n",
      "correct=male     guess=female   name=vijay                         \n",
      "correct=male     guess=female   name=virgie                        \n",
      "correct=male     guess=female   name=ward                          \n",
      "correct=male     guess=female   name=washington                    \n",
      "correct=male     guess=female   name=weider                        \n",
      "correct=male     guess=female   name=winny                         \n",
      "correct=male     guess=female   name=woochang                      \n",
      "correct=male     guess=female   name=wright                        \n",
      "correct=male     guess=female   name=wye                           \n",
      "correct=male     guess=female   name=xymenes                       \n",
      "correct=male     guess=female   name=yanaton                       \n",
      "correct=male     guess=female   name=yance                         \n",
      "correct=male     guess=female   name=yank                          \n"
     ]
    }
   ],
   "source": [
    "for (tag,guess,name) in sorted(errors2):\n",
    "    print('correct={:<8} guess={:<8s} name={:30}'.format(tag,guess,name))"
   ]
  },
  {
   "cell_type": "code",
   "execution_count": 219,
   "metadata": {},
   "outputs": [
    {
     "name": "stdout",
     "output_type": "stream",
     "text": [
      "Number of Errors:  181\n"
     ]
    }
   ],
   "source": [
    "print(\"Number of Errors: \", len(errors2))"
   ]
  },
  {
   "cell_type": "markdown",
   "metadata": {},
   "source": [
    "The accuracy result of feature 3 has similar accuracy as feature 1, and has the same number of errors as feature 2."
   ]
  },
  {
   "cell_type": "markdown",
   "metadata": {},
   "source": [
    "# Summary"
   ]
  },
  {
   "cell_type": "markdown",
   "metadata": {},
   "source": [
    "Combine the result of accuracy and show the difference for Navie Baiyer"
   ]
  },
  {
   "cell_type": "code",
   "execution_count": 194,
   "metadata": {},
   "outputs": [
    {
     "data": {
      "text/html": [
       "<div>\n",
       "<style scoped>\n",
       "    .dataframe tbody tr th:only-of-type {\n",
       "        vertical-align: middle;\n",
       "    }\n",
       "\n",
       "    .dataframe tbody tr th {\n",
       "        vertical-align: top;\n",
       "    }\n",
       "\n",
       "    .dataframe thead th {\n",
       "        text-align: right;\n",
       "    }\n",
       "</style>\n",
       "<table border=\"1\" class=\"dataframe\">\n",
       "  <thead>\n",
       "    <tr style=\"text-align: right;\">\n",
       "      <th></th>\n",
       "      <th>Features</th>\n",
       "      <th>Features2</th>\n",
       "      <th>Features3</th>\n",
       "    </tr>\n",
       "  </thead>\n",
       "  <tbody>\n",
       "    <tr>\n",
       "      <th>0</th>\n",
       "      <td>0.756</td>\n",
       "      <td>0.75</td>\n",
       "      <td>0.808</td>\n",
       "    </tr>\n",
       "  </tbody>\n",
       "</table>\n",
       "</div>"
      ],
      "text/plain": [
       "   Features  Features2  Features3\n",
       "0     0.756       0.75      0.808"
      ]
     },
     "execution_count": 194,
     "metadata": {},
     "output_type": "execute_result"
    }
   ],
   "source": [
    "accuracy_dev_test_df = pd.DataFrame()\n",
    "accuracy_dev_test_df = accuracy_dev_test_df.append({\n",
    "    \"Features\": nltk.classify.accuracy(nb1, devtest_featuresets),\n",
    "    \"Features2\": nltk.classify.accuracy(nb2, devtest_featuresets2),\n",
    "    \"Features3\": nltk.classify.accuracy(nb3, devtest_featuresets3)\n",
    "    }, ignore_index=True)\n",
    "accuracy_dev_test_df"
   ]
  },
  {
   "cell_type": "markdown",
   "metadata": {},
   "source": [
    "Testing Accuracy"
   ]
  },
  {
   "cell_type": "markdown",
   "metadata": {},
   "source": [
    "Navie Baiyer: Let's compare the features with features2 and feature3 using the test set. "
   ]
  },
  {
   "cell_type": "code",
   "execution_count": 195,
   "metadata": {},
   "outputs": [
    {
     "data": {
      "text/html": [
       "<div>\n",
       "<style scoped>\n",
       "    .dataframe tbody tr th:only-of-type {\n",
       "        vertical-align: middle;\n",
       "    }\n",
       "\n",
       "    .dataframe tbody tr th {\n",
       "        vertical-align: top;\n",
       "    }\n",
       "\n",
       "    .dataframe thead th {\n",
       "        text-align: right;\n",
       "    }\n",
       "</style>\n",
       "<table border=\"1\" class=\"dataframe\">\n",
       "  <thead>\n",
       "    <tr style=\"text-align: right;\">\n",
       "      <th></th>\n",
       "      <th>Features</th>\n",
       "      <th>Features2</th>\n",
       "      <th>Features3</th>\n",
       "    </tr>\n",
       "  </thead>\n",
       "  <tbody>\n",
       "    <tr>\n",
       "      <th>0</th>\n",
       "      <td>0.776</td>\n",
       "      <td>0.776</td>\n",
       "      <td>0.806</td>\n",
       "    </tr>\n",
       "  </tbody>\n",
       "</table>\n",
       "</div>"
      ],
      "text/plain": [
       "   Features  Features2  Features3\n",
       "0     0.776      0.776      0.806"
      ]
     },
     "execution_count": 195,
     "metadata": {},
     "output_type": "execute_result"
    }
   ],
   "source": [
    "accuracy_test_df = pd.DataFrame()\n",
    "accuracy_test_df = accuracy_test_df.append({\n",
    "     \"Features\": nltk.classify.accuracy(nb1, test_featuresets),\n",
    "     \"Features2\":  nltk.classify.accuracy(nb2, test_featuresets2),\n",
    "     \"Features3\": nltk.classify.accuracy(nb3, test_featuresets3)\n",
    "    }, ignore_index=True)\n",
    "accuracy_test_df"
   ]
  },
  {
   "cell_type": "markdown",
   "metadata": {},
   "source": [
    "Combine the result of accuracy and show the difference for Decision Tree"
   ]
  },
  {
   "cell_type": "code",
   "execution_count": 201,
   "metadata": {},
   "outputs": [
    {
     "data": {
      "text/html": [
       "<div>\n",
       "<style scoped>\n",
       "    .dataframe tbody tr th:only-of-type {\n",
       "        vertical-align: middle;\n",
       "    }\n",
       "\n",
       "    .dataframe tbody tr th {\n",
       "        vertical-align: top;\n",
       "    }\n",
       "\n",
       "    .dataframe thead th {\n",
       "        text-align: right;\n",
       "    }\n",
       "</style>\n",
       "<table border=\"1\" class=\"dataframe\">\n",
       "  <thead>\n",
       "    <tr style=\"text-align: right;\">\n",
       "      <th></th>\n",
       "      <th>Features</th>\n",
       "      <th>Features2</th>\n",
       "      <th>Features3</th>\n",
       "    </tr>\n",
       "  </thead>\n",
       "  <tbody>\n",
       "    <tr>\n",
       "      <th>0</th>\n",
       "      <td>0.756</td>\n",
       "      <td>0.792</td>\n",
       "      <td>0.774</td>\n",
       "    </tr>\n",
       "  </tbody>\n",
       "</table>\n",
       "</div>"
      ],
      "text/plain": [
       "   Features  Features2  Features3\n",
       "0     0.756      0.792      0.774"
      ]
     },
     "execution_count": 201,
     "metadata": {},
     "output_type": "execute_result"
    }
   ],
   "source": [
    "accuracy_dev_test_df_dt = pd.DataFrame()\n",
    "accuracy_dev_test_df_dt = accuracy_dev_test_df_dt.append({\n",
    "    \"Features\": nltk.classify.accuracy(dt1, devtest_featuresets),\n",
    "    \"Features2\": nltk.classify.accuracy(dt2, devtest_featuresets2),\n",
    "    \"Features3\": nltk.classify.accuracy(dt3, devtest_featuresets3)\n",
    "    }, ignore_index=True)\n",
    "accuracy_dev_test_df_dt"
   ]
  },
  {
   "cell_type": "markdown",
   "metadata": {},
   "source": [
    "Decision Tree: Let's compare the features with features2 and feature3 using the test set. "
   ]
  },
  {
   "cell_type": "code",
   "execution_count": 202,
   "metadata": {},
   "outputs": [
    {
     "data": {
      "text/html": [
       "<div>\n",
       "<style scoped>\n",
       "    .dataframe tbody tr th:only-of-type {\n",
       "        vertical-align: middle;\n",
       "    }\n",
       "\n",
       "    .dataframe tbody tr th {\n",
       "        vertical-align: top;\n",
       "    }\n",
       "\n",
       "    .dataframe thead th {\n",
       "        text-align: right;\n",
       "    }\n",
       "</style>\n",
       "<table border=\"1\" class=\"dataframe\">\n",
       "  <thead>\n",
       "    <tr style=\"text-align: right;\">\n",
       "      <th></th>\n",
       "      <th>Features</th>\n",
       "      <th>Features2</th>\n",
       "      <th>Features3</th>\n",
       "    </tr>\n",
       "  </thead>\n",
       "  <tbody>\n",
       "    <tr>\n",
       "      <th>0</th>\n",
       "      <td>0.776</td>\n",
       "      <td>0.76</td>\n",
       "      <td>0.736</td>\n",
       "    </tr>\n",
       "  </tbody>\n",
       "</table>\n",
       "</div>"
      ],
      "text/plain": [
       "   Features  Features2  Features3\n",
       "0     0.776       0.76      0.736"
      ]
     },
     "execution_count": 202,
     "metadata": {},
     "output_type": "execute_result"
    }
   ],
   "source": [
    "accuracy_test_df_dt = pd.DataFrame()\n",
    "accuracy_test_df_dt = accuracy_test_df_dt.append({\n",
    "     \"Features\": nltk.classify.accuracy(dt1, test_featuresets),\n",
    "     \"Features2\":  nltk.classify.accuracy(dt2, test_featuresets2),\n",
    "     \"Features3\": nltk.classify.accuracy(dt3, test_featuresets3)\n",
    "    }, ignore_index=True)\n",
    "accuracy_test_df_dt"
   ]
  },
  {
   "cell_type": "markdown",
   "metadata": {},
   "source": [
    "# Conclusion"
   ]
  },
  {
   "cell_type": "markdown",
   "metadata": {},
   "source": [
    "We have created a gender classification models using Naive Bayes and Decision Tree with using different feature sets. Each feature sets has their own accuracy, number of error and testing accuracy. From the result, we can tell that Feature 3 of Navie Baiyer has the best result with highest accuracy and testing accuracy. Also, from the summary, we also can tell that Feature 2 of Decision Tree has the highest accuracy but does not get the highet testing accuracy from that three features."
   ]
  },
  {
   "cell_type": "markdown",
   "metadata": {},
   "source": [
    "# Video Presentation"
   ]
  },
  {
   "cell_type": "markdown",
   "metadata": {},
   "source": [
    "The video presentation can be found [here](https://youtu.be/Ac6Xg4Tlrow)."
   ]
  }
 ],
 "metadata": {
  "kernelspec": {
   "display_name": "Python 3",
   "language": "python",
   "name": "python3"
  },
  "language_info": {
   "codemirror_mode": {
    "name": "ipython",
    "version": 3
   },
   "file_extension": ".py",
   "mimetype": "text/x-python",
   "name": "python",
   "nbconvert_exporter": "python",
   "pygments_lexer": "ipython3",
   "version": "3.7.4"
  }
 },
 "nbformat": 4,
 "nbformat_minor": 4
}
