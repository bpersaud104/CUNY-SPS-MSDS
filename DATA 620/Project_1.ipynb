{
 "cells": [
  {
   "cell_type": "markdown",
   "metadata": {
    "id": "1xWITlUzyzHD"
   },
   "source": [
    "# Project 1"
   ]
  },
  {
   "cell_type": "markdown",
   "metadata": {
    "id": "mjjb3AYeyzHE"
   },
   "source": [
    "Group Member: Bryan Persaud, Matthew Baker, Zhi Ying Chen\n",
    "\n",
    "For your first project, you are asked to\n",
    "\n",
    "1. Identify and load a network dataset that has some categorical information available for each node.\n",
    "\n",
    "2. For each of the nodes in the dataset, calculate degree centrality and eigenvector centrality.\n",
    "\n",
    "3. Compare your centrality measures across your categorical groups.\n",
    "\n",
    "For example, using the dataset from a study of romantic relationships among high school students in Columbus, Ohio [http://researchnews.osu.edu/archive/chains.htm], you might want to determine if there are any differences in your calculated centrality measures between the two sexes.  You might use a t-test or another statistical measure to support your findings."
   ]
  },
  {
   "cell_type": "code",
   "execution_count": 79,
   "metadata": {
    "id": "W2w-kHFTyzHF"
   },
   "outputs": [],
   "source": [
    "import networkx as nx\n",
    "import matplotlib.pyplot as plt\n",
    "import pandas as pd\n",
    "import matplotlib.image as mpimg\n",
    "from scipy.stats import ttest_1samp\n",
    "from IPython.display import SVG, display\n",
    "from operator import itemgetter\n",
    "from pandas import DataFrame\n",
    "\n",
    "%matplotlib inline"
   ]
  },
  {
   "cell_type": "markdown",
   "metadata": {
    "id": "xCnIms2wyzHG"
   },
   "source": [
    "First we import the Bitcoin OTC transaction database from Github. The dataset is a who-trusts-whom network of people who trade using Bitcoin on a platform called Bitcoin OTC. Since Bitcoin users are anonymous, there is a need to maintain a record of users' reputation to prevent transactions with fraudulent and risky users. Members of Bitcoin OTC rate other members in a scale of -10 (total distrust) to +10 (total trust) in steps of 1. This is the first explicit weighted signed directed network available for research. "
   ]
  },
  {
   "cell_type": "markdown",
   "metadata": {
    "id": "xoAbvLD0yzHG"
   },
   "source": [
    "Load dataset and take a quick look of the dataset."
   ]
  },
  {
   "cell_type": "code",
   "execution_count": 80,
   "metadata": {
    "colab": {
     "base_uri": "https://localhost:8080/",
     "height": 359
    },
    "id": "6fctW2DXyzHG",
    "outputId": "73b09368-ffbd-4083-a3b3-7c3d5cf811e3"
   },
   "outputs": [
    {
     "data": {
      "text/html": [
       "<div>\n",
       "<style scoped>\n",
       "    .dataframe tbody tr th:only-of-type {\n",
       "        vertical-align: middle;\n",
       "    }\n",
       "\n",
       "    .dataframe tbody tr th {\n",
       "        vertical-align: top;\n",
       "    }\n",
       "\n",
       "    .dataframe thead th {\n",
       "        text-align: right;\n",
       "    }\n",
       "</style>\n",
       "<table border=\"1\" class=\"dataframe\">\n",
       "  <thead>\n",
       "    <tr style=\"text-align: right;\">\n",
       "      <th></th>\n",
       "      <th>source</th>\n",
       "      <th>target</th>\n",
       "      <th>rating</th>\n",
       "    </tr>\n",
       "  </thead>\n",
       "  <tbody>\n",
       "    <tr>\n",
       "      <th>0</th>\n",
       "      <td>6</td>\n",
       "      <td>2</td>\n",
       "      <td>4</td>\n",
       "    </tr>\n",
       "    <tr>\n",
       "      <th>1</th>\n",
       "      <td>6</td>\n",
       "      <td>5</td>\n",
       "      <td>2</td>\n",
       "    </tr>\n",
       "    <tr>\n",
       "      <th>2</th>\n",
       "      <td>1</td>\n",
       "      <td>15</td>\n",
       "      <td>1</td>\n",
       "    </tr>\n",
       "    <tr>\n",
       "      <th>3</th>\n",
       "      <td>4</td>\n",
       "      <td>3</td>\n",
       "      <td>7</td>\n",
       "    </tr>\n",
       "    <tr>\n",
       "      <th>4</th>\n",
       "      <td>13</td>\n",
       "      <td>16</td>\n",
       "      <td>8</td>\n",
       "    </tr>\n",
       "    <tr>\n",
       "      <th>5</th>\n",
       "      <td>13</td>\n",
       "      <td>10</td>\n",
       "      <td>8</td>\n",
       "    </tr>\n",
       "    <tr>\n",
       "      <th>6</th>\n",
       "      <td>7</td>\n",
       "      <td>5</td>\n",
       "      <td>1</td>\n",
       "    </tr>\n",
       "    <tr>\n",
       "      <th>7</th>\n",
       "      <td>2</td>\n",
       "      <td>21</td>\n",
       "      <td>5</td>\n",
       "    </tr>\n",
       "    <tr>\n",
       "      <th>8</th>\n",
       "      <td>2</td>\n",
       "      <td>20</td>\n",
       "      <td>5</td>\n",
       "    </tr>\n",
       "    <tr>\n",
       "      <th>9</th>\n",
       "      <td>21</td>\n",
       "      <td>2</td>\n",
       "      <td>5</td>\n",
       "    </tr>\n",
       "  </tbody>\n",
       "</table>\n",
       "</div>"
      ],
      "text/plain": [
       "   source  target  rating\n",
       "0       6       2       4\n",
       "1       6       5       2\n",
       "2       1      15       1\n",
       "3       4       3       7\n",
       "4      13      16       8\n",
       "5      13      10       8\n",
       "6       7       5       1\n",
       "7       2      21       5\n",
       "8       2      20       5\n",
       "9      21       2       5"
      ]
     },
     "execution_count": 80,
     "metadata": {
      "tags": []
     },
     "output_type": "execute_result"
    }
   ],
   "source": [
    "bitcoin = pd.read_csv(\"https://raw.githubusercontent.com/mharrisonbaker/DATA620/main/soc-sign-bitcoinotc.csv\", header=None, names=['source', 'target', 'rating', 'time'])\n",
    "\n",
    "bitcoin = bitcoin.drop(columns = ['time'])\n",
    "\n",
    "bitcoin.head(10)"
   ]
  },
  {
   "cell_type": "code",
   "execution_count": 81,
   "metadata": {
    "colab": {
     "base_uri": "https://localhost:8080/",
     "height": 419
    },
    "id": "9wcqXIh5zDY-",
    "outputId": "c5c8ecd3-9886-42b3-91e3-75297ec1085a"
   },
   "outputs": [
    {
     "data": {
      "text/html": [
       "<div>\n",
       "<style scoped>\n",
       "    .dataframe tbody tr th:only-of-type {\n",
       "        vertical-align: middle;\n",
       "    }\n",
       "\n",
       "    .dataframe tbody tr th {\n",
       "        vertical-align: top;\n",
       "    }\n",
       "\n",
       "    .dataframe thead th {\n",
       "        text-align: right;\n",
       "    }\n",
       "</style>\n",
       "<table border=\"1\" class=\"dataframe\">\n",
       "  <thead>\n",
       "    <tr style=\"text-align: right;\">\n",
       "      <th></th>\n",
       "      <th>source</th>\n",
       "      <th>target</th>\n",
       "      <th>rating</th>\n",
       "    </tr>\n",
       "  </thead>\n",
       "  <tbody>\n",
       "    <tr>\n",
       "      <th>0</th>\n",
       "      <td>6</td>\n",
       "      <td>2</td>\n",
       "      <td>1</td>\n",
       "    </tr>\n",
       "    <tr>\n",
       "      <th>1</th>\n",
       "      <td>6</td>\n",
       "      <td>5</td>\n",
       "      <td>1</td>\n",
       "    </tr>\n",
       "    <tr>\n",
       "      <th>2</th>\n",
       "      <td>1</td>\n",
       "      <td>15</td>\n",
       "      <td>1</td>\n",
       "    </tr>\n",
       "    <tr>\n",
       "      <th>3</th>\n",
       "      <td>4</td>\n",
       "      <td>3</td>\n",
       "      <td>1</td>\n",
       "    </tr>\n",
       "    <tr>\n",
       "      <th>4</th>\n",
       "      <td>13</td>\n",
       "      <td>16</td>\n",
       "      <td>1</td>\n",
       "    </tr>\n",
       "    <tr>\n",
       "      <th>...</th>\n",
       "      <td>...</td>\n",
       "      <td>...</td>\n",
       "      <td>...</td>\n",
       "    </tr>\n",
       "    <tr>\n",
       "      <th>35587</th>\n",
       "      <td>4499</td>\n",
       "      <td>1810</td>\n",
       "      <td>1</td>\n",
       "    </tr>\n",
       "    <tr>\n",
       "      <th>35588</th>\n",
       "      <td>2731</td>\n",
       "      <td>3901</td>\n",
       "      <td>1</td>\n",
       "    </tr>\n",
       "    <tr>\n",
       "      <th>35589</th>\n",
       "      <td>2731</td>\n",
       "      <td>4897</td>\n",
       "      <td>1</td>\n",
       "    </tr>\n",
       "    <tr>\n",
       "      <th>35590</th>\n",
       "      <td>13</td>\n",
       "      <td>1128</td>\n",
       "      <td>1</td>\n",
       "    </tr>\n",
       "    <tr>\n",
       "      <th>35591</th>\n",
       "      <td>1128</td>\n",
       "      <td>13</td>\n",
       "      <td>1</td>\n",
       "    </tr>\n",
       "  </tbody>\n",
       "</table>\n",
       "<p>35592 rows × 3 columns</p>\n",
       "</div>"
      ],
      "text/plain": [
       "       source  target  rating\n",
       "0           6       2       1\n",
       "1           6       5       1\n",
       "2           1      15       1\n",
       "3           4       3       1\n",
       "4          13      16       1\n",
       "...       ...     ...     ...\n",
       "35587    4499    1810       1\n",
       "35588    2731    3901       1\n",
       "35589    2731    4897       1\n",
       "35590      13    1128       1\n",
       "35591    1128      13       1\n",
       "\n",
       "[35592 rows x 3 columns]"
      ]
     },
     "execution_count": 81,
     "metadata": {
      "tags": []
     },
     "output_type": "execute_result"
    }
   ],
   "source": [
    "bitcoin['rating'] = bitcoin['rating']>0\n",
    "bitcoin['rating'] = (bitcoin['rating']).astype(int)\n",
    "bitcoin"
   ]
  },
  {
   "cell_type": "markdown",
   "metadata": {
    "id": "bQ0U42do9pBr"
   },
   "source": [
    "In order to create a categorical variable the rating column is given a \"1\" for positive ratings and \"0\" for negative ratings."
   ]
  },
  {
   "cell_type": "code",
   "execution_count": 82,
   "metadata": {
    "colab": {
     "base_uri": "https://localhost:8080/",
     "height": 297
    },
    "id": "XFaNX67QyzHI",
    "outputId": "e732dab6-3e79-4598-8a39-35f9e7d7c502"
   },
   "outputs": [
    {
     "data": {
      "text/html": [
       "<div>\n",
       "<style scoped>\n",
       "    .dataframe tbody tr th:only-of-type {\n",
       "        vertical-align: middle;\n",
       "    }\n",
       "\n",
       "    .dataframe tbody tr th {\n",
       "        vertical-align: top;\n",
       "    }\n",
       "\n",
       "    .dataframe thead th {\n",
       "        text-align: right;\n",
       "    }\n",
       "</style>\n",
       "<table border=\"1\" class=\"dataframe\">\n",
       "  <thead>\n",
       "    <tr style=\"text-align: right;\">\n",
       "      <th></th>\n",
       "      <th>source</th>\n",
       "      <th>target</th>\n",
       "      <th>rating</th>\n",
       "    </tr>\n",
       "  </thead>\n",
       "  <tbody>\n",
       "    <tr>\n",
       "      <th>count</th>\n",
       "      <td>35592.000000</td>\n",
       "      <td>35592.000000</td>\n",
       "      <td>35592.000000</td>\n",
       "    </tr>\n",
       "    <tr>\n",
       "      <th>mean</th>\n",
       "      <td>2353.847269</td>\n",
       "      <td>2417.478254</td>\n",
       "      <td>0.899893</td>\n",
       "    </tr>\n",
       "    <tr>\n",
       "      <th>std</th>\n",
       "      <td>1605.771178</td>\n",
       "      <td>1658.232170</td>\n",
       "      <td>0.300147</td>\n",
       "    </tr>\n",
       "    <tr>\n",
       "      <th>min</th>\n",
       "      <td>1.000000</td>\n",
       "      <td>1.000000</td>\n",
       "      <td>0.000000</td>\n",
       "    </tr>\n",
       "    <tr>\n",
       "      <th>25%</th>\n",
       "      <td>988.000000</td>\n",
       "      <td>978.000000</td>\n",
       "      <td>1.000000</td>\n",
       "    </tr>\n",
       "    <tr>\n",
       "      <th>50%</th>\n",
       "      <td>2125.000000</td>\n",
       "      <td>2178.000000</td>\n",
       "      <td>1.000000</td>\n",
       "    </tr>\n",
       "    <tr>\n",
       "      <th>75%</th>\n",
       "      <td>3722.000000</td>\n",
       "      <td>3804.000000</td>\n",
       "      <td>1.000000</td>\n",
       "    </tr>\n",
       "    <tr>\n",
       "      <th>max</th>\n",
       "      <td>6000.000000</td>\n",
       "      <td>6005.000000</td>\n",
       "      <td>1.000000</td>\n",
       "    </tr>\n",
       "  </tbody>\n",
       "</table>\n",
       "</div>"
      ],
      "text/plain": [
       "             source        target        rating\n",
       "count  35592.000000  35592.000000  35592.000000\n",
       "mean    2353.847269   2417.478254      0.899893\n",
       "std     1605.771178   1658.232170      0.300147\n",
       "min        1.000000      1.000000      0.000000\n",
       "25%      988.000000    978.000000      1.000000\n",
       "50%     2125.000000   2178.000000      1.000000\n",
       "75%     3722.000000   3804.000000      1.000000\n",
       "max     6000.000000   6005.000000      1.000000"
      ]
     },
     "execution_count": 82,
     "metadata": {
      "tags": []
     },
     "output_type": "execute_result"
    }
   ],
   "source": [
    "bitcoin.describe()"
   ]
  },
  {
   "cell_type": "code",
   "execution_count": 83,
   "metadata": {
    "id": "6qcZ4tuhyzHI"
   },
   "outputs": [],
   "source": [
    "# built the graph\n",
    "G = nx.from_pandas_edgelist(bitcoin, 'source', 'target', 'rating', )"
   ]
  },
  {
   "cell_type": "code",
   "execution_count": 84,
   "metadata": {
    "colab": {
     "base_uri": "https://localhost:8080/",
     "height": 319
    },
    "id": "O2JSL2tXyzHJ",
    "outputId": "28669514-fef0-499d-e3ee-de70bd7224b5"
   },
   "outputs": [
    {
     "data": {
      "image/png": "[encoded data removed]",
      "text/plain": [
       "<Figure size 432x288 with 1 Axes>"
      ]
     },
     "metadata": {
      "tags": []
     },
     "output_type": "display_data"
    }
   ],
   "source": [
    "nx.draw_spring(G,with_labels = False, node_color=\"steelblue\", alpha=0.5)"
   ]
  },
  {
   "cell_type": "code",
   "execution_count": 85,
   "metadata": {
    "colab": {
     "base_uri": "https://localhost:8080/"
    },
    "id": "OxEAGrCeyzHJ",
    "outputId": "6654b207-b2d4-43d8-e701-d1b8520ae2b4"
   },
   "outputs": [
    {
     "name": "stdout",
     "output_type": "stream",
     "text": [
      "Name: \n",
      "Type: Graph\n",
      "Number of nodes: 5881\n",
      "Number of edges: 21492\n",
      "Average degree:   7.3090\n"
     ]
    }
   ],
   "source": [
    "print(nx.info(G))"
   ]
  },
  {
   "cell_type": "code",
   "execution_count": 86,
   "metadata": {
    "colab": {
     "base_uri": "https://localhost:8080/"
    },
    "id": "PPAeUJ6KyzHJ",
    "outputId": "dea65add-0d7d-4304-c199-4ab4ad19fe0a"
   },
   "outputs": [
    {
     "name": "stdout",
     "output_type": "stream",
     "text": [
      "Number of Nodes: 5881\n",
      "Number of Edges: 21492\n"
     ]
    }
   ],
   "source": [
    "print(\"Number of Nodes: \" + str(nx.number_of_nodes(G)))\n",
    "print(\"Number of Edges: \" + str(nx.number_of_edges(G)))"
   ]
  },
  {
   "cell_type": "markdown",
   "metadata": {
    "id": "ebONcfLByzHK"
   },
   "source": [
    "We see that for this graph there are 5881 nodes and 21492 edges."
   ]
  },
  {
   "cell_type": "code",
   "execution_count": 106,
   "metadata": {
    "colab": {
     "base_uri": "https://localhost:8080/"
    },
    "id": "Hpl7vbPp-mA7",
    "outputId": "d73cd7bb-5a9b-42e9-c246-5a64e1190988"
   },
   "outputs": [
    {
     "data": {
      "text/plain": [
       "9"
      ]
     },
     "execution_count": 106,
     "metadata": {
      "tags": []
     },
     "output_type": "execute_result"
    }
   ],
   "source": [
    "#degree of biggest subgraph\n",
    "Gcc = sorted(nx.connected_components(G), key=len, reverse=True)\n",
    "G0 = G.subgraph(Gcc[0])\n",
    "nx.diameter(G0)"
   ]
  },
  {
   "cell_type": "markdown",
   "metadata": {
    "id": "mNqQFZp8AdSg"
   },
   "source": [
    "This graph is not fully connected, so we are measuring the diameter of the biggest subgraph. We found the diameter to be 9."
   ]
  },
  {
   "cell_type": "markdown",
   "metadata": {
    "id": "o-W9JbVRyzHL"
   },
   "source": [
    "# Calculate Degree Centrality"
   ]
  },
  {
   "cell_type": "markdown",
   "metadata": {
    "id": "wXvXTcpYyzHM"
   },
   "source": [
    "Degree centrality is the simplest centrality measure to compute. Recall that a node's degree is simply a count of how many social connections (i.e., edges) it has. The degree centrality for a node is simply its degree. A node with 10 social connections would have a degree centrality of 10. A node with 1 edge would have a degree centrality of 1."
   ]
  },
  {
   "cell_type": "code",
   "execution_count": 89,
   "metadata": {
    "id": "usEe41JryzHM"
   },
   "outputs": [],
   "source": [
    "deg_centrality = nx.degree_centrality(G) # compute degree centrality for each node\n",
    "eigen_centrality = nx.eigenvector_centrality(G) # compute eigenvector centrality for each node"
   ]
  },
  {
   "cell_type": "code",
   "execution_count": 90,
   "metadata": {
    "colab": {
     "base_uri": "https://localhost:8080/",
     "height": 286
    },
    "id": "pz-26Z_6yzHM",
    "outputId": "d155fbe0-0ef6-42dd-b3fa-7c3fa0ad489e"
   },
   "outputs": [
    {
     "data": {
      "text/plain": [
       "[<matplotlib.lines.Line2D at 0x7f17e7d6b950>]"
      ]
     },
     "execution_count": 90,
     "metadata": {
      "tags": []
     },
     "output_type": "execute_result"
    },
    {
     "data": {
      "image/png": "[encoded data removed]",
      "text/plain": [
       "<Figure size 432x288 with 1 Axes>"
      ]
     },
     "metadata": {
      "needs_background": "light",
      "tags": []
     },
     "output_type": "display_data"
    }
   ],
   "source": [
    "# display a histogram of node degrees in 100 bins\n",
    "h = plt.hist(deg_centrality.values(), 100)\n",
    "plt.loglog(h[1][1:], h[0])"
   ]
  },
  {
   "cell_type": "code",
   "execution_count": 91,
   "metadata": {
    "colab": {
     "base_uri": "https://localhost:8080/",
     "height": 359
    },
    "id": "-GpblZrbyzHN",
    "outputId": "3f9f832d-4c1c-4af6-f757-5d927c4dc08f"
   },
   "outputs": [
    {
     "data": {
      "text/html": [
       "<div>\n",
       "<style scoped>\n",
       "    .dataframe tbody tr th:only-of-type {\n",
       "        vertical-align: middle;\n",
       "    }\n",
       "\n",
       "    .dataframe tbody tr th {\n",
       "        vertical-align: top;\n",
       "    }\n",
       "\n",
       "    .dataframe thead th {\n",
       "        text-align: right;\n",
       "    }\n",
       "</style>\n",
       "<table border=\"1\" class=\"dataframe\">\n",
       "  <thead>\n",
       "    <tr style=\"text-align: right;\">\n",
       "      <th></th>\n",
       "      <th>node</th>\n",
       "      <th>Deg_centrality</th>\n",
       "    </tr>\n",
       "  </thead>\n",
       "  <tbody>\n",
       "    <tr>\n",
       "      <th>0</th>\n",
       "      <td>35</td>\n",
       "      <td>0.135204</td>\n",
       "    </tr>\n",
       "    <tr>\n",
       "      <th>1</th>\n",
       "      <td>1810</td>\n",
       "      <td>0.074660</td>\n",
       "    </tr>\n",
       "    <tr>\n",
       "      <th>2</th>\n",
       "      <td>2642</td>\n",
       "      <td>0.074490</td>\n",
       "    </tr>\n",
       "    <tr>\n",
       "      <th>3</th>\n",
       "      <td>2125</td>\n",
       "      <td>0.074150</td>\n",
       "    </tr>\n",
       "    <tr>\n",
       "      <th>4</th>\n",
       "      <td>2028</td>\n",
       "      <td>0.055442</td>\n",
       "    </tr>\n",
       "    <tr>\n",
       "      <th>5</th>\n",
       "      <td>905</td>\n",
       "      <td>0.054422</td>\n",
       "    </tr>\n",
       "    <tr>\n",
       "      <th>6</th>\n",
       "      <td>4172</td>\n",
       "      <td>0.049830</td>\n",
       "    </tr>\n",
       "    <tr>\n",
       "      <th>7</th>\n",
       "      <td>1</td>\n",
       "      <td>0.044898</td>\n",
       "    </tr>\n",
       "    <tr>\n",
       "      <th>8</th>\n",
       "      <td>7</td>\n",
       "      <td>0.040646</td>\n",
       "    </tr>\n",
       "    <tr>\n",
       "      <th>9</th>\n",
       "      <td>3129</td>\n",
       "      <td>0.036905</td>\n",
       "    </tr>\n",
       "  </tbody>\n",
       "</table>\n",
       "</div>"
      ],
      "text/plain": [
       "   node  Deg_centrality\n",
       "0    35        0.135204\n",
       "1  1810        0.074660\n",
       "2  2642        0.074490\n",
       "3  2125        0.074150\n",
       "4  2028        0.055442\n",
       "5   905        0.054422\n",
       "6  4172        0.049830\n",
       "7     1        0.044898\n",
       "8     7        0.040646\n",
       "9  3129        0.036905"
      ]
     },
     "execution_count": 91,
     "metadata": {
      "tags": []
     },
     "output_type": "execute_result"
    }
   ],
   "source": [
    "df = pd.DataFrame.from_dict({\n",
    "    'node': list(deg_centrality.keys()),\n",
    "    'Deg_centrality': list(deg_centrality.values())\n",
    "})\n",
    "df = df.sort_values('Deg_centrality', ascending=False).reset_index(drop=True) \n",
    "\n",
    "# Find the Top 10 nodes by Degree centrality:\n",
    "df[0:10]"
   ]
  },
  {
   "cell_type": "code",
   "execution_count": 92,
   "metadata": {
    "colab": {
     "base_uri": "https://localhost:8080/",
     "height": 298
    },
    "id": "IKNpkGhmyzHN",
    "outputId": "48c2d4e7-d576-47cc-8d20-3aeb5a5cad39"
   },
   "outputs": [
    {
     "data": {
      "text/plain": [
       "Text(0, 0.5, 'Frequency')"
      ]
     },
     "execution_count": 92,
     "metadata": {
      "tags": []
     },
     "output_type": "execute_result"
    },
    {
     "data": {
      "image/png": "[encoded data removed]",
      "text/plain": [
       "<Figure size 504x288 with 1 Axes>"
      ]
     },
     "metadata": {
      "needs_background": "light",
      "tags": []
     },
     "output_type": "display_data"
    }
   ],
   "source": [
    "plt.figure(figsize=(7,4))\n",
    "plt.hist(dict(deg_centrality).values(), 14, color = \"steelblue\")\n",
    "plt.xlabel('Degrees')\n",
    "plt.ylabel('Frequency')"
   ]
  },
  {
   "cell_type": "markdown",
   "metadata": {
    "id": "DEHE8EwIyzHN"
   },
   "source": [
    "The distribution of degrees in the network is heavily left skewed."
   ]
  },
  {
   "cell_type": "markdown",
   "metadata": {
    "id": "2I6gKgJ_yzHO"
   },
   "source": [
    "# Calculate Eigenvector Centrality"
   ]
  },
  {
   "cell_type": "markdown",
   "metadata": {
    "id": "B1eyvWDAyzHO"
   },
   "source": [
    "In graph theory, eigenvector centrality (also called eigencentrality) is a measure of the influence of a node in a network. It assigns relative scores to all nodes in the network based on the concept that connections to high-scoring nodes contribute more to the score of the node in question than equal connections to low-scoring nodes. Eigenvector centrality is a more sophisticated view of centrality: a node with a few connections could have a very high eigenvector centrality if those few connections were to very well-connected others. We can see some similarities within both measures."
   ]
  },
  {
   "cell_type": "code",
   "execution_count": 93,
   "metadata": {
    "colab": {
     "base_uri": "https://localhost:8080/",
     "height": 286
    },
    "id": "5eoyri9TyzHO",
    "outputId": "d335d336-f546-4fbc-c2da-ea1fbc5ed782"
   },
   "outputs": [
    {
     "data": {
      "text/plain": [
       "[<matplotlib.lines.Line2D at 0x7f17e6ce6fd0>]"
      ]
     },
     "execution_count": 93,
     "metadata": {
      "tags": []
     },
     "output_type": "execute_result"
    },
    {
     "data": {
      "image/png": "[encoded data removed]",
      "text/plain": [
       "<Figure size 432x288 with 1 Axes>"
      ]
     },
     "metadata": {
      "needs_background": "light",
      "tags": []
     },
     "output_type": "display_data"
    }
   ],
   "source": [
    "# display a histogram of node degrees in 100 bins\n",
    "eigen_h = plt.hist(eigen_centrality.values(), 100)\n",
    "plt.loglog(eigen_h[1][1:], h[0])"
   ]
  },
  {
   "cell_type": "code",
   "execution_count": 94,
   "metadata": {
    "colab": {
     "base_uri": "https://localhost:8080/",
     "height": 359
    },
    "id": "f8Dr9n5ByzHP",
    "outputId": "d9140efd-892e-4677-93b0-1c5a98982885"
   },
   "outputs": [
    {
     "data": {
      "text/html": [
       "<div>\n",
       "<style scoped>\n",
       "    .dataframe tbody tr th:only-of-type {\n",
       "        vertical-align: middle;\n",
       "    }\n",
       "\n",
       "    .dataframe tbody tr th {\n",
       "        vertical-align: top;\n",
       "    }\n",
       "\n",
       "    .dataframe thead th {\n",
       "        text-align: right;\n",
       "    }\n",
       "</style>\n",
       "<table border=\"1\" class=\"dataframe\">\n",
       "  <thead>\n",
       "    <tr style=\"text-align: right;\">\n",
       "      <th></th>\n",
       "      <th>node</th>\n",
       "      <th>Eigenvector</th>\n",
       "    </tr>\n",
       "  </thead>\n",
       "  <tbody>\n",
       "    <tr>\n",
       "      <th>0</th>\n",
       "      <td>905</td>\n",
       "      <td>0.188653</td>\n",
       "    </tr>\n",
       "    <tr>\n",
       "      <th>1</th>\n",
       "      <td>1810</td>\n",
       "      <td>0.182641</td>\n",
       "    </tr>\n",
       "    <tr>\n",
       "      <th>2</th>\n",
       "      <td>2642</td>\n",
       "      <td>0.175077</td>\n",
       "    </tr>\n",
       "    <tr>\n",
       "      <th>3</th>\n",
       "      <td>2028</td>\n",
       "      <td>0.154839</td>\n",
       "    </tr>\n",
       "    <tr>\n",
       "      <th>4</th>\n",
       "      <td>2125</td>\n",
       "      <td>0.148704</td>\n",
       "    </tr>\n",
       "    <tr>\n",
       "      <th>5</th>\n",
       "      <td>35</td>\n",
       "      <td>0.146066</td>\n",
       "    </tr>\n",
       "    <tr>\n",
       "      <th>6</th>\n",
       "      <td>1</td>\n",
       "      <td>0.140850</td>\n",
       "    </tr>\n",
       "    <tr>\n",
       "      <th>7</th>\n",
       "      <td>1334</td>\n",
       "      <td>0.135365</td>\n",
       "    </tr>\n",
       "    <tr>\n",
       "      <th>8</th>\n",
       "      <td>4172</td>\n",
       "      <td>0.135335</td>\n",
       "    </tr>\n",
       "    <tr>\n",
       "      <th>9</th>\n",
       "      <td>2388</td>\n",
       "      <td>0.133787</td>\n",
       "    </tr>\n",
       "  </tbody>\n",
       "</table>\n",
       "</div>"
      ],
      "text/plain": [
       "   node  Eigenvector\n",
       "0   905     0.188653\n",
       "1  1810     0.182641\n",
       "2  2642     0.175077\n",
       "3  2028     0.154839\n",
       "4  2125     0.148704\n",
       "5    35     0.146066\n",
       "6     1     0.140850\n",
       "7  1334     0.135365\n",
       "8  4172     0.135335\n",
       "9  2388     0.133787"
      ]
     },
     "execution_count": 94,
     "metadata": {
      "tags": []
     },
     "output_type": "execute_result"
    }
   ],
   "source": [
    "ds = pd.DataFrame.from_dict({\n",
    "    'node': list(eigen_centrality.keys()),\n",
    "    'Eigenvector': list(eigen_centrality.values())\n",
    "})\n",
    "ds = ds.sort_values('Eigenvector', ascending=False).reset_index(drop=True) \n",
    "\n",
    "# Find the Top 10 nodes by Eigenvector centrality:\n",
    "ds[0:10]"
   ]
  },
  {
   "cell_type": "code",
   "execution_count": 95,
   "metadata": {
    "colab": {
     "base_uri": "https://localhost:8080/",
     "height": 296
    },
    "id": "YhymxWeTyzHP",
    "outputId": "c1c3a9e6-7ddf-4924-fd9e-bf4fbc6615ab"
   },
   "outputs": [
    {
     "data": {
      "text/plain": [
       "Text(0, 0.5, 'Frequency')"
      ]
     },
     "execution_count": 95,
     "metadata": {
      "tags": []
     },
     "output_type": "execute_result"
    },
    {
     "data": {
      "image/png": "[encoded data removed]",
      "text/plain": [
       "<Figure size 504x288 with 1 Axes>"
      ]
     },
     "metadata": {
      "needs_background": "light",
      "tags": []
     },
     "output_type": "display_data"
    }
   ],
   "source": [
    "plt.figure(figsize=(7,4))\n",
    "plt.hist(dict(eigen_centrality).values(), 14, color = \"steelblue\")\n",
    "plt.xlabel('Degrees')\n",
    "plt.ylabel('Frequency')"
   ]
  },
  {
   "cell_type": "code",
   "execution_count": 96,
   "metadata": {
    "colab": {
     "base_uri": "https://localhost:8080/"
    },
    "id": "Dg-RV-q-yzHP",
    "outputId": "ee7ac8ab-81d5-48c6-a8c6-59b8075aca94"
   },
   "outputs": [
    {
     "name": "stdout",
     "output_type": "stream",
     "text": [
      "Network density: 0.001243020588612932\n"
     ]
    }
   ],
   "source": [
    "density = nx.density(G)\n",
    "print(\"Network density:\", density)"
   ]
  },
  {
   "cell_type": "markdown",
   "metadata": {
    "id": "ydLmHZ52yzHP"
   },
   "source": [
    "Network density is the ratio of actual edges in the network to all possible edges in the network. 0 would mean that there are no connections at all, and 1 would indicate that all possible edges are present. In this case, the density of this network is approximately 0.0012. So there is not a very dense network."
   ]
  },
  {
   "cell_type": "markdown",
   "metadata": {
    "id": "9ejDdPnvyzHQ"
   },
   "source": [
    "# T-Test"
   ]
  },
  {
   "cell_type": "markdown",
   "metadata": {
    "id": "wDc7eEoZyzHQ"
   },
   "source": [
    "We will group the network into two sets as Untrust and Trust network: Data of rating = 0 (a negative rating) is grouped as Untrust group and data of rating = 1 (positive rating) is treated as Trust group. We will perform a t-test to determine if there is a significant difference between the centrality measures of these two groups."
   ]
  },
  {
   "cell_type": "markdown",
   "metadata": {
    "id": "Ww86bpkTyzHQ"
   },
   "source": [
    "Our null hypothesis is that the mean of degree centrality is no difference between Untrust and Trust group. \n",
    "\n",
    "Likewise that the mean of eigenvector centrality is no difference between Untrust and Trust group."
   ]
  },
  {
   "cell_type": "code",
   "execution_count": 97,
   "metadata": {
    "id": "2nu3O8a4yzHQ"
   },
   "outputs": [],
   "source": [
    "new_data = bitcoin.iloc[:, :3].copy()\n",
    "data_untrust = new_data[new_data['rating'] == 0].copy(deep=True) # Create Untrust group\n",
    "data_trust = new_data[new_data['rating'] >= 1].copy(deep=True) # Create Trust group"
   ]
  },
  {
   "cell_type": "code",
   "execution_count": 98,
   "metadata": {
    "id": "_STANGKZyzHR"
   },
   "outputs": [],
   "source": [
    "data_untrust = data_untrust.reset_index()\n",
    "del data_untrust['index']\n",
    "data_trust = data_trust.reset_index()\n",
    "del data_trust['index']\n",
    "\n",
    "G_data_untrust = nx.from_pandas_edgelist(data_untrust, \"source\", \"target\", \"rating\") # Create Untrust dataframe\n",
    "G_data_trust = nx.from_pandas_edgelist(data_trust, \"source\", \"target\", \"rating\") # Create Trust dataframe"
   ]
  },
  {
   "cell_type": "code",
   "execution_count": 99,
   "metadata": {
    "colab": {
     "base_uri": "https://localhost:8080/"
    },
    "id": "Ph3QdZa3yzHR",
    "outputId": "6e82ba6c-9d84-4328-9f0f-27b87642f901"
   },
   "outputs": [
    {
     "data": {
      "text/plain": [
       "<bound method DataFrame.count of       source  target  rating\n",
       "0        104     179       0\n",
       "1        200     179       0\n",
       "2        149     179       0\n",
       "3          7     179       0\n",
       "4        135     179       0\n",
       "...      ...     ...     ...\n",
       "3558      96    3345       0\n",
       "3559    3919    3345       0\n",
       "3560    4205       3       0\n",
       "3561    1396    3345       0\n",
       "3562    1953    5655       0\n",
       "\n",
       "[3563 rows x 3 columns]>"
      ]
     },
     "execution_count": 99,
     "metadata": {
      "tags": []
     },
     "output_type": "execute_result"
    }
   ],
   "source": [
    "data_untrust.count"
   ]
  },
  {
   "cell_type": "markdown",
   "metadata": {
    "id": "Wo4gUWIvyzHR"
   },
   "source": [
    "Here we see the count for the Untrust group."
   ]
  },
  {
   "cell_type": "code",
   "execution_count": 100,
   "metadata": {
    "colab": {
     "base_uri": "https://localhost:8080/"
    },
    "id": "vvOP0a0PyzHS",
    "outputId": "57aa7da1-1b0f-452d-fe91-ca0b81f32439"
   },
   "outputs": [
    {
     "data": {
      "text/plain": [
       "<bound method DataFrame.count of        source  target  rating\n",
       "0           6       2       1\n",
       "1           6       5       1\n",
       "2           1      15       1\n",
       "3           4       3       1\n",
       "4          13      16       1\n",
       "...       ...     ...     ...\n",
       "32024    4499    1810       1\n",
       "32025    2731    3901       1\n",
       "32026    2731    4897       1\n",
       "32027      13    1128       1\n",
       "32028    1128      13       1\n",
       "\n",
       "[32029 rows x 3 columns]>"
      ]
     },
     "execution_count": 100,
     "metadata": {
      "tags": []
     },
     "output_type": "execute_result"
    }
   ],
   "source": [
    "data_trust.count"
   ]
  },
  {
   "cell_type": "markdown",
   "metadata": {
    "id": "rmso766HyzHS"
   },
   "source": [
    "Here we see the count for the Trust group."
   ]
  },
  {
   "cell_type": "code",
   "execution_count": 101,
   "metadata": {
    "id": "XKzWk45IyzHS"
   },
   "outputs": [],
   "source": [
    "# Run degree centrality for untrust and trust\n",
    "data_untrust_degree_dict = nx.degree_centrality(G_data_untrust) \n",
    "data_trust_degree_dict = nx.degree_centrality(G_data_trust) \n",
    "\n",
    "# Run eigenvector centrality for untrust and trust\n",
    "data_untrust_eigenvector_dict = nx.eigenvector_centrality(G_data_untrust)\n",
    "data_trust_eigenvector_dict = nx.eigenvector_centrality(G_data_trust)"
   ]
  },
  {
   "cell_type": "code",
   "execution_count": 102,
   "metadata": {
    "id": "7LGqzvjeyzHT"
   },
   "outputs": [],
   "source": [
    "untrust_sorted_degree = sorted(data_untrust_degree_dict.items(), key=itemgetter(1), reverse=True)\n",
    "untrust_sorted_degree = DataFrame(untrust_sorted_degree, columns=['Node', 'Degree'])\n",
    "\n",
    "trust_sorted_degree = sorted(data_trust_degree_dict.items(), key=itemgetter(1), reverse=True)\n",
    "trust_sorted_degree = DataFrame(trust_sorted_degree, columns=['Node', 'Degree'])"
   ]
  },
  {
   "cell_type": "code",
   "execution_count": 103,
   "metadata": {
    "id": "boyrKhboyzHT"
   },
   "outputs": [],
   "source": [
    "untrust_sorted_eigenvector = sorted(data_untrust_eigenvector_dict.items(), key=itemgetter(1), reverse=True)    \n",
    "untrust_sorted_eigenvector = DataFrame(untrust_sorted_eigenvector, columns=['Node', 'Eigenvenctor'])\n",
    "\n",
    "trust_sorted_eigenvector = sorted(data_trust_eigenvector_dict.items(), key=itemgetter(1), reverse=True)\n",
    "trust_sorted_eigenvector = DataFrame(trust_sorted_eigenvector,columns=['Node', 'Eigenvenctor'])"
   ]
  },
  {
   "cell_type": "markdown",
   "metadata": {
    "id": "ohv3gUJNyzHT"
   },
   "source": [
    "Above we created degree and eigenvector centrality for both groups, Untrust and Trust. Let's calculate the T-test for Degree centrality."
   ]
  },
  {
   "cell_type": "code",
   "execution_count": 104,
   "metadata": {
    "colab": {
     "base_uri": "https://localhost:8080/"
    },
    "id": "VpnXjA8KyzHT",
    "outputId": "1c6af5a4-da89-41cc-ede9-031ebcdf0a0b"
   },
   "outputs": [
    {
     "name": "stdout",
     "output_type": "stream",
     "text": [
      "t-test results for degree centrality: Ttest_1sampResult(statistic=15.33911754263351, pvalue=6.290140768851179e-49)\n"
     ]
    }
   ],
   "source": [
    "degree_diff = pd.merge(left = untrust_sorted_degree, right = trust_sorted_degree , on='Node', suffixes=['_l', '_r'])\n",
    "\n",
    "degree_diff['difference'] = degree_diff.apply(lambda row: abs(row['Degree_l']-row['Degree_r']), axis=1)\n",
    "\n",
    "print(\"t-test results for degree centrality: \" + str(ttest_1samp(degree_diff['difference'], 0)))"
   ]
  },
  {
   "cell_type": "markdown",
   "metadata": {
    "id": "FquYdcPZyzHU"
   },
   "source": [
    "Since the pvalue (6.29e-49) is less than 0.05 and greater than 0, the null hypothesis is rejected. We have statistical evidence to claim that there is a statistically difference in the degree centrality between Untrust and Trust nodes."
   ]
  },
  {
   "cell_type": "markdown",
   "metadata": {
    "id": "xeUEnGs7yzHU"
   },
   "source": [
    "Let's calculate the T-test for Eigenvector centrality."
   ]
  },
  {
   "cell_type": "code",
   "execution_count": 105,
   "metadata": {
    "colab": {
     "base_uri": "https://localhost:8080/"
    },
    "id": "v_Yp3OF7yzHU",
    "outputId": "a842874c-d81c-420d-a7e9-f043bc223aaf"
   },
   "outputs": [
    {
     "name": "stdout",
     "output_type": "stream",
     "text": [
      "t-test results for eigenvector centrality: Ttest_1sampResult(statistic=21.85899104249653, pvalue=1.973093377052414e-90)\n"
     ]
    }
   ],
   "source": [
    "eigenvector_diff = pd.merge(left = untrust_sorted_eigenvector, right = trust_sorted_eigenvector , on='Node', suffixes=['_l', '_r'])\n",
    "\n",
    "eigenvector_diff['difference'] = eigenvector_diff.apply(lambda row: abs(row['Eigenvenctor_l']-row['Eigenvenctor_r']), axis=1)\n",
    "\n",
    "print(\"t-test results for eigenvector centrality: \" + str(ttest_1samp(eigenvector_diff['difference'], 0)))"
   ]
  },
  {
   "cell_type": "markdown",
   "metadata": {
    "id": "XsYHQMpfyzHV"
   },
   "source": [
    "Since the pvalue (1.97e-90) is less than 0.05 and greater than 0,\n",
    "the null hypothesis is rejected. We have statistical evidence to claim that there is a statistically difference in the eigenvector centrality between Untrust and Trust nodes."
   ]
  },
  {
   "cell_type": "markdown",
   "metadata": {},
   "source": [
    "# Video Presentation"
   ]
  },
  {
   "cell_type": "markdown",
   "metadata": {},
   "source": [
    "The video presentation for this project can be found [here](https://youtu.be/lkk6PV4i1RQ)."
   ]
  }
 ],
 "metadata": {
  "colab": {
   "name": "Project_1.ipynb",
   "provenance": []
  },
  "kernelspec": {
   "display_name": "Python 3",
   "language": "python",
   "name": "python3"
  },
  "language_info": {
   "codemirror_mode": {
    "name": "ipython",
    "version": 3
   },
   "file_extension": ".py",
   "mimetype": "text/x-python",
   "name": "python",
   "nbconvert_exporter": "python",
   "pygments_lexer": "ipython3",
   "version": "3.7.4"
  }
 },
 "nbformat": 4,
 "nbformat_minor": 1
}
